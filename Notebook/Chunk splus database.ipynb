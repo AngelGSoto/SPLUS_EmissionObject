{
 "cells": [
  {
   "cell_type": "code",
   "execution_count": 4,
   "id": "divided-packaging",
   "metadata": {},
   "outputs": [],
   "source": [
    "import splusdata"
   ]
  },
  {
   "cell_type": "code",
   "execution_count": 5,
   "id": "liquid-consultancy",
   "metadata": {},
   "outputs": [
    {
     "name": "stdout",
     "output_type": "stream",
     "text": [
      "You have access to internal data\n"
     ]
    }
   ],
   "source": [
    "conn = splusdata.connect(' ', ' ') ## from splus.cloud"
   ]
  },
  {
   "cell_type": "code",
   "execution_count": 6,
   "id": "aquatic-partnership",
   "metadata": {},
   "outputs": [
    {
     "name": "stdout",
     "output_type": "stream",
     "text": [
      "Tables and columns info at https://splus.cloud/\n"
     ]
    }
   ],
   "source": [
    "conn.get_tap_tables()"
   ]
  },
  {
   "cell_type": "code",
   "execution_count": null,
   "id": "controversial-character",
   "metadata": {},
   "outputs": [],
   "source": []
  },
  {
   "cell_type": "code",
   "execution_count": null,
   "id": "minor-tragedy",
   "metadata": {},
   "outputs": [],
   "source": []
  },
  {
   "cell_type": "code",
   "execution_count": null,
   "id": "working-missouri",
   "metadata": {},
   "outputs": [],
   "source": []
  }
 ],
 "metadata": {
  "kernelspec": {
   "display_name": "Python 3 (ipykernel)",
   "language": "python",
   "name": "python3"
  },
  "language_info": {
   "codemirror_mode": {
    "name": "ipython",
    "version": 3
   },
   "file_extension": ".py",
   "mimetype": "text/x-python",
   "name": "python",
   "nbconvert_exporter": "python",
   "pygments_lexer": "ipython3",
   "version": "3.8.5"
  }
 },
 "nbformat": 4,
 "nbformat_minor": 5
}
