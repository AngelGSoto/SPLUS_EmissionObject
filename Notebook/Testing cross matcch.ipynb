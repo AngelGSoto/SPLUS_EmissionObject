{
 "cells": [
  {
   "cell_type": "markdown",
   "metadata": {},
   "source": [
    "Author: Jake VanderPlas <vanderplas@astro.washington.edu>\\\n",
    "License: BSD\\\n",
    "The figure is an example from astroML: see http://astroML.github.com"
   ]
  },
  {
   "cell_type": "code",
   "execution_count": 2,
   "metadata": {},
   "outputs": [],
   "source": [
    "import os\n",
    "import sys\n",
    "from time import time\n",
    "\n",
    "import numpy as np\n",
    "from matplotlib import pyplot as plt\n",
    "\n",
    "from astropy.visualization import hist\n",
    "\n",
    "from astroML.datasets import fetch_imaging_sample, fetch_sdss_S82standards\n",
    "from astroML.crossmatch import crossmatch_angular"
   ]
  },
  {
   "cell_type": "code",
   "execution_count": 14,
   "metadata": {},
   "outputs": [
    {
     "data": {
      "text/plain": [
       "array([[ 0.358174, -0.508718],\n",
       "       [ 0.358382, -0.551157],\n",
       "       [ 0.357898, -0.570892],\n",
       "       ...,\n",
       "       [ 3.843611, -0.208263],\n",
       "       [ 3.895482, -0.208669],\n",
       "       [ 3.881584, -0.209449]])"
      ]
     },
     "execution_count": 14,
     "metadata": {},
     "output_type": "execute_result"
    }
   ],
   "source": [
    "# get imaging data\n",
    "image_data = fetch_imaging_sample()\n",
    "imX = np.empty((len(image_data), 2), dtype=np.float64)\n",
    "imX[:, 0] = image_data['ra']\n",
    "imX[:, 1] = image_data['dec']\n",
    "imX"
   ]
  },
  {
   "cell_type": "code",
   "execution_count": 13,
   "metadata": {},
   "outputs": [
    {
     "name": "stdout",
     "output_type": "stream",
     "text": [
      "downloading cross-matched SDSS/2MASS dataset from https://github.com/astroML/astroML-data/raw/master/datasets/stripe82calibStars_v2.6.dat.gz to /home/luis/astroML_data\n",
      "Downloading https://github.com/astroML/astroML-data/raw/master/datasets/stripe82calibStars_v2.6.dat.gz\n",
      "[=========================================]  63.58Mb / 63.58Mb   \n",
      "uncompressing file...\n"
     ]
    }
   ],
   "source": [
    "# get standard stars\n",
    "standards_data = fetch_sdss_S82standards()\n",
    "stX = np.empty((len(standards_data), 2), dtype=np.float64)\n",
    "stX[:, 0] = standards_data['RA']\n",
    "stX[:, 1] = standards_data['DEC']"
   ]
  },
  {
   "cell_type": "code",
   "execution_count": null,
   "metadata": {},
   "outputs": [],
   "source": []
  }
 ],
 "metadata": {
  "kernelspec": {
   "display_name": "Python 3",
   "language": "python",
   "name": "python3"
  },
  "language_info": {
   "codemirror_mode": {
    "name": "ipython",
    "version": 3
   },
   "file_extension": ".py",
   "mimetype": "text/x-python",
   "name": "python",
   "nbconvert_exporter": "python",
   "pygments_lexer": "ipython3",
   "version": "3.8.5"
  }
 },
 "nbformat": 4,
 "nbformat_minor": 4
}
