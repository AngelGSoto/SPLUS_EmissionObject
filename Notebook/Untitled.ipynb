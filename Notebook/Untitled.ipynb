{
 "cells": [
  {
   "cell_type": "code",
   "execution_count": 3,
   "id": "242a29f6",
   "metadata": {},
   "outputs": [
    {
     "data": {
      "text/plain": [
       "<matplotlib.image.AxesImage at 0x7f148eb01f70>"
      ]
     },
     "execution_count": 3,
     "metadata": {},
     "output_type": "execute_result"
    },
    {
     "data": {
      "image/png": "[encoded data removed]",
      "text/plain": [
       "<Figure size 432x432 with 4 Axes>"
      ]
     },
     "metadata": {
      "needs_background": "light"
     },
     "output_type": "display_data"
    }
   ],
   "source": [
    "import matplotlib.pyplot as plt\n",
    "from regions.core import PixCoord\n",
    "from regions.shapes.circle import CirclePixelRegion\n",
    "\n",
    "center = PixCoord(26.6, 27.2)\n",
    "reg = CirclePixelRegion(center, 5.2)\n",
    "\n",
    "plt.figure(figsize=(6, 6))\n",
    "\n",
    "mask1 = reg.to_mask(mode='center')\n",
    "plt.subplot(2, 2, 1)\n",
    "plt.title(\"mode='center'\", size=9)\n",
    "plt.imshow(mask1.data, cmap=plt.cm.viridis,\n",
    "           interpolation='nearest', origin='lower')\n",
    "\n",
    "mask2 = reg.to_mask(mode='exact')\n",
    "plt.subplot(2, 2, 2)\n",
    "plt.title(\"mode='exact'\", size=9)\n",
    "plt.imshow(mask2.data, cmap=plt.cm.viridis,\n",
    "           interpolation='nearest', origin='lower')\n",
    "\n",
    "mask3 = reg.to_mask(mode='subpixels', subpixels=3)\n",
    "plt.subplot(2, 2, 3)\n",
    "plt.title(\"mode='subpixels', subpixels=3\", size=9)\n",
    "plt.imshow(mask3.data, cmap=plt.cm.viridis,\n",
    "           interpolation='nearest', origin='lower')\n",
    "\n",
    "mask4 = reg.to_mask(mode='subpixels', subpixels=20)\n",
    "plt.subplot(2, 2, 4)\n",
    "plt.title(\"mode='subpixels', subpixels=20\", size=9)\n",
    "plt.imshow(mask4.data, cmap=plt.cm.viridis,\n",
    "           interpolation='nearest', origin='lower')"
   ]
  },
  {
   "cell_type": "code",
   "execution_count": null,
   "id": "bee5f013",
   "metadata": {},
   "outputs": [],
   "source": []
  }
 ],
 "metadata": {
  "kernelspec": {
   "display_name": "Python 3",
   "language": "python",
   "name": "python3"
  },
  "language_info": {
   "codemirror_mode": {
    "name": "ipython",
    "version": 3
   },
   "file_extension": ".py",
   "mimetype": "text/x-python",
   "name": "python",
   "nbconvert_exporter": "python",
   "pygments_lexer": "ipython3",
   "version": "3.8.5"
  }
 },
 "nbformat": 4,
 "nbformat_minor": 5
}
