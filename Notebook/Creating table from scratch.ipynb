{
 "cells": [
  {
   "cell_type": "code",
   "execution_count": 1,
   "metadata": {},
   "outputs": [
    {
     "name": "stderr",
     "output_type": "stream",
     "text": [
      "/home/luis/anaconda3/lib/python3.8/site-packages/pyfits/__init__.py:21: PyFITSDeprecationWarning: PyFITS is deprecated, please use astropy.io.fits\n",
      "  warnings.warn('PyFITS is deprecated, please use astropy.io.fits',\n"
     ]
    }
   ],
   "source": [
    "from __future__ import print_function, division\n",
    "from PyAstronomy import pyasl\n",
    "from astropy.table import Table, vstack\n",
    "from astropy import units as u\n",
    "from astropy.coordinates import SkyCoord\n",
    "import numpy as np"
   ]
  },
  {
   "cell_type": "code",
   "execution_count": 14,
   "metadata": {},
   "outputs": [],
   "source": [
    "def table(ra, dec):\n",
    "    X = np.empty((1, 2), dtype=np.float64)\n",
    "    X[:, 0] = ra\n",
    "    X[:, 1] = dec \n",
    "    print(X.shape)\n",
    "    table = Table([X[:,0], X[:,1]], names=('RAJ2000', 'DEJ2000'), meta={'name': 'first table'})\n",
    "    return table    "
   ]
  },
  {
   "cell_type": "code",
   "execution_count": 15,
   "metadata": {},
   "outputs": [
    {
     "name": "stdout",
     "output_type": "stream",
     "text": [
      "(1, 2)\n"
     ]
    }
   ],
   "source": [
    "tab1 = table(167.4902, -37.5392)\n",
    "tab1.write(\"../3filter_noflat/Claudia-objects/NGC3557.dat\", format=\"ascii.commented_header\")"
   ]
  },
  {
   "cell_type": "code",
   "execution_count": 16,
   "metadata": {},
   "outputs": [
    {
     "name": "stdout",
     "output_type": "stream",
     "text": [
      "(1, 2)\n"
     ]
    }
   ],
   "source": [
    "tab2 = table(156.96368333333334, -43.90376388888889)\n",
    "tab2.write(\"../3filter_noflat/Claudia-objects/NGC3256.dat\", format=\"ascii.commented_header\")"
   ]
  },
  {
   "cell_type": "code",
   "execution_count": 17,
   "metadata": {},
   "outputs": [
    {
     "name": "stdout",
     "output_type": "stream",
     "text": [
      "(1, 2)\n"
     ]
    }
   ],
   "source": [
    "tab3 = table(156.63449166666666, -39.94390833333333)\n",
    "tab3.write(\"../3filter_noflat/Claudia-objects/NGC3250.dat\", format=\"ascii.commented_header\")"
   ]
  },
  {
   "cell_type": "code",
   "execution_count": 18,
   "metadata": {},
   "outputs": [
    {
     "name": "stdout",
     "output_type": "stream",
     "text": [
      "(1, 2)\n"
     ]
    }
   ],
   "source": [
    "tab4 = table(157.30581666666666, -44.12292222222222)\n",
    "tab4.write(\"../3filter_noflat/Claudia-objects/NGC3263.dat\", format=\"ascii.commented_header\")"
   ]
  },
  {
   "cell_type": "code",
   "execution_count": 19,
   "metadata": {},
   "outputs": [
    {
     "name": "stdout",
     "output_type": "stream",
     "text": [
      "(1, 2)\n"
     ]
    }
   ],
   "source": [
    "tab5 = table(160.69375692097083, -36.35251678908611)\n",
    "tab5.write(\"../3filter_noflat/Claudia-objects/NGC3347.dat\", format=\"ascii.commented_header\")"
   ]
  },
  {
   "cell_type": "code",
   "execution_count": 20,
   "metadata": {},
   "outputs": [
    {
     "name": "stdout",
     "output_type": "stream",
     "text": [
      "(1, 2)\n"
     ]
    }
   ],
   "source": [
    "tab6 = table(157.76, -35.42)\n",
    "tab6.write(\"../3filter_noflat/Claudia-objects/Antlia.dat\", format=\"ascii.commented_header\")"
   ]
  },
  {
   "cell_type": "code",
   "execution_count": 21,
   "metadata": {},
   "outputs": [
    {
     "name": "stdout",
     "output_type": "stream",
     "text": [
      "(1, 2)\n"
     ]
    }
   ],
   "source": [
    "tab7 = table(149.786025, -34.22521944444445)\n",
    "tab7.write(\"../3filter_noflat/Claudia-objects/NGC3087.dat\", format=\"ascii.commented_header\")"
   ]
  },
  {
   "cell_type": "code",
   "execution_count": 22,
   "metadata": {},
   "outputs": [
    {
     "name": "stdout",
     "output_type": "stream",
     "text": [
      "(1, 2)\n"
     ]
    }
   ],
   "source": [
    "tab8 = table(148.6191875, -25.70343611111111)\n",
    "tab8.write(\"../3filter_noflat/Claudia-objects/NGC3054.dat\", format=\"ascii.commented_header\")"
   ]
  },
  {
   "cell_type": "code",
   "execution_count": 23,
   "metadata": {},
   "outputs": [
    {
     "name": "stdout",
     "output_type": "stream",
     "text": [
      "(1, 2)\n"
     ]
    }
   ],
   "source": [
    "tab9 = table(40.8126875, 32.42501111111111)\n",
    "tab9.write(\"../3filter_noflat/Claudia-objects/NCG1060.dat\", format=\"ascii.commented_header\")"
   ]
  },
  {
   "cell_type": "code",
   "execution_count": 24,
   "metadata": {},
   "outputs": [
    {
     "name": "stdout",
     "output_type": "stream",
     "text": [
      "(1, 2)\n"
     ]
    }
   ],
   "source": [
    "tab10 = table(162.09777916666667, -25.162027777777777)\n",
    "tab10.write(\"../3filter_noflat/Claudia-objects/NCG3393.dat\", format=\"ascii.commented_header\")"
   ]
  },
  {
   "cell_type": "code",
   "execution_count": 25,
   "metadata": {},
   "outputs": [
    {
     "name": "stdout",
     "output_type": "stream",
     "text": [
      "(1, 2)\n"
     ]
    }
   ],
   "source": [
    "tab11 = table(125.225, 21.075)\n",
    "tab11.write(\"../3filter_noflat/Claudia-objects/cancer_cluster.dat\", format=\"ascii.commented_header\")"
   ]
  },
  {
   "cell_type": "code",
   "execution_count": 27,
   "metadata": {},
   "outputs": [
    {
     "name": "stdout",
     "output_type": "stream",
     "text": [
      "(1, 2)\n"
     ]
    },
    {
     "name": "stderr",
     "output_type": "stream",
     "text": [
      "WARNING: AstropyDeprecationWarning: ../../OpenCluster/ESO_265_01.dat already exists. Automatically overwriting ASCII files is deprecated. Use the argument 'overwrite=True' in the future. [astropy.io.ascii.ui]\n"
     ]
    }
   ],
   "source": [
    "tab12 = table(165.23208333333332, -45.34)\n",
    "tab12.write(\"../../OpenCluster/ESO_265_01.dat\", format=\"ascii.commented_header\")"
   ]
  },
  {
   "cell_type": "code",
   "execution_count": null,
   "metadata": {},
   "outputs": [],
   "source": [
    "tab13 = table(150.975, -32.05)\n",
    "tab13.write(\"../../OpenCluster/ESO_435_33.dat\", format=\"ascii.commented_header\")"
   ]
  },
  {
   "cell_type": "code",
   "execution_count": null,
   "metadata": {},
   "outputs": [],
   "source": []
  }
 ],
 "metadata": {
  "kernelspec": {
   "display_name": "Python 3",
   "language": "python",
   "name": "python3"
  },
  "language_info": {
   "codemirror_mode": {
    "name": "ipython",
    "version": 3
   },
   "file_extension": ".py",
   "mimetype": "text/x-python",
   "name": "python",
   "nbconvert_exporter": "python",
   "pygments_lexer": "ipython3",
   "version": "3.8.5"
  }
 },
 "nbformat": 4,
 "nbformat_minor": 4
}
