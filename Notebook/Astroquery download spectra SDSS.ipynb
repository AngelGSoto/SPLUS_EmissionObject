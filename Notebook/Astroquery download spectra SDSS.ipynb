{
 "cells": [
  {
   "cell_type": "code",
   "execution_count": 1,
   "metadata": {},
   "outputs": [],
   "source": [
    "from astroquery.sdss import SDSS\n",
    "from astropy import coordinates as coords"
   ]
  },
  {
   "cell_type": "code",
   "execution_count": 3,
   "metadata": {},
   "outputs": [
    {
     "name": "stdout",
     "output_type": "stream",
     "text": [
      "       ra              dec               objid        ... run2d instrument\n",
      "---------------- ---------------- ------------------- ... ----- ----------\n",
      "2.02344596573482 14.8398237551311 1237652943176138868 ...    26       SDSS\n"
     ]
    },
    {
     "name": "stderr",
     "output_type": "stream",
     "text": [
      "/home/luis/anaconda3/lib/python3.8/site-packages/astroquery/sdss/core.py:862: VisibleDeprecationWarning: Reading unicode strings without specifying the encoding argument is deprecated. Set the encoding, use None for the system default.\n",
      "  arr = np.atleast_1d(np.genfromtxt(io.BytesIO(response.content),\n"
     ]
    }
   ],
   "source": [
    "pos = coords.SkyCoord('0h8m05.63s +14d50m23.3s', frame='icrs')\n",
    "xid = SDSS.query_region(pos, spectro=True)\n",
    "print(xid)"
   ]
  },
  {
   "cell_type": "code",
   "execution_count": 13,
   "metadata": {},
   "outputs": [],
   "source": [
    "sp = SDSS.get_spectra(pos)\n",
    "im = SDSS.get_images(matches=xid, band='g')"
   ]
  },
  {
   "cell_type": "code",
   "execution_count": 15,
   "metadata": {},
   "outputs": [
    {
     "data": {
      "text/plain": [
       "[[<astropy.io.fits.hdu.image.PrimaryHDU object at 0x7f07d4bc29a0>, <astropy.io.fits.hdu.table.BinTableHDU object at 0x7f07d4bba340>, <astropy.io.fits.hdu.table.BinTableHDU object at 0x7f07fd92b160>, <astropy.io.fits.hdu.table.BinTableHDU object at 0x7f07d4bf7c40>, <astropy.io.fits.hdu.table.BinTableHDU object at 0x7f07d3fb88b0>, <astropy.io.fits.hdu.table.BinTableHDU object at 0x7f07d3fcf4c0>, <astropy.io.fits.hdu.table.BinTableHDU object at 0x7f07d3f67130>, <astropy.io.fits.hdu.table.BinTableHDU object at 0x7f07d3f76d60>, <astropy.io.fits.hdu.table.BinTableHDU object at 0x7f07d3f8e9d0>, <astropy.io.fits.hdu.table.BinTableHDU object at 0x7f07d3f27640>]]"
      ]
     },
     "execution_count": 15,
     "metadata": {},
     "output_type": "execute_result"
    }
   ],
   "source": [
    "sp"
   ]
  },
  {
   "cell_type": "code",
   "execution_count": null,
   "metadata": {},
   "outputs": [],
   "source": []
  }
 ],
 "metadata": {
  "kernelspec": {
   "display_name": "Python 3",
   "language": "python",
   "name": "python3"
  },
  "language_info": {
   "codemirror_mode": {
    "name": "ipython",
    "version": 3
   },
   "file_extension": ".py",
   "mimetype": "text/x-python",
   "name": "python",
   "nbconvert_exporter": "python",
   "pygments_lexer": "ipython3",
   "version": "3.8.5"
  }
 },
 "nbformat": 4,
 "nbformat_minor": 4
}
