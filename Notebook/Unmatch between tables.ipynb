{
 "cells": [
  {
   "cell_type": "markdown",
   "metadata": {},
   "source": [
    "# Simple code to unmatch two tables"
   ]
  },
  {
   "cell_type": "code",
   "execution_count": 1,
   "metadata": {},
   "outputs": [],
   "source": [
    "from __future__ import print_function\n",
    "import numpy as np\n",
    "import os\n",
    "import glob\n",
    "import json\n",
    "import matplotlib.pyplot as plt\n",
    "import pandas as pd\n",
    "from astropy.table import Table"
   ]
  },
  {
   "cell_type": "code",
   "execution_count": 2,
   "metadata": {},
   "outputs": [],
   "source": [
    "#datadir = \"../SPLUS-DR1/haemiiter-08\"\n",
    "#file_ = \"splus-dr1-rhalpha_08_onlyerror_3filters-editado.tab\"\n",
    "datadir = \"../3filter_noflat\"\n",
    "file_1 = \"Emission_lines_fornax_15g.dat\"\n",
    "file_2 = \"Emission_lines_fornax_match10g_15g.dat\""
   ]
  },
  {
   "cell_type": "code",
   "execution_count": 4,
   "metadata": {},
   "outputs": [
    {
     "name": "stdout",
     "output_type": "stream",
     "text": [
      "Object 15 degrees 247\n",
      "Match between 10 and 15  154\n"
     ]
    }
   ],
   "source": [
    "data1 = Table.read(os.path.join(datadir, file_1), format=\"ascii\")\n",
    "data2 = Table.read(os.path.join(datadir, file_2), format=\"ascii\")\n",
    "print(\"Object 15 degrees\", len(data1))\n",
    "print(\"Match between 10 and 15 \", len(data2))\n"
   ]
  },
  {
   "cell_type": "code",
   "execution_count": 5,
   "metadata": {},
   "outputs": [
    {
     "name": "stdout",
     "output_type": "stream",
     "text": [
      "<Table length=154>\n",
      "       name        dtype \n",
      "----------------- -------\n",
      "             col1   int64\n",
      "          Field_1   str12\n",
      "             ID_1   str24\n",
      "             RA_1 float64\n",
      "            DEC_1 float64\n",
      "           FWHM_1 float64\n",
      "        ISOarea_1   int64\n",
      "    KRON_RADIUS_1 float64\n",
      "nDet_magPStotal_1 float64\n",
      "   PhotoFlagDet_1   int64\n",
      "      U_PStotal_1 float64\n",
      "   F378_PStotal_1 float64\n",
      "   F395_PStotal_1 float64\n",
      "   F410_PStotal_1 float64\n",
      "   F430_PStotal_1 float64\n",
      "      G_PStotal_1 float64\n",
      "   F515_PStotal_1 float64\n",
      "      R_PStotal_1 float64\n",
      "   F660_PStotal_1 float64\n",
      "      I_PStotal_1 float64\n",
      "   F861_PStotal_1 float64\n",
      "      Z_PStotal_1 float64\n",
      "    e_U_PStotal_1 float64\n",
      " e_F378_PStotal_1 float64\n",
      " e_F395_PStotal_1 float64\n",
      " e_F410_PStotal_1 float64\n",
      " e_F430_PStotal_1 float64\n",
      "    e_G_PStotal_1 float64\n",
      " e_F515_PStotal_1 float64\n",
      "    e_R_PStotal_1 float64\n",
      " e_F660_PStotal_1 float64\n",
      "    e_I_PStotal_1 float64\n",
      " e_F861_PStotal_1 float64\n",
      "    e_Z_PStotal_1 float64\n",
      "          r_-_i_1 float64\n",
      "      r_-_J0660_1 float64\n",
      "       e(r_-_i)_1 float64\n",
      "   e(r_-_J0660)_1 float64\n",
      "          Field_2   str12\n",
      "             ID_2   str24\n",
      "             RA_2 float64\n",
      "            DEC_2 float64\n",
      "           FWHM_2 float64\n",
      "        ISOarea_2   int64\n",
      "    KRON_RADIUS_2 float64\n",
      "nDet_magPStotal_2 float64\n",
      "   PhotoFlagDet_2   int64\n",
      "      U_PStotal_2 float64\n",
      "   F378_PStotal_2 float64\n",
      "   F395_PStotal_2 float64\n",
      "   F410_PStotal_2 float64\n",
      "   F430_PStotal_2 float64\n",
      "      G_PStotal_2 float64\n",
      "   F515_PStotal_2 float64\n",
      "      R_PStotal_2 float64\n",
      "   F660_PStotal_2 float64\n",
      "      I_PStotal_2 float64\n",
      "   F861_PStotal_2 float64\n",
      "      Z_PStotal_2 float64\n",
      "    e_U_PStotal_2 float64\n",
      " e_F378_PStotal_2 float64\n",
      " e_F395_PStotal_2 float64\n",
      " e_F410_PStotal_2 float64\n",
      " e_F430_PStotal_2 float64\n",
      "    e_G_PStotal_2 float64\n",
      " e_F515_PStotal_2 float64\n",
      "    e_R_PStotal_2 float64\n",
      " e_F660_PStotal_2 float64\n",
      "    e_I_PStotal_2 float64\n",
      " e_F861_PStotal_2 float64\n",
      "    e_Z_PStotal_2 float64\n",
      "          r_-_i_2 float64\n",
      "      r_-_J0660_2 float64\n",
      "       e(r_-_i)_2 float64\n",
      "   e(r_-_J0660)_2 float64\n",
      "       Separation float64\n"
     ]
    }
   ],
   "source": [
    "data2.info()"
   ]
  },
  {
   "cell_type": "code",
   "execution_count": 6,
   "metadata": {},
   "outputs": [],
   "source": [
    "id1 = data1[\"ID\"]\n",
    "id2 = data2[\"ID_2\"]\n",
    "m = np.array([not source in id2 for source in id1])"
   ]
  },
  {
   "cell_type": "code",
   "execution_count": 7,
   "metadata": {},
   "outputs": [
    {
     "data": {
      "text/html": [
       "&lt;Column name=&apos;ID_2&apos; dtype=&apos;str24&apos; length=154&gt;\n",
       "<table>\n",
       "<tr><td>iDR3.SPLUS-s24s32.031711</td></tr>\n",
       "<tr><td>iDR3.SPLUS-s24s35.030511</td></tr>\n",
       "<tr><td>iDR3.SPLUS-s24s35.030662</td></tr>\n",
       "<tr><td>iDR3.SPLUS-s24s41.011980</td></tr>\n",
       "<tr><td>iDR3.SPLUS-s25s31.021159</td></tr>\n",
       "<tr><td>iDR3.SPLUS-s25s32.045652</td></tr>\n",
       "<tr><td>iDR3.SPLUS-s26s29.000230</td></tr>\n",
       "<tr><td>iDR3.SPLUS-s26s31.032533</td></tr>\n",
       "<tr><td>iDR3.SPLUS-s26s32.032241</td></tr>\n",
       "<tr><td>iDR3.SPLUS-s26s40.040799</td></tr>\n",
       "<tr><td>iDR3.SPLUS-s26s40.044461</td></tr>\n",
       "<tr><td>iDR3.SPLUS-s26s40.044466</td></tr>\n",
       "<tr><td>...</td></tr>\n",
       "<tr><td>iDR3.SPLUS-s27s38.054400</td></tr>\n",
       "<tr><td>iDR3.SPLUS-s28s32.024504</td></tr>\n",
       "<tr><td>iDR3.SPLUS-s28s34.039887</td></tr>\n",
       "<tr><td>iDR3.SPLUS-s28s38.027231</td></tr>\n",
       "<tr><td>iDR3.SPLUS-s28s39.034793</td></tr>\n",
       "<tr><td>iDR3.SPLUS-s28s39.044954</td></tr>\n",
       "<tr><td>iDR3.SPLUS-s28s40.035206</td></tr>\n",
       "<tr><td>iDR3.SPLUS-s28s41.021294</td></tr>\n",
       "<tr><td>iDR3.SPLUS-s30s35.019605</td></tr>\n",
       "<tr><td>iDR3.SPLUS-s30s36.048176</td></tr>\n",
       "<tr><td>iDR3.SPLUS-s31s37.007496</td></tr>\n",
       "<tr><td>iDR3.SPLUS-s32s37.039061</td></tr>\n",
       "</table>"
      ],
      "text/plain": [
       "<Column name='ID_2' dtype='str24' length=154>\n",
       "iDR3.SPLUS-s24s32.031711\n",
       "iDR3.SPLUS-s24s35.030511\n",
       "iDR3.SPLUS-s24s35.030662\n",
       "iDR3.SPLUS-s24s41.011980\n",
       "iDR3.SPLUS-s25s31.021159\n",
       "iDR3.SPLUS-s25s32.045652\n",
       "iDR3.SPLUS-s26s29.000230\n",
       "iDR3.SPLUS-s26s31.032533\n",
       "iDR3.SPLUS-s26s32.032241\n",
       "iDR3.SPLUS-s26s40.040799\n",
       "iDR3.SPLUS-s26s40.044461\n",
       "iDR3.SPLUS-s26s40.044466\n",
       "                     ...\n",
       "iDR3.SPLUS-s27s38.054400\n",
       "iDR3.SPLUS-s28s32.024504\n",
       "iDR3.SPLUS-s28s34.039887\n",
       "iDR3.SPLUS-s28s38.027231\n",
       "iDR3.SPLUS-s28s39.034793\n",
       "iDR3.SPLUS-s28s39.044954\n",
       "iDR3.SPLUS-s28s40.035206\n",
       "iDR3.SPLUS-s28s41.021294\n",
       "iDR3.SPLUS-s30s35.019605\n",
       "iDR3.SPLUS-s30s36.048176\n",
       "iDR3.SPLUS-s31s37.007496\n",
       "iDR3.SPLUS-s32s37.039061"
      ]
     },
     "execution_count": 7,
     "metadata": {},
     "output_type": "execute_result"
    }
   ],
   "source": [
    "id2"
   ]
  },
  {
   "cell_type": "code",
   "execution_count": 8,
   "metadata": {},
   "outputs": [
    {
     "data": {
      "text/html": [
       "<i>Table length=93</i>\n",
       "<table id=\"table139896884746608\" class=\"table-striped table-bordered table-condensed\">\n",
       "<thead><tr><th>Field</th><th>ID</th><th>RA</th><th>DEC</th><th>FWHM</th><th>ISOarea</th><th>KRON_RADIUS</th><th>nDet_magPStotal</th><th>PhotoFlagDet</th><th>U_PStotal</th><th>F378_PStotal</th><th>F395_PStotal</th><th>F410_PStotal</th><th>F430_PStotal</th><th>G_PStotal</th><th>F515_PStotal</th><th>R_PStotal</th><th>F660_PStotal</th><th>I_PStotal</th><th>F861_PStotal</th><th>Z_PStotal</th><th>e_U_PStotal</th><th>e_F378_PStotal</th><th>e_F395_PStotal</th><th>e_F410_PStotal</th><th>e_F430_PStotal</th><th>e_G_PStotal</th><th>e_F515_PStotal</th><th>e_R_PStotal</th><th>e_F660_PStotal</th><th>e_I_PStotal</th><th>e_F861_PStotal</th><th>e_Z_PStotal</th><th>r_-_i</th><th>r_-_J0660</th><th>e(r_-_i)</th><th>e(r_-_J0660)</th></tr></thead>\n",
       "<thead><tr><th>str12</th><th>str24</th><th>float64</th><th>float64</th><th>float64</th><th>int64</th><th>float64</th><th>float64</th><th>int64</th><th>float64</th><th>float64</th><th>float64</th><th>float64</th><th>float64</th><th>float64</th><th>float64</th><th>float64</th><th>float64</th><th>float64</th><th>float64</th><th>float64</th><th>float64</th><th>float64</th><th>float64</th><th>float64</th><th>float64</th><th>float64</th><th>float64</th><th>float64</th><th>float64</th><th>float64</th><th>float64</th><th>float64</th><th>float64</th><th>float64</th><th>float64</th><th>float64</th></tr></thead>\n",
       "<tr><td>SPLUS-s27s26</td><td>iDR3.SPLUS-s27s26.042437</td><td>41.43522004887448</td><td>-34.16157866528087</td><td>25.374851</td><td>491</td><td>3.1944442000000004</td><td>10.0</td><td>2</td><td>22.513168</td><td>25.66198</td><td>23.376732</td><td>23.246468</td><td>99.0</td><td>17.099773000000003</td><td>99.0</td><td>15.730912</td><td>14.688701000000002</td><td>15.336685000000001</td><td>14.569482999999998</td><td>14.520859</td><td>0.59553075</td><td>16.271889</td><td>3.5554454</td><td>2.8428962</td><td>21.32164</td><td>0.00846929</td><td>21.666033</td><td>0.0037111337</td><td>0.0025458705999999998</td><td>0.003122695</td><td>0.0036106182</td><td>0.0024804268</td><td>0.394226999999999</td><td>1.0422109999999982</td><td>0.004850127565569868</td><td>0.004500441139623987</td></tr>\n",
       "<tr><td>SPLUS-s30s23</td><td>iDR3.SPLUS-s30s23.011069</td><td>38.39285833594685</td><td>-39.04470809996566</td><td>13.995016</td><td>62622</td><td>3.7853942000000003</td><td>12.0</td><td>3</td><td>15.531504</td><td>15.3584</td><td>15.26707</td><td>15.219322</td><td>15.124456</td><td>15.056053</td><td>14.944111</td><td>14.596960999999999</td><td>13.969648000000001</td><td>14.516634</td><td>14.434546</td><td>14.274397</td><td>0.0057806247</td><td>0.0074234046</td><td>0.009645059000000001</td><td>0.007993564</td><td>0.007357501999999999</td><td>0.0030821695000000002</td><td>0.0057653952000000005</td><td>0.0018388323999999998</td><td>0.002033287</td><td>0.0022025353</td><td>0.0035141703999999998</td><td>0.0024013128</td><td>0.0803269999999987</td><td>0.6273129999999973</td><td>0.0028692274819253787</td><td>0.00274145228294398</td></tr>\n",
       "<tr><td>SPLUS-s32s22</td><td>iDR3.SPLUS-s32s22.023958</td><td>37.233421654804204</td><td>-40.74555984616921</td><td>34.52782</td><td>804</td><td>3.3956413</td><td>12.0</td><td>0</td><td>20.275055</td><td>19.24851</td><td>18.621010000000002</td><td>17.898258</td><td>17.40016</td><td>16.67109</td><td>16.174568</td><td>15.600147</td><td>14.872299</td><td>15.005298999999999</td><td>14.834307</td><td>14.7671</td><td>0.19018388</td><td>0.11659032</td><td>0.09919836</td><td>0.055951796</td><td>0.03660854</td><td>0.008800266</td><td>0.012358731999999999</td><td>0.0038289058000000003</td><td>0.003104393</td><td>0.002825892</td><td>0.004399049</td><td>0.0031004065999999998</td><td>0.5948480000000007</td><td>0.7278479999999998</td><td>0.004758800817531413</td><td>0.004929277383524145</td></tr>\n",
       "<tr><td>SPLUS-s28s43</td><td>iDR3.SPLUS-s28s43.044409</td><td>70.84459114792894</td><td>-35.93093018505584</td><td>8.842253999999999</td><td>631</td><td>2.9615080000000003</td><td>12.0</td><td>2</td><td>15.389847</td><td>15.029410999999998</td><td>14.950647</td><td>14.405592</td><td>14.301347</td><td>14.152633999999999</td><td>13.914501999999999</td><td>17.582635999999997</td><td>13.73584</td><td>13.638437</td><td>13.607631</td><td>15.941692999999999</td><td>0.005228412</td><td>0.006175464499999999</td><td>0.008532638</td><td>0.0058520925</td><td>0.0055999295</td><td>0.0022535657</td><td>0.0037925742</td><td>0.010464133</td><td>0.0017297491</td><td>0.00145526</td><td>0.0028743614000000003</td><td>0.005998886</td><td>3.9441989999999976</td><td>3.8467959999999977</td><td>0.010564840799050831</td><td>0.010606135554038512</td></tr>\n",
       "<tr><td>SPLUS-s33s37</td><td>iDR3.SPLUS-s33s37.006610</td><td>66.49750313852422</td><td>-43.27294370064416</td><td>12.286036</td><td>1463</td><td>3.8268129999999996</td><td>12.0</td><td>2</td><td>18.022057999999998</td><td>17.607870000000002</td><td>17.521244</td><td>17.363913</td><td>17.195381</td><td>17.002895000000002</td><td>16.792929</td><td>16.424426999999998</td><td>16.059565</td><td>16.24996</td><td>16.08496</td><td>16.047745000000003</td><td>0.02296229</td><td>0.027357806000000002</td><td>0.038072865</td><td>0.029698172999999998</td><td>0.0268002</td><td>0.009454305999999999</td><td>0.01687335</td><td>0.006084429000000001</td><td>0.0057612485</td><td>0.0055936123</td><td>0.010027896</td><td>0.006907648000000001</td><td>0.17446699999999637</td><td>0.3648619999999987</td><td>0.008264912269271363</td><td>0.008379275656928423</td></tr>\n",
       "<tr><td>SPLUS-s33s38</td><td>iDR3.SPLUS-s33s38.007580</td><td>67.11963551092221</td><td>-43.24142208891915</td><td>25.309237</td><td>1660</td><td>4.0457344</td><td>12.0</td><td>0</td><td>18.45124</td><td>17.871992000000002</td><td>17.61084</td><td>18.040043</td><td>17.75873</td><td>17.56622</td><td>17.368046</td><td>16.961391</td><td>16.633213</td><td>16.680447</td><td>16.520329999999998</td><td>16.443872</td><td>0.033732112</td><td>0.037546325</td><td>0.051432135999999996</td><td>0.057673275</td><td>0.045395702</td><td>0.015900547</td><td>0.026414307</td><td>0.008236405</td><td>0.008451931</td><td>0.0071035280000000004</td><td>0.011686003</td><td>0.008187385</td><td>0.2809439999999981</td><td>0.32817799999999764</td><td>0.010876510348949658</td><td>0.011801419615994764</td></tr>\n",
       "<tr><td>SPLUS-s33s38</td><td>iDR3.SPLUS-s33s38.024478</td><td>66.92599861968759</td><td>-42.638987413573254</td><td>35.6797</td><td>3819</td><td>4.2381425</td><td>12.0</td><td>2</td><td>18.819824</td><td>18.281797</td><td>17.943897</td><td>18.398556</td><td>18.244257</td><td>18.167603</td><td>17.983292000000002</td><td>17.777819</td><td>17.451756</td><td>17.557489999999998</td><td>17.450874</td><td>17.388037</td><td>0.044314213</td><td>0.050558563</td><td>0.06641179</td><td>0.07763448</td><td>0.06724429</td><td>0.025327904</td><td>0.04222092400000001</td><td>0.014359383</td><td>0.014549798999999999</td><td>0.012843935</td><td>0.022533188</td><td>0.016183402</td><td>0.2203290000000031</td><td>0.3260630000000013</td><td>0.01926547550477055</td><td>0.020442322056975083</td></tr>\n",
       "<tr><td>SPLUS-s33s39</td><td>iDR3.SPLUS-s33s39.034766</td><td>68.83252077391391</td><td>-42.20328938270354</td><td>26.445971999999998</td><td>2379</td><td>3.9439157999999996</td><td>12.0</td><td>2</td><td>17.94987</td><td>17.419369</td><td>17.38295</td><td>17.330284</td><td>17.204735</td><td>17.060131</td><td>16.832272</td><td>16.526432</td><td>16.105341</td><td>16.390823</td><td>16.263810999999997</td><td>16.197464</td><td>0.024543112000000002</td><td>0.026117422</td><td>0.03811905</td><td>0.03180031</td><td>0.028441377</td><td>0.009983041</td><td>0.018224651</td><td>0.0067893269999999995</td><td>0.0062114582</td><td>0.0066718315</td><td>0.011047867</td><td>0.008297993</td><td>0.13560899999999876</td><td>0.42109100000000055</td><td>0.009518839040414605</td><td>0.009202020108828073</td></tr>\n",
       "<tr><td>SPLUS-s34s38</td><td>iDR3.SPLUS-s34s38.000390</td><td>69.52686376631496</td><td>-44.768224735793694</td><td>12.584499000000001</td><td>339</td><td>4.1520214</td><td>12.0</td><td>2</td><td>19.991953</td><td>19.680011999999998</td><td>20.343011999999998</td><td>19.120949</td><td>19.822481</td><td>17.6279</td><td>18.544283</td><td>17.423813</td><td>17.060442000000002</td><td>17.510035000000002</td><td>17.59354</td><td>16.963272</td><td>0.08283684</td><td>0.11264723</td><td>0.34157783</td><td>0.117273495</td><td>0.19665252</td><td>0.013370288000000001</td><td>0.050252285</td><td>0.009997292</td><td>0.009806933</td><td>0.011581922</td><td>0.02372833</td><td>0.013192039</td><td>-0.08622200000000291</td><td>0.3633709999999972</td><td>0.015299894265887853</td><td>0.014004348688880643</td></tr>\n",
       "<tr><td>SPLUS-s26s27</td><td>iDR3.SPLUS-s26s27.037572</td><td>41.52198188668681</td><td>-33.08317001603085</td><td>24.382645</td><td>2854</td><td>3.9226699999999997</td><td>12.0</td><td>0</td><td>18.07684</td><td>17.613874</td><td>17.646133</td><td>17.575153</td><td>17.488573000000002</td><td>17.354557</td><td>17.210354000000002</td><td>17.110664</td><td>16.702223</td><td>16.982353</td><td>16.919619</td><td>16.818552</td><td>0.02093097</td><td>0.022881582</td><td>0.035023913</td><td>0.03025508</td><td>0.02690565</td><td>0.0101498375</td><td>0.01759259</td><td>0.0072337342</td><td>0.00668405</td><td>0.007942381</td><td>0.014245394</td><td>0.010544592</td><td>0.12831100000000006</td><td>0.40844099999999983</td><td>0.010742826742781002</td><td>0.009849032179800696</td></tr>\n",
       "<tr><td>...</td><td>...</td><td>...</td><td>...</td><td>...</td><td>...</td><td>...</td><td>...</td><td>...</td><td>...</td><td>...</td><td>...</td><td>...</td><td>...</td><td>...</td><td>...</td><td>...</td><td>...</td><td>...</td><td>...</td><td>...</td><td>...</td><td>...</td><td>...</td><td>...</td><td>...</td><td>...</td><td>...</td><td>...</td><td>...</td><td>...</td><td>...</td><td>...</td><td>...</td><td>...</td><td>...</td><td>...</td></tr>\n",
       "<tr><td>SPLUS-s28s44</td><td>iDR3.SPLUS-s28s44.032324</td><td>72.51359020821991</td><td>-35.949944596520645</td><td>13.277572</td><td>23</td><td>5.8011165</td><td>12.0</td><td>3</td><td>24.93727</td><td>21.855326</td><td>21.39251</td><td>20.877716</td><td>20.786007</td><td>21.872292</td><td>19.976265</td><td>20.819426</td><td>19.876469</td><td>20.423687</td><td>19.25818</td><td>19.765291</td><td>7.475343700000002</td><td>0.7161502</td><td>0.772428</td><td>0.48571223</td><td>0.42105496</td><td>0.42408115</td><td>0.15403440000000002</td><td>0.12928371</td><td>0.06545794</td><td>0.1144851</td><td>0.08916339</td><td>0.114249416</td><td>0.39573899999999895</td><td>0.9429569999999998</td><td>0.1726879144392395</td><td>0.1449103846534392</td></tr>\n",
       "<tr><td>SPLUS-s28s44</td><td>iDR3.SPLUS-s28s44.042054</td><td>72.51006677555092</td><td>-35.83174739353617</td><td>15.632298</td><td>282</td><td>4.0539365</td><td>12.0</td><td>2</td><td>17.956112</td><td>17.985754</td><td>17.638447</td><td>17.14682</td><td>17.289257</td><td>16.955687</td><td>16.793392</td><td>20.666782</td><td>16.375632999999997</td><td>16.642048000000006</td><td>16.566270000000006</td><td>20.750961</td><td>0.01843219</td><td>0.028629303</td><td>0.034579337</td><td>0.02334267</td><td>0.024397545</td><td>0.008093549</td><td>0.014032716</td><td>0.11307059</td><td>0.005629332</td><td>0.0060488936</td><td>0.010880939</td><td>0.2802226</td><td>4.024733999999995</td><td>4.291149000000004</td><td>0.11323227206380794</td><td>0.11321063422538681</td></tr>\n",
       "<tr><td>SPLUS-s30s42</td><td>iDR3.SPLUS-s30s42.048842</td><td>71.48616961051255</td><td>-38.25364184649485</td><td>10.199056</td><td>45</td><td>5.720120400000001</td><td>12.0</td><td>2</td><td>23.09049</td><td>21.557270000000006</td><td>20.630074</td><td>20.474726</td><td>20.238739</td><td>22.214573</td><td>19.76646</td><td>20.929338</td><td>18.789469</td><td>19.770382</td><td>18.699482</td><td>19.04983</td><td>0.9920533</td><td>0.42094725</td><td>0.30863765</td><td>0.24214415</td><td>0.18930423</td><td>0.32106847</td><td>0.09574413</td><td>0.10678908</td><td>0.022143522</td><td>0.058217622</td><td>0.059079837</td><td>0.062139753</td><td>1.1589559999999999</td><td>2.139869000000001</td><td>0.12162729594372014</td><td>0.10906073158479583</td></tr>\n",
       "<tr><td>SPLUS-s31s38</td><td>iDR3.SPLUS-s31s38.003079</td><td>65.88604302125152</td><td>-40.775023929096754</td><td>15.584188</td><td>45</td><td>5.6093335</td><td>12.0</td><td>0</td><td>23.279968</td><td>21.294365</td><td>20.923464000000006</td><td>20.136654</td><td>20.427183</td><td>22.85416</td><td>19.728516</td><td>20.623085</td><td>18.440956</td><td>20.453445</td><td>18.153805</td><td>18.315262</td><td>1.1278975</td><td>0.34734544</td><td>0.44349584</td><td>0.2084656</td><td>0.25472116</td><td>0.6032479000000001</td><td>0.09976958</td><td>0.081999995</td><td>0.01813354</td><td>0.09684551</td><td>0.03464855</td><td>0.029000584</td><td>0.16964000000000112</td><td>2.1821289999999998</td><td>0.12689780134880244</td><td>0.08398109580692327</td></tr>\n",
       "<tr><td>SPLUS-s32s39</td><td>iDR3.SPLUS-s32s39.036794</td><td>68.95252484230859</td><td>-40.910755603387656</td><td>10.636407</td><td>175</td><td>4.7260847</td><td>12.0</td><td>2</td><td>19.819286</td><td>19.369112</td><td>18.991621</td><td>18.84358</td><td>19.127884</td><td>19.128117</td><td>18.709064</td><td>20.583023</td><td>18.358284</td><td>18.483873000000006</td><td>18.264801</td><td>21.058935</td><td>0.05979637400000001</td><td>0.07197339</td><td>0.0877556</td><td>0.06501626</td><td>0.07706026</td><td>0.026785005</td><td>0.044318866</td><td>0.079571664</td><td>0.017184176000000002</td><td>0.02092785</td><td>0.036984436</td><td>0.3679304</td><td>2.0991499999999945</td><td>2.2247389999999996</td><td>0.08227772856217773</td><td>0.0814060539304533</td></tr>\n",
       "<tr><td>SPLUS-s33s38</td><td>iDR3.SPLUS-s33s38.013877</td><td>68.55132095982017</td><td>-42.97312832183834</td><td>8.768866000000001</td><td>12</td><td>4.203804</td><td>12.0</td><td>2</td><td>23.276983</td><td>22.934212</td><td>20.38295</td><td>19.982365</td><td>21.424152</td><td>22.349197</td><td>21.294117</td><td>20.9033</td><td>19.587936</td><td>20.45059</td><td>19.076958</td><td>19.508875</td><td>1.970006</td><td>2.6538956</td><td>0.49117237</td><td>0.30811465</td><td>1.1218649</td><td>1.0222079</td><td>0.7571654000000001</td><td>0.19580711</td><td>0.08002672</td><td>0.14044689</td><td>0.084544845</td><td>0.09571635</td><td>0.4527100000000033</td><td>1.3153640000000024</td><td>0.24096836563587387</td><td>0.21152943114496028</td></tr>\n",
       "<tr><td>SPLUS-s27s24</td><td>iDR3.SPLUS-s27s24.035964</td><td>37.07164506673429</td><td>-34.63429068238714</td><td>15.099954</td><td>40</td><td>9.138472</td><td>12.0</td><td>3</td><td>21.098478</td><td>20.629503</td><td>20.58384</td><td>20.387959</td><td>20.81007</td><td>20.727484</td><td>20.229395</td><td>20.655502</td><td>19.823214</td><td>20.67558</td><td>21.840136</td><td>20.575459</td><td>0.14265256</td><td>0.16435263</td><td>0.33707017</td><td>0.20344792</td><td>0.28187686</td><td>0.081547976</td><td>0.13375786</td><td>0.07543507</td><td>0.044149783</td><td>0.12553312</td><td>0.8773369000000001</td><td>0.23455529</td><td>-0.020078000000001595</td><td>0.8322879999999984</td><td>0.14645481898127935</td><td>0.08740510926056891</td></tr>\n",
       "<tr><td>SPLUS-s27s24</td><td>iDR3.SPLUS-s27s24.046964</td><td>37.658052085843956</td><td>-34.25551896625499</td><td>23.284370000000006</td><td>55</td><td>7.7686815</td><td>12.0</td><td>3</td><td>22.06114</td><td>20.679771</td><td>21.010881</td><td>21.255491</td><td>20.714056</td><td>20.611172</td><td>20.143085</td><td>20.712141</td><td>19.758339000000007</td><td>20.547077</td><td>20.905066</td><td>20.626133</td><td>0.3336534</td><td>0.17427857</td><td>0.49766505</td><td>0.4400234000000001</td><td>0.26324496</td><td>0.07523723</td><td>0.12632857</td><td>0.080645055</td><td>0.042736944000000006</td><td>0.11318008</td><td>0.37685436</td><td>0.24771288</td><td>0.16506399999999743</td><td>0.9538019999999925</td><td>0.13897249873539522</td><td>0.0912692241580488</td></tr>\n",
       "<tr><td>SPLUS-s32s22</td><td>iDR3.SPLUS-s32s22.003233</td><td>38.53935062317026</td><td>-42.117292049452026</td><td>13.6628685</td><td>12</td><td>8.180692</td><td>10.0</td><td>3</td><td>22.59489</td><td>99.0</td><td>22.493582</td><td>21.107136</td><td>25.120605</td><td>20.96651</td><td>99.0</td><td>20.634928</td><td>18.8802</td><td>20.354305</td><td>19.783905</td><td>20.815895</td><td>1.5745745</td><td>20.80897</td><td>3.2063437</td><td>0.9478899</td><td>36.814487</td><td>0.31698190000000004</td><td>20.682087</td><td>0.18119006</td><td>0.044602092</td><td>0.15964718</td><td>0.17735465</td><td>0.39517963</td><td>0.2806229999999985</td><td>1.754728</td><td>0.24148925426353032</td><td>0.1865989937099878</td></tr>\n",
       "<tr><td>SPLUS-s38s30</td><td>iDR3.SPLUS-s38s30.035674</td><td>60.1706526977055</td><td>-48.62181788699665</td><td>10.016329</td><td>10</td><td>6.2315664</td><td>10.0</td><td>1</td><td>21.90213</td><td>21.392393</td><td>99.0</td><td>99.0</td><td>21.233719</td><td>21.263313</td><td>21.022217</td><td>20.957447</td><td>18.82466</td><td>20.796627</td><td>20.208109</td><td>20.446705</td><td>0.3171548</td><td>0.3903282</td><td>21.216873</td><td>21.38199</td><td>0.40842798</td><td>0.13494602</td><td>0.25940368</td><td>0.10798368</td><td>0.024599113</td><td>0.15483175</td><td>0.20181403</td><td>0.21723892</td><td>0.16081999999999752</td><td>2.132786999999997</td><td>0.18876796856035957</td><td>0.11075013095581047</td></tr>\n",
       "</table>"
      ],
      "text/plain": [
       "<Table length=93>\n",
       "   Field                ID            ...     e(r_-_J0660)    \n",
       "   str12              str24           ...       float64       \n",
       "------------ ------------------------ ... --------------------\n",
       "SPLUS-s27s26 iDR3.SPLUS-s27s26.042437 ... 0.004500441139623987\n",
       "SPLUS-s30s23 iDR3.SPLUS-s30s23.011069 ...  0.00274145228294398\n",
       "SPLUS-s32s22 iDR3.SPLUS-s32s22.023958 ... 0.004929277383524145\n",
       "SPLUS-s28s43 iDR3.SPLUS-s28s43.044409 ... 0.010606135554038512\n",
       "SPLUS-s33s37 iDR3.SPLUS-s33s37.006610 ... 0.008379275656928423\n",
       "SPLUS-s33s38 iDR3.SPLUS-s33s38.007580 ... 0.011801419615994764\n",
       "SPLUS-s33s38 iDR3.SPLUS-s33s38.024478 ... 0.020442322056975083\n",
       "SPLUS-s33s39 iDR3.SPLUS-s33s39.034766 ... 0.009202020108828073\n",
       "SPLUS-s34s38 iDR3.SPLUS-s34s38.000390 ... 0.014004348688880643\n",
       "SPLUS-s26s27 iDR3.SPLUS-s26s27.037572 ... 0.009849032179800696\n",
       "         ...                      ... ...                  ...\n",
       "SPLUS-s28s44 iDR3.SPLUS-s28s44.032324 ...   0.1449103846534392\n",
       "SPLUS-s28s44 iDR3.SPLUS-s28s44.042054 ...  0.11321063422538681\n",
       "SPLUS-s30s42 iDR3.SPLUS-s30s42.048842 ...  0.10906073158479583\n",
       "SPLUS-s31s38 iDR3.SPLUS-s31s38.003079 ...  0.08398109580692327\n",
       "SPLUS-s32s39 iDR3.SPLUS-s32s39.036794 ...   0.0814060539304533\n",
       "SPLUS-s33s38 iDR3.SPLUS-s33s38.013877 ...  0.21152943114496028\n",
       "SPLUS-s27s24 iDR3.SPLUS-s27s24.035964 ...  0.08740510926056891\n",
       "SPLUS-s27s24 iDR3.SPLUS-s27s24.046964 ...   0.0912692241580488\n",
       "SPLUS-s32s22 iDR3.SPLUS-s32s22.003233 ...   0.1865989937099878\n",
       "SPLUS-s38s30 iDR3.SPLUS-s38s30.035674 ...  0.11075013095581047"
      ]
     },
     "execution_count": 8,
     "metadata": {},
     "output_type": "execute_result"
    }
   ],
   "source": [
    "data1[m]"
   ]
  },
  {
   "cell_type": "code",
   "execution_count": 9,
   "metadata": {},
   "outputs": [],
   "source": [
    "asciifile = \"Emission_lines_fornax_between10_15g.ecsv\" \n",
    "data1[m].write(os.path.join(datadir, asciifile), format=\"ascii.ecsv\")"
   ]
  },
  {
   "cell_type": "code",
   "execution_count": 12,
   "metadata": {},
   "outputs": [],
   "source": [
    "table = data1[m]\n",
    "df_fornax = table.to_pandas()\n",
    "df_fornax.to_csv(os.path.join(datadir, \"Emission_linesGalax_fornax_verion3.csv\")) "
   ]
  },
  {
   "cell_type": "code",
   "execution_count": 20,
   "metadata": {},
   "outputs": [],
   "source": [
    "#import pandas as pd \n",
    "#dat = pd.read_csv(os.path.join(datadir, \"Emission_linesGal_fornax_version3.csv\")) "
   ]
  },
  {
   "cell_type": "code",
   "execution_count": null,
   "metadata": {},
   "outputs": [],
   "source": []
  },
  {
   "cell_type": "code",
   "execution_count": null,
   "metadata": {},
   "outputs": [],
   "source": []
  }
 ],
 "metadata": {
  "kernelspec": {
   "display_name": "Python 3",
   "language": "python",
   "name": "python3"
  },
  "language_info": {
   "codemirror_mode": {
    "name": "ipython",
    "version": 3
   },
   "file_extension": ".py",
   "mimetype": "text/x-python",
   "name": "python",
   "nbconvert_exporter": "python",
   "pygments_lexer": "ipython3",
   "version": "3.8.5"
  }
 },
 "nbformat": 4,
 "nbformat_minor": 4
}
