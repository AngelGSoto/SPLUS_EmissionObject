{
 "cells": [
  {
   "cell_type": "code",
   "execution_count": 2,
   "metadata": {},
   "outputs": [],
   "source": [
    "import numpy as np\n",
    "from sklearn import metrics\n",
    "import matplotlib.pyplot as plt\n",
    "from scipy.optimize import curve_fit\n",
    "from sklearn.datasets import make_blobs\n",
    "from sklearn.preprocessing import StandardScaler\n",
    "import pandas as pd\n",
    "from astropy.table import Table, vstack\n",
    "import hdbscan\n",
    "from pathlib import Path\n",
    "import seaborn as sns\n",
    "import glob\n",
    "import json\n",
    "%matplotlib inline\n",
    "sns.set_color_codes()"
   ]
  },
  {
   "cell_type": "code",
   "execution_count": 3,
   "metadata": {},
   "outputs": [],
   "source": [
    "ROOT_PATH = Path(\"..\") "
   ]
  },
  {
   "cell_type": "code",
   "execution_count": 4,
   "metadata": {},
   "outputs": [],
   "source": [
    "table1 = Table.read(ROOT_PATH / \"Halpha-DR3_errorsall_flagallf_r16.ecsv\", format=\"ascii.ecsv\")\n",
    "table2 = Table.read(ROOT_PATH / \"Halpha-DR3_errorsall_flagallf_16r18.ecsv\", format=\"ascii.ecsv\")\n",
    "table3 = Table.read(ROOT_PATH / \"Halpha-DR3_errorsall_flagallf_18r20.ecsv\", format=\"ascii.ecsv\")\n",
    "table4 = Table.read(ROOT_PATH / \"Halpha-DR3_errorsall_flagallf_20r21.ecsv\", format=\"ascii.ecsv\")"
   ]
  },
  {
   "cell_type": "code",
   "execution_count": 5,
   "metadata": {},
   "outputs": [
    {
     "data": {
      "text/plain": [
       "4109"
      ]
     },
     "execution_count": 5,
     "metadata": {},
     "output_type": "execute_result"
    }
   ],
   "source": [
    "# Merge tall four tables\n",
    "table_merge = vstack([table1, table2, table3, table4])\n",
    "len(table_merge)"
   ]
  },
  {
   "cell_type": "code",
   "execution_count": 7,
   "metadata": {},
   "outputs": [],
   "source": [
    "cx = table_merge[\"r - i\"]\n",
    "cy = table_merge[\"r - Halpha\"]"
   ]
  },
  {
   "cell_type": "code",
   "execution_count": 10,
   "metadata": {},
   "outputs": [],
   "source": [
    "# Mask to choose the strong Halpha emiters with large FWHM\n",
    "m1 = cy > 2.0\n",
    "m2 = cx <= 0.0\n",
    "m3 = table_merge[\"FWHM\"] > 10.0\n",
    "mask = m1 & m2 & m3"
   ]
  },
  {
   "cell_type": "code",
   "execution_count": 11,
   "metadata": {},
   "outputs": [
    {
     "data": {
      "text/html": [
       "<i>Table length=7</i>\n",
       "<table id=\"table140041371760000\" class=\"table-striped table-bordered table-condensed\">\n",
       "<thead><tr><th>Unnamed: 0</th><th>Field</th><th>ID</th><th>RA</th><th>DEC</th><th>FWHM</th><th>ISOarea</th><th>KRON_RADIUS</th><th>nDet_magPStotal</th><th>PhotoFlagDet</th><th>U_PStotal</th><th>F378_PStotal</th><th>F395_PStotal</th><th>F410_PStotal</th><th>F430_PStotal</th><th>G_PStotal</th><th>F515_PStotal</th><th>R_PStotal</th><th>F660_PStotal</th><th>I_PStotal</th><th>F861_PStotal</th><th>Z_PStotal</th><th>e_U_PStotal</th><th>e_F378_PStotal</th><th>e_F395_PStotal</th><th>e_F410_PStotal</th><th>e_F430_PStotal</th><th>e_G_PStotal</th><th>e_F515_PStotal</th><th>e_R_PStotal</th><th>e_F660_PStotal</th><th>e_I_PStotal</th><th>e_F861_PStotal</th><th>e_Z_PStotal</th><th>r - i</th><th>r - Halpha</th><th>e(r - i)</th><th>e(r - Halpha)</th></tr></thead>\n",
       "<thead><tr><th>int64</th><th>str13</th><th>str25</th><th>float64</th><th>float64</th><th>float64</th><th>int64</th><th>float64</th><th>float64</th><th>int64</th><th>float64</th><th>float64</th><th>float64</th><th>float64</th><th>float64</th><th>float64</th><th>float64</th><th>float64</th><th>float64</th><th>float64</th><th>float64</th><th>float64</th><th>float64</th><th>float64</th><th>float64</th><th>float64</th><th>float64</th><th>float64</th><th>float64</th><th>float64</th><th>float64</th><th>float64</th><th>float64</th><th>float64</th><th>float64</th><th>float64</th><th>float64</th><th>float64</th></tr></thead>\n",
       "<tr><td>483974</td><td>HYDRA-0142</td><td>iDR3.HYDRA-0142.007038</td><td>160.73762105707308</td><td>-43.845424379784326</td><td>21.168516</td><td>280</td><td>3.1599357000000006</td><td>12.0</td><td>2</td><td>16.449394</td><td>16.032984</td><td>15.907335</td><td>15.269803</td><td>15.203496</td><td>14.958732999999999</td><td>14.71611</td><td>16.673845</td><td>14.318173999999999</td><td>17.942833</td><td>14.169412</td><td>17.507395000000002</td><td>0.007849379</td><td>0.008769229</td><td>0.011416873999999999</td><td>0.007533270999999999</td><td>0.007056803</td><td>0.002693635</td><td>0.0045675229999999995</td><td>0.0053158747</td><td>0.0020596882999999997</td><td>0.014038331999999999</td><td>0.0029330775</td><td>0.01746801</td><td>-1.2689880000000002</td><td>2.355671000000001</td><td>0.015011105527852505</td><td>0.005700950773270804</td></tr>\n",
       "<tr><td>132050</td><td>HYDRA-0132</td><td>iDR3.HYDRA-0132.001828</td><td>157.3720805152552</td><td>-42.534606729596646</td><td>14.506017000000002</td><td>187</td><td>3.4075602999999997</td><td>12.0</td><td>2</td><td>17.781334</td><td>17.496563000000002</td><td>17.199036</td><td>16.613325</td><td>16.481120999999998</td><td>17.722122</td><td>15.950529000000001</td><td>18.68964</td><td>15.586765</td><td>19.782522</td><td>15.332018</td><td>15.426542999999999</td><td>0.016601853</td><td>0.021072387999999997</td><td>0.024314826</td><td>0.016067281</td><td>0.0146168405</td><td>0.011487674</td><td>0.008935469</td><td>0.01788821</td><td>0.003049692</td><td>0.05276566</td><td>0.0039480035</td><td>0.0034162173999999997</td><td>-1.0928819999999995</td><td>3.102875000000001</td><td>0.055715374289685066</td><td>0.01814631307728829</td></tr>\n",
       "<tr><td>106</td><td>HYDRA-0030</td><td>iDR3.HYDRA-0030.049468</td><td>150.78094563779996</td><td>-26.62096027605093</td><td>12.616287</td><td>53</td><td>4.428031400000001</td><td>12.0</td><td>2</td><td>20.764448</td><td>20.259601999999997</td><td>20.29581</td><td>19.46883</td><td>19.174389</td><td>18.792194</td><td>18.554865</td><td>20.399944</td><td>18.011967000000002</td><td>21.270731</td><td>17.750477</td><td>20.443351999999997</td><td>0.084536895</td><td>0.08182325</td><td>0.1305992</td><td>0.056068134000000006</td><td>0.04331282</td><td>0.012620524</td><td>0.022267144</td><td>0.04076832</td><td>0.008613909</td><td>0.11932432</td><td>0.013429752</td><td>0.10912053</td><td>-0.870787</td><td>2.3879769999999994</td><td>0.12609658702393495</td><td>0.04166839742397925</td></tr>\n",
       "<tr><td>585</td><td>HYDRA-0148</td><td>iDR3.HYDRA-0148.046109</td><td>158.337239584522</td><td>-44.75240002572691</td><td>14.424323999999999</td><td>46</td><td>5.739618</td><td>12.0</td><td>0</td><td>20.05165</td><td>19.444229999999997</td><td>19.234634</td><td>19.017738</td><td>18.809134</td><td>18.507255999999998</td><td>18.319681</td><td>20.036194000000002</td><td>17.816622</td><td>21.013922</td><td>17.473677</td><td>20.317503</td><td>0.13616529</td><td>0.11086415</td><td>0.13189289999999998</td><td>0.10157519599999999</td><td>0.08492621</td><td>0.024280408</td><td>0.04003843</td><td>0.06983803</td><td>0.013978787</td><td>0.19713281</td><td>0.020763125</td><td>0.19343773</td><td>-0.977727999999999</td><td>2.219572000000003</td><td>0.2091379812773782</td><td>0.0712232891705534</td></tr>\n",
       "<tr><td>604</td><td>STRIPE82-0105</td><td>iDR3.STRIPE82-0105.074566</td><td>312.84949649433264</td><td>0.039229414280744716</td><td>12.141382</td><td>60</td><td>2.741566</td><td>12.0</td><td>0</td><td>20.049376000000002</td><td>18.659847</td><td>18.62501</td><td>17.847141</td><td>17.597906</td><td>20.611720000000002</td><td>16.85375</td><td>20.470932</td><td>16.375607000000002</td><td>20.472839999999998</td><td>16.018988</td><td>16.4514</td><td>0.07340374</td><td>0.03690672</td><td>0.054393534</td><td>0.026388553999999998</td><td>0.021694817</td><td>0.072378695</td><td>0.012633656000000002</td><td>0.06951856599999999</td><td>0.005494621999999999</td><td>0.099074125</td><td>0.010085376</td><td>0.006741283000000001</td><td>-0.0019079999999966901</td><td>4.095324999999999</td><td>0.12103104256021253</td><td>0.06973537043437311</td></tr>\n",
       "<tr><td>155</td><td>SPLUS-n17s20</td><td>iDR3.SPLUS-n17s20.015108</td><td>179.30717978975704</td><td>-22.010175802110577</td><td>27.911236</td><td>528</td><td>3.4175122000000004</td><td>12.0</td><td>2</td><td>16.451168</td><td>16.060959</td><td>15.997681</td><td>15.451084</td><td>15.413457999999999</td><td>15.178811999999999</td><td>14.896689000000002</td><td>20.592487</td><td>14.654846</td><td>20.814854</td><td>14.521301000000001</td><td>18.737041</td><td>0.0051722676</td><td>0.0063072996999999995</td><td>0.008841961</td><td>0.0059743669999999995</td><td>0.005598399999999999</td><td>0.0024068456</td><td>0.0038608878</td><td>0.06808039</td><td>0.0018650822</td><td>0.107801594</td><td>0.0025444494</td><td>0.03235408</td><td>-0.22236700000000198</td><td>5.937640999999999</td><td>0.12749950263233553</td><td>0.06810593244472068</td></tr>\n",
       "<tr><td>7</td><td>SPLUS-n01s27</td><td>iDR3.SPLUS-n01s27.033611</td><td>186.8141880928043</td><td>0.15584201715578785</td><td>16.819906</td><td>50</td><td>3.8613293</td><td>12.0</td><td>2</td><td>18.883032</td><td>18.434713000000002</td><td>18.232014000000003</td><td>17.947767000000002</td><td>18.068077</td><td>20.522582999999997</td><td>17.954012</td><td>20.341793</td><td>17.754406</td><td>20.582727</td><td>17.602710000000002</td><td>18.353176</td><td>0.034855932</td><td>0.03687889</td><td>0.051044955999999995</td><td>0.037765004</td><td>0.036967427000000004</td><td>0.07769665</td><td>0.026350321</td><td>0.06714606</td><td>0.012374558999999999</td><td>0.11444511</td><td>0.023860905</td><td>0.03220735</td><td>-0.24093399999999932</td><td>2.5873869999999997</td><td>0.13268864524304896</td><td>0.06827681219834505</td></tr>\n",
       "</table>"
      ],
      "text/plain": [
       "<Table length=7>\n",
       "Unnamed: 0     Field     ...       e(r - i)          e(r - Halpha)    \n",
       "  int64        str13     ...       float64              float64       \n",
       "---------- ------------- ... -------------------- --------------------\n",
       "    483974    HYDRA-0142 ... 0.015011105527852505 0.005700950773270804\n",
       "    132050    HYDRA-0132 ... 0.055715374289685066  0.01814631307728829\n",
       "       106    HYDRA-0030 ...  0.12609658702393495  0.04166839742397925\n",
       "       585    HYDRA-0148 ...   0.2091379812773782   0.0712232891705534\n",
       "       604 STRIPE82-0105 ...  0.12103104256021253  0.06973537043437311\n",
       "       155  SPLUS-n17s20 ...  0.12749950263233553  0.06810593244472068\n",
       "         7  SPLUS-n01s27 ...  0.13268864524304896  0.06827681219834505"
      ]
     },
     "execution_count": 11,
     "metadata": {},
     "output_type": "execute_result"
    }
   ],
   "source": [
    "table_emg = table_merge[mask]\n",
    "table_emg"
   ]
  },
  {
   "cell_type": "code",
   "execution_count": null,
   "metadata": {},
   "outputs": [],
   "source": []
  }
 ],
 "metadata": {
  "kernelspec": {
   "display_name": "Python 3",
   "language": "python",
   "name": "python3"
  },
  "language_info": {
   "codemirror_mode": {
    "name": "ipython",
    "version": 3
   },
   "file_extension": ".py",
   "mimetype": "text/x-python",
   "name": "python",
   "nbconvert_exporter": "python",
   "pygments_lexer": "ipython3",
   "version": "3.8.5"
  }
 },
 "nbformat": 4,
 "nbformat_minor": 4
}
