{
 "cells": [
  {
   "cell_type": "markdown",
   "metadata": {},
   "source": [
    "Let’s generate some data with, say 2000 samples, and 10 features. We can put it in a dataframe for a nice clean table view of it."
   ]
  },
  {
   "cell_type": "code",
   "execution_count": 1,
   "metadata": {},
   "outputs": [],
   "source": [
    "from sklearn.datasets import make_blobs\n",
    "import pandas as pd"
   ]
  },
  {
   "cell_type": "code",
   "execution_count": 2,
   "metadata": {},
   "outputs": [
    {
     "data": {
      "text/html": [
       "<div>\n",
       "<style scoped>\n",
       "    .dataframe tbody tr th:only-of-type {\n",
       "        vertical-align: middle;\n",
       "    }\n",
       "\n",
       "    .dataframe tbody tr th {\n",
       "        vertical-align: top;\n",
       "    }\n",
       "\n",
       "    .dataframe thead th {\n",
       "        text-align: right;\n",
       "    }\n",
       "</style>\n",
       "<table border=\"1\" class=\"dataframe\">\n",
       "  <thead>\n",
       "    <tr style=\"text-align: right;\">\n",
       "      <th></th>\n",
       "      <th>0</th>\n",
       "      <th>1</th>\n",
       "      <th>2</th>\n",
       "      <th>3</th>\n",
       "      <th>4</th>\n",
       "      <th>5</th>\n",
       "      <th>6</th>\n",
       "      <th>7</th>\n",
       "      <th>8</th>\n",
       "      <th>9</th>\n",
       "    </tr>\n",
       "  </thead>\n",
       "  <tbody>\n",
       "    <tr>\n",
       "      <th>0</th>\n",
       "      <td>-1.054773</td>\n",
       "      <td>3.266281</td>\n",
       "      <td>-5.058724</td>\n",
       "      <td>4.431432</td>\n",
       "      <td>4.566634</td>\n",
       "      <td>-6.985128</td>\n",
       "      <td>-2.721156</td>\n",
       "      <td>-9.001832</td>\n",
       "      <td>8.697240</td>\n",
       "      <td>6.158202</td>\n",
       "    </tr>\n",
       "    <tr>\n",
       "      <th>1</th>\n",
       "      <td>0.271185</td>\n",
       "      <td>3.179104</td>\n",
       "      <td>-5.467270</td>\n",
       "      <td>2.762884</td>\n",
       "      <td>6.097292</td>\n",
       "      <td>-6.367309</td>\n",
       "      <td>-3.921054</td>\n",
       "      <td>-7.481375</td>\n",
       "      <td>5.342334</td>\n",
       "      <td>5.190005</td>\n",
       "    </tr>\n",
       "    <tr>\n",
       "      <th>2</th>\n",
       "      <td>-0.526512</td>\n",
       "      <td>-5.675015</td>\n",
       "      <td>-6.364774</td>\n",
       "      <td>-4.295291</td>\n",
       "      <td>2.334135</td>\n",
       "      <td>-6.843486</td>\n",
       "      <td>1.329903</td>\n",
       "      <td>-0.476329</td>\n",
       "      <td>-3.637159</td>\n",
       "      <td>-0.249114</td>\n",
       "    </tr>\n",
       "    <tr>\n",
       "      <th>3</th>\n",
       "      <td>8.492310</td>\n",
       "      <td>-2.424373</td>\n",
       "      <td>-10.757956</td>\n",
       "      <td>-6.841205</td>\n",
       "      <td>-1.973188</td>\n",
       "      <td>5.699162</td>\n",
       "      <td>1.681388</td>\n",
       "      <td>-8.096478</td>\n",
       "      <td>10.007756</td>\n",
       "      <td>0.578177</td>\n",
       "    </tr>\n",
       "    <tr>\n",
       "      <th>4</th>\n",
       "      <td>6.759601</td>\n",
       "      <td>1.643052</td>\n",
       "      <td>-9.657061</td>\n",
       "      <td>-7.500850</td>\n",
       "      <td>-3.111879</td>\n",
       "      <td>6.643420</td>\n",
       "      <td>1.067249</td>\n",
       "      <td>-9.657273</td>\n",
       "      <td>8.477428</td>\n",
       "      <td>0.031631</td>\n",
       "    </tr>\n",
       "  </tbody>\n",
       "</table>\n",
       "</div>"
      ],
      "text/plain": [
       "          0         1          2         3         4         5         6  \\\n",
       "0 -1.054773  3.266281  -5.058724  4.431432  4.566634 -6.985128 -2.721156   \n",
       "1  0.271185  3.179104  -5.467270  2.762884  6.097292 -6.367309 -3.921054   \n",
       "2 -0.526512 -5.675015  -6.364774 -4.295291  2.334135 -6.843486  1.329903   \n",
       "3  8.492310 -2.424373 -10.757956 -6.841205 -1.973188  5.699162  1.681388   \n",
       "4  6.759601  1.643052  -9.657061 -7.500850 -3.111879  6.643420  1.067249   \n",
       "\n",
       "          7          8         9  \n",
       "0 -9.001832   8.697240  6.158202  \n",
       "1 -7.481375   5.342334  5.190005  \n",
       "2 -0.476329  -3.637159 -0.249114  \n",
       "3 -8.096478  10.007756  0.578177  \n",
       "4 -9.657273   8.477428  0.031631  "
      ]
     },
     "execution_count": 2,
     "metadata": {},
     "output_type": "execute_result"
    }
   ],
   "source": [
    "blobs, labels = make_blobs(n_samples=2000, n_features=10)\n",
    "pd.DataFrame(blobs).head()"
   ]
  },
  {
   "cell_type": "code",
   "execution_count": 1,
   "metadata": {},
   "outputs": [],
   "source": [
    "import hdbscan"
   ]
  },
  {
   "cell_type": "code",
   "execution_count": null,
   "metadata": {},
   "outputs": [],
   "source": []
  }
 ],
 "metadata": {
  "kernelspec": {
   "display_name": "Python 3",
   "language": "python",
   "name": "python3"
  },
  "language_info": {
   "codemirror_mode": {
    "name": "ipython",
    "version": 3
   },
   "file_extension": ".py",
   "mimetype": "text/x-python",
   "name": "python",
   "nbconvert_exporter": "python",
   "pygments_lexer": "ipython3",
   "version": "3.8.5"
  }
 },
 "nbformat": 4,
 "nbformat_minor": 2
}
