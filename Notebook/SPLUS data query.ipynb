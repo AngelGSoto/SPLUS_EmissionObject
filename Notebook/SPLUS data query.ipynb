{
 "cells": [
  {
   "cell_type": "code",
   "execution_count": 1,
   "id": "fundamental-iraqi",
   "metadata": {},
   "outputs": [],
   "source": [
    "import splusdata"
   ]
  },
  {
   "cell_type": "code",
   "execution_count": 2,
   "id": "exclusive-album",
   "metadata": {},
   "outputs": [
    {
     "name": "stdout",
     "output_type": "stream",
     "text": [
      "You have access to internal data\n"
     ]
    }
   ],
   "source": [
    "conn = splusdata.connect('Luis', 'plutarco*80') ## from splus.cloud"
   ]
  },
  {
   "cell_type": "code",
   "execution_count": 3,
   "id": "permanent-spare",
   "metadata": {},
   "outputs": [
    {
     "name": "stdout",
     "output_type": "stream",
     "text": [
      "Tables and columns info at https://splus.cloud/\n"
     ]
    }
   ],
   "source": [
    "conn.get_tap_tables()"
   ]
  },
  {
   "cell_type": "code",
   "execution_count": 4,
   "id": "affected-annotation",
   "metadata": {},
   "outputs": [],
   "source": [
    "import astropy\n",
    "from astropy.table import Table, vstack\n",
    "#from pyvo.dal import TAPService"
   ]
  },
  {
   "cell_type": "code",
   "execution_count": 5,
   "id": "honest-arrest",
   "metadata": {},
   "outputs": [],
   "source": [
    "maxPrevRA = 0\n",
    "merged_table = None\n",
    "merged_table_list = []\n",
    "chunksize = 1000\n",
    "maxcount = 1000000\n",
    "count = 0"
   ]
  },
  {
   "cell_type": "code",
   "execution_count": null,
   "id": "fatty-excitement",
   "metadata": {},
   "outputs": [],
   "source": [
    "while count < maxcount:\n",
    "    query_text = f\"SELECT top {chunksize} detection.Field, detection.ID, detection.RA, detection.DEC, detection.FWHM, detection.ISOarea, detection.KRON_RADIUS, detection.nDet_magPStotal, detection.PhotoFlagDet, u.U_PStotal, f378.F378_PStotal, f395.F395_PStotal, f410.F410_PStotal, f430.F430_PStotal, g.G_PStotal, f515.F515_PStotal, r.R_PStotal, f660.F660_PStotal, i.I_PStotal, f861.F861_PStotal, z.Z_PStotal, u.e_U_PStotal, f378.e_F378_PStotal, f395.e_F395_PStotal, f410.e_F410_PStotal, f430.e_F430_PStotal, g.e_G_PStotal, f515.e_F515_PStotal, r.e_R_PStotal, f660.e_F660_PStotal, i.e_I_PStotal, f861.e_F861_PStotal, z.e_Z_PStotal FROM idr3.detection_image as detection JOIN idr3.u_band as u ON detection.ID=u.ID JOIN idr3.f378_band as f378 ON detection.ID=f378.ID JOIN idr3.f395_band as f395 ON detection.ID=f395.ID JOIN idr3.f410_band as f410 ON detection.ID=f410.ID JOIN idr3.f430_band as f430 ON detection.ID=f430.ID JOIN idr3.g_band as g ON detection.ID=g.ID JOIN idr3.f515_band as f515 ON detection.ID=f515.ID JOIN idr3.r_band as r ON detection.ID=r.ID JOIN idr3.f660_band as f660 ON detection.ID=f660.ID JOIN idr3.i_band as i ON detection.ID=i.ID JOIN idr3.f861_band as f861 ON detection.ID=f861.ID JOIN idr3.z_band as z ON detection.ID=z.ID WHERE R_PStotal <= 16.0 AND e_U_PStotal <= 0.2 AND e_F378_PStotal <= 0.2 AND e_F395_PStotal <= 0.2 AND e_F410_PStotal <= 0.2 AND e_F430_PStotal <= 0.2 AND e_G_PStotal <= 0.2 AND e_F515_PStotal <= 0.2 AND e_R_PStotal <= 0.2 AND e_F660_PStotal <= 0.2 AND e_I_PStotal <= 0.2 AND e_F861_PStotal <= 0.2 AND e_Z_PStotal <= 0.2 AND FWHM < 7.0\" \n",
    "    results = conn.query(query_text)"
   ]
  },
  {
   "cell_type": "code",
   "execution_count": null,
   "id": "allied-bridges",
   "metadata": {},
   "outputs": [],
   "source": []
  }
 ],
 "metadata": {
  "kernelspec": {
   "display_name": "Python 3",
   "language": "python",
   "name": "python3"
  },
  "language_info": {
   "codemirror_mode": {
    "name": "ipython",
    "version": 3
   },
   "file_extension": ".py",
   "mimetype": "text/x-python",
   "name": "python",
   "nbconvert_exporter": "python",
   "pygments_lexer": "ipython3",
   "version": "3.8.5"
  }
 },
 "nbformat": 4,
 "nbformat_minor": 5
}
