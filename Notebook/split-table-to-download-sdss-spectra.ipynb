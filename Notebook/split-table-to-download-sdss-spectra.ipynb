{
 "cells": [
  {
   "cell_type": "code",
   "execution_count": 29,
   "id": "7565c758",
   "metadata": {},
   "outputs": [],
   "source": [
    "from astroquery.sdss import SDSS\n",
    "from astropy import coordinates as coords\n",
    "from astropy.coordinates import SkyCoord \n",
    "from astropy.table import Table, vstack\n",
    "import astropy.units as u\n",
    "import pandas as pd\n",
    "from astropy.io import fits\n",
    "import numpy as np\n",
    "from pathlib import Path"
   ]
  },
  {
   "cell_type": "code",
   "execution_count": 30,
   "id": "de47f443-93ae-48ef-8647-a8aa7f097d60",
   "metadata": {},
   "outputs": [],
   "source": [
    "ROOT_PATH = Path(\"../iDR3_n4\")"
   ]
  },
  {
   "cell_type": "code",
   "execution_count": 31,
   "id": "a4defdf8-ecf5-4af4-949a-16cf092e033a",
   "metadata": {},
   "outputs": [
    {
     "name": "stdout",
     "output_type": "stream",
     "text": [
      "Number of objects: 8720\n",
      "Mim RA 0.3703484711218164\n",
      "Max RA 359.98004054416225\n"
     ]
    }
   ],
   "source": [
    "tab = Table.read(ROOT_PATH / \"Good-LD-Halpha-DR3_noFlag_merge-takeoutbad-Final.ecsv\", format=\"ascii.ecsv\")\n",
    "print(\"Number of objects:\", len(tab))\n",
    "print(\"Mim RA\", tab[\"RA\"].min())\n",
    "print(\"Max RA\", tab[\"RA\"].max())"
   ]
  },
  {
   "cell_type": "code",
   "execution_count": 32,
   "id": "8098b9c4-b9e9-4ef3-8359-727ad784eba0",
   "metadata": {},
   "outputs": [],
   "source": [
    "tab.sort('RA')"
   ]
  },
  {
   "cell_type": "code",
   "execution_count": 33,
   "id": "dec3a2d7-68af-4c3a-afa2-f321653b26e0",
   "metadata": {},
   "outputs": [],
   "source": [
    "m = tab[\"RA\"] < 30\n",
    "m1 = (tab[\"RA\"] >= 30) & (tab[\"RA\"] < 70)\n",
    "m2 = (tab[\"RA\"] >= 70) & (tab[\"RA\"] < 150)\n",
    "m3 = (tab[\"RA\"] >= 150) & (tab[\"RA\"] < 154)\n",
    "m4 = (tab[\"RA\"] >= 154) & (tab[\"RA\"] < 159)\n",
    "m5 = (tab[\"RA\"] >= 159) & (tab[\"RA\"] < 165)\n",
    "m6 = (tab[\"RA\"] >= 165) & (tab[\"RA\"] < 190)\n",
    "m7 = (tab[\"RA\"] >= 190) & (tab[\"RA\"] < 300)\n",
    "m8 = (tab[\"RA\"] >= 300) & (tab[\"RA\"] < 310)\n",
    "m9 = (tab[\"RA\"] >= 310) & (tab[\"RA\"] < 330)\n",
    "m10 = (tab[\"RA\"] >= 330) "
   ]
  },
  {
   "cell_type": "code",
   "execution_count": 34,
   "id": "f4cfac03-07b1-4e91-87b8-df0798278e51",
   "metadata": {},
   "outputs": [
    {
     "data": {
      "text/plain": [
       "8720"
      ]
     },
     "execution_count": 34,
     "metadata": {},
     "output_type": "execute_result"
    }
   ],
   "source": [
    "len(vstack([tab[m], tab[m1], tab[m2], tab[m3], tab[m4], tab[m5], tab[m6], tab[m7], tab[m8], tab[m9], tab[m10]]))"
   ]
  },
  {
   "cell_type": "markdown",
   "id": "08c0d1f8",
   "metadata": {},
   "source": [
    "## definition"
   ]
  },
  {
   "cell_type": "code",
   "execution_count": 35,
   "id": "7ecee412-58e0-470b-9160-5e76202a9762",
   "metadata": {},
   "outputs": [],
   "source": [
    "def seve_file(table):\n",
    "    n = len(table)\n",
    "    sep = np.linspace(2.0/60., 2.0/60., num=n)\n",
    "    t = Table([table['RA'], table['DEC'], sep], names=('ra', 'dec', 'sep'),\n",
    "                                                          meta={'name': 'first table'}) \n",
    "    return t"
   ]
  },
  {
   "cell_type": "code",
   "execution_count": 40,
   "id": "3630c5a5",
   "metadata": {},
   "outputs": [],
   "source": [
    "seve_file(tab[m]).write(\"../iDR3_n4/SDSS-spectra-all/coor-halpha-1.dat\", format=\"ascii\", delimiter=',', overwrite=True)\n",
    "seve_file(tab[m1]).write(\"../iDR3_n4/SDSS-spectra-all/coor-halpha-2.dat\", format=\"ascii\", delimiter=',', overwrite=True)\n",
    "seve_file(tab[m2]).write(\"../iDR3_n4/SDSS-spectra-all/coor-halpha-3.dat\", format=\"ascii\", delimiter=',', overwrite=True)\n",
    "seve_file(tab[m3]).write(\"../iDR3_n4/SDSS-spectra-all/coor-halpha-4.dat\", format=\"ascii\", delimiter=',', overwrite=True) \n",
    "seve_file(tab[m4]).write(\"../iDR3_n4/SDSS-spectra-all/coor-halpha-5.dat\", format=\"ascii\", delimiter=',', overwrite=True)\n",
    "seve_file(tab[m5]).write(\"../iDR3_n4/SDSS-spectra-all/coor-halpha-6.dat\", format=\"ascii\", delimiter=',', overwrite=True) \n",
    "seve_file(tab[m6]).write(\"../iDR3_n4/SDSS-spectra-all/coor-halpha-7.dat\", format=\"ascii\", delimiter=',', overwrite=True)\n",
    "seve_file(tab[m7]).write(\"../iDR3_n4/SDSS-spectra-all/coor-halpha-8.dat\", format=\"ascii\", delimiter=',', overwrite=True)\n",
    "seve_file(tab[m8]).write(\"../iDR3_n4/SDSS-spectra-all/coor-halpha-9.dat\", format=\"ascii\", delimiter=',', overwrite=True)\n",
    "seve_file(tab[m9]).write(\"../iDR3_n4/SDSS-spectra-all/coor-halpha-10.dat\", format=\"ascii\", delimiter=',', overwrite=True) \n",
    "seve_file(tab[m10]).write(\"../iDR3_n4/SDSS-spectra-all/coor-halpha-11.dat\", format=\"ascii\", delimiter=',', overwrite=True) "
   ]
  },
  {
   "cell_type": "code",
   "execution_count": null,
   "id": "43a27d1f",
   "metadata": {},
   "outputs": [],
   "source": []
  },
  {
   "cell_type": "code",
   "execution_count": null,
   "id": "20605bf7",
   "metadata": {},
   "outputs": [],
   "source": []
  }
 ],
 "metadata": {
  "kernelspec": {
   "display_name": "Python 3",
   "language": "python",
   "name": "python3"
  },
  "language_info": {
   "codemirror_mode": {
    "name": "ipython",
    "version": 3
   },
   "file_extension": ".py",
   "mimetype": "text/x-python",
   "name": "python",
   "nbconvert_exporter": "python",
   "pygments_lexer": "ipython3",
   "version": "3.8.5"
  }
 },
 "nbformat": 4,
 "nbformat_minor": 5
}
