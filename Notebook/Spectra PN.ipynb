{
 "cells": [
  {
   "cell_type": "code",
   "execution_count": 39,
   "id": "23d57f3d",
   "metadata": {},
   "outputs": [
    {
     "name": "stdout",
     "output_type": "stream",
     "text": [
      "Populating the interactive namespace from numpy and matplotlib\n"
     ]
    },
    {
     "name": "stderr",
     "output_type": "stream",
     "text": [
      "/home/luis/anaconda3/lib/python3.8/site-packages/IPython/core/magics/pylab.py:159: UserWarning: pylab import has clobbered these variables: ['i0']\n",
      "`%matplotlib` prevents importing * from pylab and numpy\n",
      "  warn(\"pylab import has clobbered these variables: %s\"  % clobbered +\n"
     ]
    }
   ],
   "source": [
    "%pylab inline"
   ]
  },
  {
   "cell_type": "code",
   "execution_count": 40,
   "id": "04a74572",
   "metadata": {},
   "outputs": [],
   "source": [
    "from __future__ import print_function\n",
    "from astropy.io import fits\n",
    "import os\n",
    "import numpy as np\n",
    "import glob\n",
    "import matplotlib.pyplot as plt\n",
    "from astropy.wcs import WCS\n",
    "from pathlib import Path"
   ]
  },
  {
   "cell_type": "code",
   "execution_count": 41,
   "id": "8553bf1d",
   "metadata": {},
   "outputs": [],
   "source": [
    "ROOT_PATH = Path(\"../iDR3_n4\")"
   ]
  },
  {
   "cell_type": "code",
   "execution_count": 42,
   "id": "59083abe",
   "metadata": {},
   "outputs": [
    {
     "name": "stdout",
     "output_type": "stream",
     "text": [
      "Filename: ../iDR3_n4/StenholmAcker_pn_g006_0-41_9_id176.fits\n",
      "No.    Name      Ver    Type      Cards   Dimensions   Format\n",
      "  0  PRIMARY       1 PrimaryHDU      42   (3551,)   float32   \n"
     ]
    }
   ],
   "source": [
    "hdulist = fits.open(ROOT_PATH / \"StenholmAcker_pn_g006_0-41_9_id176.fits\")\n",
    "hdulist.info()"
   ]
  },
  {
   "cell_type": "code",
   "execution_count": 43,
   "id": "2ca53459",
   "metadata": {},
   "outputs": [
    {
     "data": {
      "text/plain": [
       "SIMPLE  =                    T / Standard FITS format                           \n",
       "BITPIX  =                  -32 / No. of bits per pixel                          \n",
       "NAXIS   =                    1 / No. of axes in image                           \n",
       "NAXIS1  =                 3551 / No. of pixels                                  \n",
       "EXTEND  =                    T / FITS extension may be present                  \n",
       "BLOCKED =                    T / FITS file may be blocked                       \n",
       "                                                                                \n",
       "CRPIX1  =                   1. / Reference pixel                                \n",
       "CRVAL1  =                3850. / Coordinate at reference pixel                  \n",
       "CDELT1  =                   1. / Coordinate increment per pixel                 \n",
       "CTYPE1  = '                '   / Units of coordinate                            \n",
       "BUNIT   = '                '   / Units of data values                           \n",
       "DATAMAX =        263.130554199 / Maximum data value                             \n",
       "DATAMIN =       -2.37442874908 / Minimum data value                             \n",
       "                                                                                \n",
       "ORIGIN  = 'ESO-MIDAS'          / Written by MIDAS                               \n",
       "DATE    = '17/07/98'           /  [UTC] Date of writting                        \n",
       "FILENAME= 'temp.bdf'           / Original file base-name                        \n",
       "MIDASFTP= 'IMAGE   '           / MIDAS File Type                                \n",
       "                                                                                \n",
       "OBJECT  = 'PN_G006.0-41.9'     / MIDAS desc.: IDENT(1)                          \n",
       "RA      =                   0. / MIDAS desc.: O_POS(1)                          \n",
       "DEC     =                   0. / MIDAS desc.: O_POS(2)                          \n",
       "DATE-OBS= '03/06/89'           / MIDAS desc.: O_TIME(1)                         \n",
       "TM-START=                   0. / MIDAS desc.: O_TIME(5)                         \n",
       "EXPTIME =                 600. / MIDAS desc.: O_TIME(7)                         \n",
       "HISTORY Renamed from x__x0001.bdf to temp.bdf                                  \\\n",
       "HISTORY  Renamed from x__x0001.bdf to temp.bdf                                 \\\n",
       "HISTORY                                                                         \n",
       "AIRMASS =                 1.07 / MIDAS desc.: O_AIRM(1)                         \n",
       "CRVAL   =                3850.                                                  \n",
       "                                                                                \n",
       "HISTORY  ESO-DESCRIPTORS START   ................                               \n",
       "HISTORY  'LHCUTS'         ,'R*4 '   ,    1,    6,'5E14.7',' ',' '               \n",
       "HISTORY  -2.3744287E+00 2.6313055E+02-2.3744287E+00 2.6313055E+02 0.0000000E+00 \n",
       "HISTORY   0.0000000E+00                                                         \n",
       "HISTORY                                                                         \n",
       "HISTORY  'IHAPUSER'       ,'R*4 '   ,    1,    5,'5E14.7',' ',' '               \n",
       "HISTORY   0.0000000E+00 0.0000000E+00 0.0000000E+00 0.0000000E+00 0.0000000E+00 \n",
       "HISTORY                                                                         \n",
       "HISTORY  ESO-DESCRIPTORS END     ................                               \n",
       "                                                                                "
      ]
     },
     "execution_count": 43,
     "metadata": {},
     "output_type": "execute_result"
    }
   ],
   "source": [
    "hdulist[0].header"
   ]
  },
  {
   "cell_type": "code",
   "execution_count": 44,
   "id": "c189e2e8",
   "metadata": {},
   "outputs": [],
   "source": [
    "hdu = hdulist[0]"
   ]
  },
  {
   "cell_type": "code",
   "execution_count": 45,
   "id": "de54a136",
   "metadata": {},
   "outputs": [
    {
     "data": {
      "text/plain": [
       "array([ 6.957223  ,  9.373848  , 11.422213  , ...,  0.09673625,\n",
       "        0.09679906,  0.5464146 ], dtype=float32)"
      ]
     },
     "execution_count": 45,
     "metadata": {},
     "output_type": "execute_result"
    }
   ],
   "source": [
    "hdu.data"
   ]
  },
  {
   "cell_type": "code",
   "execution_count": 46,
   "id": "8864f333",
   "metadata": {},
   "outputs": [],
   "source": [
    "nx, wav0, i0, dwav = [hdu.header[k] for k in (\"NAXIS1\", \"CRVAL1\", \"CRPIX1\", \"CDELT1\")]\n",
    "wavs = wav0 + (np.arange(nx) - (i0 - 1))*dwav"
   ]
  },
  {
   "cell_type": "code",
   "execution_count": 47,
   "id": "3bc670c3",
   "metadata": {},
   "outputs": [
    {
     "data": {
      "text/plain": [
       "array([3850., 3851., 3852., ..., 7398., 7399., 7400.])"
      ]
     },
     "execution_count": 47,
     "metadata": {},
     "output_type": "execute_result"
    }
   ],
   "source": [
    "wavs"
   ]
  },
  {
   "cell_type": "code",
   "execution_count": 37,
   "id": "09ea986e",
   "metadata": {},
   "outputs": [],
   "source": [
    "Flux = hdulist[0].data"
   ]
  },
  {
   "cell_type": "code",
   "execution_count": 48,
   "id": "00387585",
   "metadata": {},
   "outputs": [
    {
     "data": {
      "image/png": "[encoded data removed]",
      "text/plain": [
       "<Figure size 864x576 with 1 Axes>"
      ]
     },
     "metadata": {
      "needs_background": "light"
     },
     "output_type": "display_data"
    }
   ],
   "source": [
    "#plt.xlim(xmin=4090,xmax=5010)\n",
    "#plt.ylim(ymin=-1e-17,ymax=1e-16)\n",
    "#xlabel(\"Wavelength, Angstrom\")\n",
    "#ylabel(\"Flux, erg/cm^2/s/A\")\n",
    "plt.plot(wavs, Flux)\n",
    "gcf().set_size_inches(12,8)\n",
    "grid()"
   ]
  },
  {
   "cell_type": "code",
   "execution_count": null,
   "id": "9d109b5a",
   "metadata": {},
   "outputs": [],
   "source": []
  }
 ],
 "metadata": {
  "kernelspec": {
   "display_name": "Python 3",
   "language": "python",
   "name": "python3"
  },
  "language_info": {
   "codemirror_mode": {
    "name": "ipython",
    "version": 3
   },
   "file_extension": ".py",
   "mimetype": "text/x-python",
   "name": "python",
   "nbconvert_exporter": "python",
   "pygments_lexer": "ipython3",
   "version": "3.8.5"
  }
 },
 "nbformat": 4,
 "nbformat_minor": 5
}
