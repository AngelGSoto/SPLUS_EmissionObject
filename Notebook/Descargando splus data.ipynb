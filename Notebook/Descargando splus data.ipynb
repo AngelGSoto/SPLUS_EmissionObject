{
 "cells": [
  {
   "cell_type": "code",
   "execution_count": 23,
   "metadata": {},
   "outputs": [],
   "source": [
    "import splusdata"
   ]
  },
  {
   "cell_type": "code",
   "execution_count": 24,
   "metadata": {},
   "outputs": [
    {
     "name": "stdout",
     "output_type": "stream",
     "text": [
      "You have access to internal data\n"
     ]
    }
   ],
   "source": [
    "conn = splusdata.connect('Luis', 'plutarco*80') ## from splus.cloud"
   ]
  },
  {
   "cell_type": "code",
   "execution_count": 25,
   "metadata": {},
   "outputs": [
    {
     "name": "stdout",
     "output_type": "stream",
     "text": [
      "Tables and columns info at https://splus.cloud/\n"
     ]
    }
   ],
   "source": [
    "conn.get_tap_tables()\n"
   ]
  },
  {
   "cell_type": "code",
   "execution_count": 27,
   "metadata": {},
   "outputs": [
    {
     "ename": "AttributeError",
     "evalue": "'connect' object has no attribute 'get_img'",
     "output_type": "error",
     "traceback": [
      "\u001b[0;31m---------------------------------------------------------------------------\u001b[0m",
      "\u001b[0;31mAttributeError\u001b[0m                            Traceback (most recent call last)",
      "\u001b[0;32m<ipython-input-27-b26d4330f53e>\u001b[0m in \u001b[0;36m<module>\u001b[0;34m\u001b[0m\n\u001b[0;32m----> 1\u001b[0;31m \u001b[0mconn\u001b[0m\u001b[0;34m.\u001b[0m\u001b[0mget_img\u001b[0m\u001b[0;34m(\u001b[0m\u001b[0;36m43.3559\u001b[0m\u001b[0;34m,\u001b[0m \u001b[0;34m-\u001b[0m\u001b[0;36m0.2322\u001b[0m\u001b[0;34m,\u001b[0m \u001b[0;36m200\u001b[0m\u001b[0;34m,\u001b[0m \u001b[0mR\u001b[0m\u001b[0;34m=\u001b[0m\u001b[0;34m\"I\"\u001b[0m\u001b[0;34m,\u001b[0m \u001b[0mG\u001b[0m\u001b[0;34m=\u001b[0m\u001b[0;34m\"R\"\u001b[0m\u001b[0;34m,\u001b[0m \u001b[0mB\u001b[0m\u001b[0;34m=\u001b[0m\u001b[0;34m\"G\"\u001b[0m\u001b[0;34m,\u001b[0m \u001b[0mstretch\u001b[0m\u001b[0;34m=\u001b[0m\u001b[0;36m0.5\u001b[0m\u001b[0;34m,\u001b[0m \u001b[0mQ\u001b[0m\u001b[0;34m=\u001b[0m\u001b[0;36m5\u001b[0m\u001b[0;34m)\u001b[0m\u001b[0;34m\u001b[0m\u001b[0;34m\u001b[0m\u001b[0m\n\u001b[0m",
      "\u001b[0;31mAttributeError\u001b[0m: 'connect' object has no attribute 'get_img'"
     ]
    }
   ],
   "source": [
    "conn.get_img(43.3559, -0.2322, 200, R=\"I\", G=\"R\", B=\"G\", stretch=0.5, Q=5)"
   ]
  },
  {
   "cell_type": "code",
   "execution_count": 6,
   "metadata": {},
   "outputs": [],
   "source": [
    "#conn.get_cut(0.4, 0.7, 1500, 'R') ## image FITS cuts - RA, DEC, Radius, band"
   ]
  },
  {
   "cell_type": "code",
   "execution_count": 8,
   "metadata": {},
   "outputs": [],
   "source": [
    "#conn.get_field('STRIPE82-0002', 'R') ## Field image FITS - Field, band"
   ]
  },
  {
   "cell_type": "code",
   "execution_count": 8,
   "metadata": {},
   "outputs": [
    {
     "data": {
      "text/plain": [
       "[<astropy.io.fits.hdu.image.PrimaryHDU object at 0x7f3722d5c520>, <astropy.io.fits.hdu.compressed.CompImageHDU object at 0x7f3722d5c640>]"
      ]
     },
     "execution_count": 8,
     "metadata": {},
     "output_type": "execute_result"
    }
   ],
   "source": [
    "conn.get_last_result() ## Returns result of the last operation made"
   ]
  },
  {
   "cell_type": "code",
   "execution_count": 9,
   "metadata": {},
   "outputs": [
    {
     "name": "stdout",
     "output_type": "stream",
     "text": [
      "Executing\n",
      "Executing\n",
      "finished\n"
     ]
    },
    {
     "data": {
      "text/html": [
       "<i>Table length=20001</i>\n",
       "<table id=\"table139730525604208\" class=\"table-striped table-bordered table-condensed\">\n",
       "<thead><tr><th>ID</th><th>RA</th><th>DEC</th></tr></thead>\n",
       "<thead><tr><th>bytes24</th><th>float64</th><th>float64</th></tr></thead>\n",
       "<tr><td>iDR3.SPLUS-s19s33.007198</td><td>331.14093901589115</td><td>-24.77879478692667</td></tr>\n",
       "<tr><td>iDR3.SPLUS-s19s33.007871</td><td>332.3816361015854</td><td>-24.762247481428005</td></tr>\n",
       "<tr><td>iDR3.SPLUS-s19s33.008704</td><td>331.145591755534</td><td>-24.73799694428528</td></tr>\n",
       "<tr><td>iDR3.SPLUS-s19s33.021505</td><td>331.9496548684669</td><td>-24.397532183039033</td></tr>\n",
       "<tr><td>iDR3.SPLUS-s19s33.024290</td><td>331.3723820807941</td><td>-24.323349388774037</td></tr>\n",
       "<tr><td>iDR3.SPLUS-s19s33.029891</td><td>331.28105155077935</td><td>-24.18851464301206</td></tr>\n",
       "<tr><td>iDR3.SPLUS-s19s33.046244</td><td>331.7913238567666</td><td>-23.618866463704055</td></tr>\n",
       "<tr><td>iDR3.SPLUS-s19s33.046757</td><td>332.43960659311426</td><td>-23.625485708082508</td></tr>\n",
       "<tr><td>iDR3.SPLUS-s19s33.047430</td><td>332.5800330493999</td><td>-23.632459967950314</td></tr>\n",
       "<tr><td>iDR3.SPLUS-s19s33.000000</td><td>331.15695143837206</td><td>-24.966823379442186</td></tr>\n",
       "<tr><td>...</td><td>...</td><td>...</td></tr>\n",
       "<tr><td>iDR3.SPLUS-s19s33.019983</td><td>331.191644814312</td><td>-24.43434219136066</td></tr>\n",
       "<tr><td>iDR3.SPLUS-s19s33.019984</td><td>331.1561385271908</td><td>-24.434221762344226</td></tr>\n",
       "<tr><td>iDR3.SPLUS-s19s33.019985</td><td>332.0283179691499</td><td>-24.435666250330478</td></tr>\n",
       "<tr><td>iDR3.SPLUS-s19s33.019986</td><td>332.00149661913804</td><td>-24.435795315718355</td></tr>\n",
       "<tr><td>iDR3.SPLUS-s19s33.019987</td><td>332.1642050258526</td><td>-24.43640770322993</td></tr>\n",
       "<tr><td>iDR3.SPLUS-s19s33.019988</td><td>331.25042455006184</td><td>-24.434626607708935</td></tr>\n",
       "<tr><td>iDR3.SPLUS-s19s33.019989</td><td>331.62027489489066</td><td>-24.435611310785742</td></tr>\n",
       "<tr><td>iDR3.SPLUS-s19s33.019990</td><td>331.80915548197675</td><td>-24.435747894933883</td></tr>\n",
       "<tr><td>iDR3.SPLUS-s19s33.019991</td><td>332.3453632217556</td><td>-24.434950912863467</td></tr>\n",
       "<tr><td>iDR3.SPLUS-s19s33.019992</td><td>331.79280420328854</td><td>-24.43560001909119</td></tr>\n",
       "</table>"
      ],
      "text/plain": [
       "<Table length=20001>\n",
       "           ID                    RA                 DEC        \n",
       "        bytes24               float64             float64      \n",
       "------------------------ ------------------ -------------------\n",
       "iDR3.SPLUS-s19s33.007198 331.14093901589115  -24.77879478692667\n",
       "iDR3.SPLUS-s19s33.007871  332.3816361015854 -24.762247481428005\n",
       "iDR3.SPLUS-s19s33.008704   331.145591755534  -24.73799694428528\n",
       "iDR3.SPLUS-s19s33.021505  331.9496548684669 -24.397532183039033\n",
       "iDR3.SPLUS-s19s33.024290  331.3723820807941 -24.323349388774037\n",
       "iDR3.SPLUS-s19s33.029891 331.28105155077935  -24.18851464301206\n",
       "iDR3.SPLUS-s19s33.046244  331.7913238567666 -23.618866463704055\n",
       "iDR3.SPLUS-s19s33.046757 332.43960659311426 -23.625485708082508\n",
       "iDR3.SPLUS-s19s33.047430  332.5800330493999 -23.632459967950314\n",
       "iDR3.SPLUS-s19s33.000000 331.15695143837206 -24.966823379442186\n",
       "                     ...                ...                 ...\n",
       "iDR3.SPLUS-s19s33.019983   331.191644814312  -24.43434219136066\n",
       "iDR3.SPLUS-s19s33.019984  331.1561385271908 -24.434221762344226\n",
       "iDR3.SPLUS-s19s33.019985  332.0283179691499 -24.435666250330478\n",
       "iDR3.SPLUS-s19s33.019986 332.00149661913804 -24.435795315718355\n",
       "iDR3.SPLUS-s19s33.019987  332.1642050258526  -24.43640770322993\n",
       "iDR3.SPLUS-s19s33.019988 331.25042455006184 -24.434626607708935\n",
       "iDR3.SPLUS-s19s33.019989 331.62027489489066 -24.435611310785742\n",
       "iDR3.SPLUS-s19s33.019990 331.80915548197675 -24.435747894933883\n",
       "iDR3.SPLUS-s19s33.019991  332.3453632217556 -24.434950912863467\n",
       "iDR3.SPLUS-s19s33.019992 331.79280420328854  -24.43560001909119"
      ]
     },
     "execution_count": 9,
     "metadata": {},
     "output_type": "execute_result"
    }
   ],
   "source": [
    "conn.query('select TOP 20001 id, ra, dec from idr3.detection_image where ra + dec > 200') ## async query on splus.cloud"
   ]
  },
  {
   "cell_type": "code",
   "execution_count": 10,
   "metadata": {},
   "outputs": [
    {
     "ename": "AttributeError",
     "evalue": "'connect' object has no attribute 'get_img'",
     "output_type": "error",
     "traceback": [
      "\u001b[0;31m---------------------------------------------------------------------------\u001b[0m",
      "\u001b[0;31mAttributeError\u001b[0m                            Traceback (most recent call last)",
      "\u001b[0;32m<ipython-input-10-a737a1a74046>\u001b[0m in \u001b[0;36m<module>\u001b[0;34m\u001b[0m\n\u001b[0;32m----> 1\u001b[0;31m \u001b[0mimg\u001b[0m \u001b[0;34m=\u001b[0m \u001b[0mconn\u001b[0m\u001b[0;34m.\u001b[0m\u001b[0mget_img\u001b[0m\u001b[0;34m(\u001b[0m\u001b[0;36m43.3559\u001b[0m\u001b[0;34m,\u001b[0m \u001b[0;34m-\u001b[0m\u001b[0;36m0.2322\u001b[0m\u001b[0;34m,\u001b[0m \u001b[0;36m200\u001b[0m\u001b[0;34m,\u001b[0m \u001b[0mR\u001b[0m\u001b[0;34m=\u001b[0m\u001b[0;34m\"I\"\u001b[0m\u001b[0;34m,\u001b[0m \u001b[0mG\u001b[0m\u001b[0;34m=\u001b[0m\u001b[0;34m\"R\"\u001b[0m\u001b[0;34m,\u001b[0m \u001b[0mB\u001b[0m\u001b[0;34m=\u001b[0m\u001b[0;34m\"G\"\u001b[0m\u001b[0;34m,\u001b[0m \u001b[0mstretch\u001b[0m\u001b[0;34m=\u001b[0m\u001b[0;36m0.5\u001b[0m\u001b[0;34m,\u001b[0m \u001b[0mQ\u001b[0m\u001b[0;34m=\u001b[0m\u001b[0;36m5\u001b[0m\u001b[0;34m)\u001b[0m\u001b[0;34m\u001b[0m\u001b[0;34m\u001b[0m\u001b[0m\n\u001b[0m",
      "\u001b[0;31mAttributeError\u001b[0m: 'connect' object has no attribute 'get_img'"
     ]
    }
   ],
   "source": [
    "img = conn.get_img(43.3559, -0.2322, 200, R=\"I\", G=\"R\", B=\"G\", stretch=0.5, Q=5)"
   ]
  },
  {
   "cell_type": "code",
   "execution_count": null,
   "metadata": {},
   "outputs": [],
   "source": []
  },
  {
   "cell_type": "code",
   "execution_count": null,
   "metadata": {},
   "outputs": [],
   "source": [
    "#while count < maxcount:\n",
    "    #query_text = f\"SELECT top {chunksize} * FROM idr3.detection_image WHERE ra + dec > 200 AND RA > {maxPrev} order by RA ASC\"\n",
    "    #conn.query(query_text)\n",
    "#query_text = f\"SELECT top 20001 detection.Field, detection.ID, detection.RA, detection.DEC, detection.FWHM, detection.ISOarea, detection.KRON_RADIUS, detection.nDet_magPStotal, detection.PhotoFlagDet, u.U_PStotal, f378.F378_PStotal, f395.F395_PStotal, f410.F410_PStotal, f430.F430_PStotal, g.G_PStotal, f515.F515_PStotal, r.R_PStotal, f660.F660_PStotal, i.I_PStotal, f861.F861_PStotal, z.Z_PStotal, u.e_U_PStotal, f378.e_F378_PStotal, f395.e_F395_PStotal, f410.e_F410_PStotal, f430.e_F430_PStotal, g.e_G_PStotal, f515.e_F515_PStotal, r.e_R_PStotal, f660.e_F660_PStotal, i.e_I_PStotal, f861.e_F861_PStotal, z.e_Z_PStotal FROM idr3.detection_image as detection JOIN idr3.u_band as u ON detection.ID=u.ID JOIN idr3.f378_band as f378 ON detection.ID=f378.ID JOIN idr3.f395_band as f395 ON detection.ID=f395.ID JOIN idr3.f410_band as f410 ON detection.ID=f410.ID JOIN idr3.f430_band as f430 ON detection.ID=f430.ID JOIN idr3.g_band as g ON detection.ID=g.ID JOIN idr3.f515_band as f515 ON detection.ID=f515.ID JOIN idr3.r_band as r ON detection.ID=r.ID JOIN idr3.f660_band as f660 ON detection.ID=f660.ID JOIN idr3.i_band as i ON detection.ID=i.ID JOIN idr3.f861_band as f861 ON detection.ID=f861.ID JOIN idr3.z_band as z ON detection.ID=z.ID WHERE R_PStotal <= 16.0 AND e_U_PStotal <= 0.2 AND e_F378_PStotal <= 0.2 AND e_F395_PStotal <= 0.2 AND e_F410_PStotal <= 0.2 AND e_F430_PStotal <= 0.2 AND e_G_PStotal <= 0.2 AND e_F515_PStotal <= 0.2 AND e_R_PStotal <= 0.2 AND e_F660_PStotal <= 0.2 AND e_I_PStotal <= 0.2 AND e_F861_PStotal <= 0.2 AND e_Z_PStotal <= 0.2 AND FWHM < 7.0\" \n",
    "#results = conn.query(query_text)"
   ]
  },
  {
   "cell_type": "code",
   "execution_count": null,
   "metadata": {},
   "outputs": [],
   "source": []
  }
 ],
 "metadata": {
  "kernelspec": {
   "display_name": "Python 3",
   "language": "python",
   "name": "python3"
  },
  "language_info": {
   "codemirror_mode": {
    "name": "ipython",
    "version": 3
   },
   "file_extension": ".py",
   "mimetype": "text/x-python",
   "name": "python",
   "nbconvert_exporter": "python",
   "pygments_lexer": "ipython3",
   "version": "3.8.5"
  }
 },
 "nbformat": 4,
 "nbformat_minor": 4
}
