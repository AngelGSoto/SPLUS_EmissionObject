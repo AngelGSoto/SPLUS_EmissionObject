{
 "cells": [
  {
   "cell_type": "code",
   "execution_count": 1,
   "metadata": {},
   "outputs": [],
   "source": [
    "import splusdata"
   ]
  },
  {
   "cell_type": "code",
   "execution_count": 2,
   "metadata": {},
   "outputs": [
    {
     "name": "stdout",
     "output_type": "stream",
     "text": [
      "You have access to internal data\n"
     ]
    }
   ],
   "source": [
    "conn = splusdata.connect('Luis', 'plutarco*80') ## from splus.cloud"
   ]
  },
  {
   "cell_type": "code",
   "execution_count": 3,
   "metadata": {},
   "outputs": [
    {
     "name": "stdout",
     "output_type": "stream",
     "text": [
      "Tables and columns info at https://splus.cloud/\n"
     ]
    }
   ],
   "source": [
    "conn.get_tap_tables()\n"
   ]
  },
  {
   "cell_type": "code",
   "execution_count": 11,
   "metadata": {},
   "outputs": [],
   "source": [
    "#conn.twelve_band_img(155.52186282881692, -35.63222591442139, 50) ## Get 12 band image RA, DEC, Radius"
   ]
  },
  {
   "cell_type": "code",
   "execution_count": 6,
   "metadata": {},
   "outputs": [
    {
     "data": {
      "text/plain": [
       "[<astropy.io.fits.hdu.image.PrimaryHDU object at 0x7f3722e838e0>, <astropy.io.fits.hdu.compressed.CompImageHDU object at 0x7f3722d5c160>]"
      ]
     },
     "execution_count": 6,
     "metadata": {},
     "output_type": "execute_result"
    }
   ],
   "source": [
    "conn.get_cut(0.4, 0.7, 1500, 'R') ## image FITS cuts - RA, DEC, Radius, band"
   ]
  },
  {
   "cell_type": "code",
   "execution_count": 7,
   "metadata": {},
   "outputs": [
    {
     "data": {
      "text/plain": [
       "[<astropy.io.fits.hdu.image.PrimaryHDU object at 0x7f3722d5c520>, <astropy.io.fits.hdu.compressed.CompImageHDU object at 0x7f3722d5c640>]"
      ]
     },
     "execution_count": 7,
     "metadata": {},
     "output_type": "execute_result"
    }
   ],
   "source": [
    "conn.get_field('STRIPE82-0002', 'R') ## Field image FITS - Field, band"
   ]
  },
  {
   "cell_type": "code",
   "execution_count": 8,
   "metadata": {},
   "outputs": [
    {
     "data": {
      "text/plain": [
       "[<astropy.io.fits.hdu.image.PrimaryHDU object at 0x7f3722d5c520>, <astropy.io.fits.hdu.compressed.CompImageHDU object at 0x7f3722d5c640>]"
      ]
     },
     "execution_count": 8,
     "metadata": {},
     "output_type": "execute_result"
    }
   ],
   "source": [
    "conn.get_last_result() ## Returns result of the last operation made"
   ]
  },
  {
   "cell_type": "code",
   "execution_count": 9,
   "metadata": {},
   "outputs": [
    {
     "name": "stdout",
     "output_type": "stream",
     "text": [
      "Executing\n",
      "finished\n"
     ]
    },
    {
     "data": {
      "text/html": [
       "<i>Table length=20001</i>\n",
       "<table id=\"table139874730696176\" class=\"table-striped table-bordered table-condensed\">\n",
       "<thead><tr><th>ID</th><th>RA</th><th>DEC</th></tr></thead>\n",
       "<thead><tr><th>bytes25</th><th>float64</th><th>float64</th></tr></thead>\n",
       "<tr><td>iDR3.STRIPE82-0142.000000</td><td>337.9785500016203</td><td>0.016095266804235692</td></tr>\n",
       "<tr><td>iDR3.STRIPE82-0142.000001</td><td>337.9828601625032</td><td>0.016197986519120043</td></tr>\n",
       "<tr><td>iDR3.STRIPE82-0142.000002</td><td>338.0079824256581</td><td>0.016414508974041567</td></tr>\n",
       "<tr><td>iDR3.STRIPE82-0142.000003</td><td>338.0328860442327</td><td>0.01656045861400402</td></tr>\n",
       "<tr><td>iDR3.STRIPE82-0142.000004</td><td>337.99732857041977</td><td>0.016609543366729537</td></tr>\n",
       "<tr><td>iDR3.STRIPE82-0142.000005</td><td>338.00631233711164</td><td>0.01652776693731033</td></tr>\n",
       "<tr><td>iDR3.STRIPE82-0142.000006</td><td>338.08275878656457</td><td>0.016619535662121536</td></tr>\n",
       "<tr><td>iDR3.STRIPE82-0142.000007</td><td>338.06236124390216</td><td>0.01665864948644771</td></tr>\n",
       "<tr><td>iDR3.STRIPE82-0142.000008</td><td>337.988314029898</td><td>0.016722204288897296</td></tr>\n",
       "<tr><td>iDR3.STRIPE82-0142.000009</td><td>338.08768130071076</td><td>0.01672513158039572</td></tr>\n",
       "<tr><td>...</td><td>...</td><td>...</td></tr>\n",
       "<tr><td>iDR3.STRIPE82-0142.019989</td><td>339.1942614016364</td><td>0.5085993479049133</td></tr>\n",
       "<tr><td>iDR3.STRIPE82-0142.019990</td><td>338.87762614056834</td><td>0.5085938735269291</td></tr>\n",
       "<tr><td>iDR3.STRIPE82-0142.019991</td><td>339.3486644145597</td><td>0.5088457862916193</td></tr>\n",
       "<tr><td>iDR3.STRIPE82-0142.019992</td><td>338.17329877267923</td><td>0.508720105692794</td></tr>\n",
       "<tr><td>iDR3.STRIPE82-0142.019993</td><td>338.07325524369</td><td>0.5087070605071952</td></tr>\n",
       "<tr><td>iDR3.STRIPE82-0142.019994</td><td>338.31227351587825</td><td>0.5087399928855303</td></tr>\n",
       "<tr><td>iDR3.STRIPE82-0142.019995</td><td>338.3911418163027</td><td>0.508829794210775</td></tr>\n",
       "<tr><td>iDR3.STRIPE82-0142.019996</td><td>338.0894631254777</td><td>0.5089510333430045</td></tr>\n",
       "<tr><td>iDR3.STRIPE82-0142.019997</td><td>338.26773491034857</td><td>0.5089228846241236</td></tr>\n",
       "<tr><td>iDR3.STRIPE82-0142.019998</td><td>338.1446580104631</td><td>0.5089753442365251</td></tr>\n",
       "</table>"
      ],
      "text/plain": [
       "<Table length=20001>\n",
       "            ID                    RA                 DEC         \n",
       "         bytes25               float64             float64       \n",
       "------------------------- ------------------ --------------------\n",
       "iDR3.STRIPE82-0142.000000  337.9785500016203 0.016095266804235692\n",
       "iDR3.STRIPE82-0142.000001  337.9828601625032 0.016197986519120043\n",
       "iDR3.STRIPE82-0142.000002  338.0079824256581 0.016414508974041567\n",
       "iDR3.STRIPE82-0142.000003  338.0328860442327  0.01656045861400402\n",
       "iDR3.STRIPE82-0142.000004 337.99732857041977 0.016609543366729537\n",
       "iDR3.STRIPE82-0142.000005 338.00631233711164  0.01652776693731033\n",
       "iDR3.STRIPE82-0142.000006 338.08275878656457 0.016619535662121536\n",
       "iDR3.STRIPE82-0142.000007 338.06236124390216  0.01665864948644771\n",
       "iDR3.STRIPE82-0142.000008   337.988314029898 0.016722204288897296\n",
       "iDR3.STRIPE82-0142.000009 338.08768130071076  0.01672513158039572\n",
       "                      ...                ...                  ...\n",
       "iDR3.STRIPE82-0142.019989  339.1942614016364   0.5085993479049133\n",
       "iDR3.STRIPE82-0142.019990 338.87762614056834   0.5085938735269291\n",
       "iDR3.STRIPE82-0142.019991  339.3486644145597   0.5088457862916193\n",
       "iDR3.STRIPE82-0142.019992 338.17329877267923    0.508720105692794\n",
       "iDR3.STRIPE82-0142.019993    338.07325524369   0.5087070605071952\n",
       "iDR3.STRIPE82-0142.019994 338.31227351587825   0.5087399928855303\n",
       "iDR3.STRIPE82-0142.019995  338.3911418163027    0.508829794210775\n",
       "iDR3.STRIPE82-0142.019996  338.0894631254777   0.5089510333430045\n",
       "iDR3.STRIPE82-0142.019997 338.26773491034857   0.5089228846241236\n",
       "iDR3.STRIPE82-0142.019998  338.1446580104631   0.5089753442365251"
      ]
     },
     "execution_count": 9,
     "metadata": {},
     "output_type": "execute_result"
    }
   ],
   "source": [
    "conn.query('select TOP 20001 id, ra, dec from idr3.detection_image where ra + dec > 200') ## async query on splus.cloud"
   ]
  },
  {
   "cell_type": "code",
   "execution_count": null,
   "metadata": {},
   "outputs": [],
   "source": [
    "import astropy\n",
    "from astropy.table import Table, vstack"
   ]
  },
  {
   "cell_type": "code",
   "execution_count": null,
   "metadata": {},
   "outputs": [],
   "source": [
    "maxPrevRA = 0\n",
    "merged_table = None\n",
    "merged_table_list = []\n",
    "chunksize = 19000\n",
    "maxcount = 1000000\n",
    "count = 0"
   ]
  },
  {
   "cell_type": "code",
   "execution_count": null,
   "metadata": {},
   "outputs": [],
   "source": [
    "#while count < maxcount:\n",
    "    #query_text = f\"SELECT top {chunksize} * FROM idr3.detection_image WHERE ra + dec > 200 AND RA > {maxPrev} order by RA ASC\"\n",
    "    #conn.query(query_text)\n",
    "#query_text = f\"SELECT top 20001 detection.Field, detection.ID, detection.RA, detection.DEC, detection.FWHM, detection.ISOarea, detection.KRON_RADIUS, detection.nDet_magPStotal, detection.PhotoFlagDet, u.U_PStotal, f378.F378_PStotal, f395.F395_PStotal, f410.F410_PStotal, f430.F430_PStotal, g.G_PStotal, f515.F515_PStotal, r.R_PStotal, f660.F660_PStotal, i.I_PStotal, f861.F861_PStotal, z.Z_PStotal, u.e_U_PStotal, f378.e_F378_PStotal, f395.e_F395_PStotal, f410.e_F410_PStotal, f430.e_F430_PStotal, g.e_G_PStotal, f515.e_F515_PStotal, r.e_R_PStotal, f660.e_F660_PStotal, i.e_I_PStotal, f861.e_F861_PStotal, z.e_Z_PStotal FROM idr3.detection_image as detection JOIN idr3.u_band as u ON detection.ID=u.ID JOIN idr3.f378_band as f378 ON detection.ID=f378.ID JOIN idr3.f395_band as f395 ON detection.ID=f395.ID JOIN idr3.f410_band as f410 ON detection.ID=f410.ID JOIN idr3.f430_band as f430 ON detection.ID=f430.ID JOIN idr3.g_band as g ON detection.ID=g.ID JOIN idr3.f515_band as f515 ON detection.ID=f515.ID JOIN idr3.r_band as r ON detection.ID=r.ID JOIN idr3.f660_band as f660 ON detection.ID=f660.ID JOIN idr3.i_band as i ON detection.ID=i.ID JOIN idr3.f861_band as f861 ON detection.ID=f861.ID JOIN idr3.z_band as z ON detection.ID=z.ID WHERE R_PStotal <= 16.0 AND e_U_PStotal <= 0.2 AND e_F378_PStotal <= 0.2 AND e_F395_PStotal <= 0.2 AND e_F410_PStotal <= 0.2 AND e_F430_PStotal <= 0.2 AND e_G_PStotal <= 0.2 AND e_F515_PStotal <= 0.2 AND e_R_PStotal <= 0.2 AND e_F660_PStotal <= 0.2 AND e_I_PStotal <= 0.2 AND e_F861_PStotal <= 0.2 AND e_Z_PStotal <= 0.2 AND FWHM < 7.0\" \n",
    "#results = conn.query(query_text)"
   ]
  },
  {
   "cell_type": "code",
   "execution_count": null,
   "metadata": {},
   "outputs": [],
   "source": []
  }
 ],
 "metadata": {
  "kernelspec": {
   "display_name": "Python 3",
   "language": "python",
   "name": "python3"
  },
  "language_info": {
   "codemirror_mode": {
    "name": "ipython",
    "version": 3
   },
   "file_extension": ".py",
   "mimetype": "text/x-python",
   "name": "python",
   "nbconvert_exporter": "python",
   "pygments_lexer": "ipython3",
   "version": "3.8.5"
  }
 },
 "nbformat": 4,
 "nbformat_minor": 4
}
