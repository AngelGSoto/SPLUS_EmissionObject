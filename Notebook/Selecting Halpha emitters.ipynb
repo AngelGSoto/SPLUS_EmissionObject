{
 "cells": [
  {
   "cell_type": "code",
   "execution_count": 2,
   "metadata": {},
   "outputs": [],
   "source": [
    "import numpy as np\n",
    "from sklearn import metrics\n",
    "from sklearn.datasets import make_blobs\n",
    "from sklearn.preprocessing import StandardScaler\n",
    "import pandas as pd\n",
    "from astropy.table import Table\n",
    "import seaborn as sns"
   ]
  },
  {
   "cell_type": "code",
   "execution_count": 3,
   "metadata": {},
   "outputs": [
    {
     "data": {
      "text/plain": [
       "['Field',\n",
       " 'ID',\n",
       " 'RA',\n",
       " 'DEC',\n",
       " 'FWHM',\n",
       " 'ISOarea',\n",
       " 'KRON_RADIUS',\n",
       " 'nDet_magPStotal',\n",
       " 'PhotoFlagDet',\n",
       " 'U_PStotal',\n",
       " 'F378_PStotal',\n",
       " 'F395_PStotal',\n",
       " 'F410_PStotal',\n",
       " 'F430_PStotal',\n",
       " 'G_PStotal',\n",
       " 'F515_PStotal',\n",
       " 'R_PStotal',\n",
       " 'F660_PStotal',\n",
       " 'I_PStotal',\n",
       " 'F861_PStotal',\n",
       " 'Z_PStotal',\n",
       " 'e_U_PStotal',\n",
       " 'e_F378_PStotal',\n",
       " 'e_F395_PStotal',\n",
       " 'e_F410_PStotal',\n",
       " 'e_F430_PStotal',\n",
       " 'e_G_PStotal',\n",
       " 'e_F515_PStotal',\n",
       " 'e_R_PStotal',\n",
       " 'e_F660_PStotal',\n",
       " 'e_I_PStotal',\n",
       " 'e_F861_PStotal',\n",
       " 'e_Z_PStotal',\n",
       " 'HDBSCAN_opt_labels']"
      ]
     },
     "execution_count": 3,
     "metadata": {},
     "output_type": "execute_result"
    }
   ],
   "source": [
    "# This is the Noise selecting with HDBSCAN\n",
    "tab = Table.read(\"../HYDRA-HDBcluster0.ecsv\", format=\"ascii.ecsv\")\n",
    "tab.colnames"
   ]
  },
  {
   "cell_type": "code",
   "execution_count": null,
   "metadata": {},
   "outputs": [],
   "source": []
  },
  {
   "cell_type": "code",
   "execution_count": null,
   "metadata": {},
   "outputs": [],
   "source": []
  }
 ],
 "metadata": {
  "kernelspec": {
   "display_name": "Python 3",
   "language": "python",
   "name": "python3"
  },
  "language_info": {
   "codemirror_mode": {
    "name": "ipython",
    "version": 3
   },
   "file_extension": ".py",
   "mimetype": "text/x-python",
   "name": "python",
   "nbconvert_exporter": "python",
   "pygments_lexer": "ipython3",
   "version": "3.8.5"
  }
 },
 "nbformat": 4,
 "nbformat_minor": 5
}
