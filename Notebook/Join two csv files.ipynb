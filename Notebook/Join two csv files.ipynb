{
 "cells": [
  {
   "cell_type": "code",
   "execution_count": 7,
   "metadata": {},
   "outputs": [],
   "source": [
    "import numpy as np\n",
    "from sklearn import metrics\n",
    "from sklearn.datasets import make_blobs\n",
    "from sklearn.preprocessing import StandardScaler\n",
    "import pandas as pd\n",
    "from astropy.table import Table\n",
    "import hdbscan\n",
    "import seaborn as sns"
   ]
  },
  {
   "cell_type": "code",
   "execution_count": 8,
   "metadata": {},
   "outputs": [
    {
     "name": "stdout",
     "output_type": "stream",
     "text": [
      "Shape of the DataFrame:  (2447817, 34)\n",
      "   Unnamed: 0         Field                        ID          RA        DEC  \\\n",
      "0           0  HYDRA-D-0001  iDR3.HYDRA-D-0001.000122  158.026933 -35.345720   \n",
      "1           1  HYDRA-D-0001  iDR3.HYDRA-D-0001.000147  158.108202 -35.345480   \n",
      "2           2  HYDRA-D-0001  iDR3.HYDRA-D-0001.000158  157.875888 -35.344549   \n",
      "\n",
      "       FWHM  ISOarea  KRON_RADIUS  nDet_magPStotal  PhotoFlagDet  ...  \\\n",
      "0  2.769706       23     2.204275              6.0             0  ...   \n",
      "1  8.983443       37     2.465300             11.0             0  ...   \n",
      "2  5.022891       47     1.830214              7.0             0  ...   \n",
      "\n",
      "   e_F395_PStotal  e_F410_PStotal  e_F430_PStotal  e_G_PStotal  \\\n",
      "0       21.561203       21.745127       21.799360     0.106448   \n",
      "1        0.355367        0.234408        0.195912     0.061234   \n",
      "2       21.561203       21.745127       21.799360     0.279120   \n",
      "\n",
      "   e_F515_PStotal  e_R_PStotal  e_F660_PStotal  e_I_PStotal  e_F861_PStotal  \\\n",
      "0       22.078028     0.041156        0.047435     0.035434        0.108208   \n",
      "1        0.192356     0.035229        0.039108     0.030933        0.087274   \n",
      "2        1.032040     0.038154        0.041658     0.031788        0.051086   \n",
      "\n",
      "   e_Z_PStotal  \n",
      "0     0.050390  \n",
      "1     0.051360  \n",
      "2     0.037211  \n",
      "\n",
      "[3 rows x 34 columns]\n"
     ]
    }
   ],
   "source": [
    "# File 1\n",
    "df1 = pd.read_csv('../3filter_flat0/DR3_errorFlag0_3f_20r205.csv')\n",
    "\n",
    "print(\"Shape of the DataFrame: \", df1.shape)\n",
    "print(df1.head(3))"
   ]
  },
  {
   "cell_type": "code",
   "execution_count": 9,
   "metadata": {},
   "outputs": [
    {
     "name": "stdout",
     "output_type": "stream",
     "text": [
      "Shape of the DataFrame:  (3211156, 34)\n",
      "   Unnamed: 0         Field                        ID          RA        DEC  \\\n",
      "0           0  HYDRA-D-0001  iDR3.HYDRA-D-0001.000034  157.700067 -35.345912   \n",
      "1           1  HYDRA-D-0001  iDR3.HYDRA-D-0001.000089  157.759178 -35.345261   \n",
      "2           2  HYDRA-D-0001  iDR3.HYDRA-D-0001.000148  157.653680 -35.343569   \n",
      "\n",
      "       FWHM  ISOarea  KRON_RADIUS  nDet_magPStotal  PhotoFlagDet  ...  \\\n",
      "0  3.147798       20         1.82             11.0             0  ...   \n",
      "1  2.660813       17         1.82              7.0             0  ...   \n",
      "2  5.142797       31         1.82             10.0             0  ...   \n",
      "\n",
      "   e_F395_PStotal  e_F410_PStotal  e_F430_PStotal  e_G_PStotal  \\\n",
      "0        5.170637        0.290775        0.338673     0.037033   \n",
      "1       21.561203       21.745127       21.799360     0.206769   \n",
      "2       21.561203       21.745127        1.545013     0.149294   \n",
      "\n",
      "   e_F515_PStotal  e_R_PStotal  e_F660_PStotal  e_I_PStotal  e_F861_PStotal  \\\n",
      "0        0.095458     0.043318        0.015416     0.134074        0.045733   \n",
      "1       10.077495     0.049017        0.045482     0.023503        0.037658   \n",
      "2        0.606839     0.051181        0.059963     0.048605        0.104726   \n",
      "\n",
      "   e_Z_PStotal  \n",
      "0     0.034408  \n",
      "1     0.030820  \n",
      "2     0.055469  \n",
      "\n",
      "[3 rows x 34 columns]\n"
     ]
    }
   ],
   "source": [
    "# File 2\n",
    "df2 = pd.read_csv('../3filter_flat0/DR3_errorFlag0_3f_205r21.csv')\n",
    "\n",
    "print(\"Shape of the DataFrame: \", df2.shape)\n",
    "print(df2.head(3))"
   ]
  },
  {
   "cell_type": "code",
   "execution_count": 10,
   "metadata": {},
   "outputs": [],
   "source": [
    "df_final = pd.concat([df1, df2])"
   ]
  },
  {
   "cell_type": "code",
   "execution_count": 12,
   "metadata": {},
   "outputs": [],
   "source": [
    "df_final.to_csv(\"../3filter_flat0/DR3_errorFlag0_3f_20r21.csv\") "
   ]
  },
  {
   "cell_type": "code",
   "execution_count": null,
   "metadata": {},
   "outputs": [],
   "source": []
  }
 ],
 "metadata": {
  "kernelspec": {
   "display_name": "Python 3",
   "language": "python",
   "name": "python3"
  }
 },
 "nbformat": 4,
 "nbformat_minor": 4
}
