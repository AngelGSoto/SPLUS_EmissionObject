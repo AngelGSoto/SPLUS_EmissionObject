{
 "cells": [
  {
   "cell_type": "code",
   "execution_count": 11,
   "metadata": {},
   "outputs": [],
   "source": [
    "from astropy.table import Table, vstack"
   ]
  },
  {
   "cell_type": "code",
   "execution_count": 12,
   "metadata": {},
   "outputs": [],
   "source": [
    "table1 = Table.read(\"../3filter_noflat/Claudia-objects/Antlia-Gal.dat\", format=\"ascii\")"
   ]
  },
  {
   "cell_type": "code",
   "execution_count": 13,
   "metadata": {},
   "outputs": [
    {
     "data": {
      "text/plain": [
       "['RA_1',\n",
       " 'DEC_1',\n",
       " 'Field',\n",
       " 'ID',\n",
       " 'RA_2',\n",
       " 'DEC_2',\n",
       " 'FWHM',\n",
       " 'ISOarea',\n",
       " 'KRON_RADIUS',\n",
       " 'nDet_magPStotal',\n",
       " 'PhotoFlagDet',\n",
       " 'U_PStotal',\n",
       " 'F378_PStotal',\n",
       " 'F395_PStotal',\n",
       " 'F410_PStotal',\n",
       " 'F430_PStotal',\n",
       " 'G_PStotal',\n",
       " 'F515_PStotal',\n",
       " 'R_PStotal',\n",
       " 'F660_PStotal',\n",
       " 'I_PStotal',\n",
       " 'F861_PStotal',\n",
       " 'Z_PStotal',\n",
       " 'e_U_PStotal',\n",
       " 'e_F378_PStotal',\n",
       " 'e_F395_PStotal',\n",
       " 'e_F410_PStotal',\n",
       " 'e_F430_PStotal',\n",
       " 'e_G_PStotal',\n",
       " 'e_F515_PStotal',\n",
       " 'e_R_PStotal',\n",
       " 'e_F660_PStotal',\n",
       " 'e_I_PStotal',\n",
       " 'e_F861_PStotal',\n",
       " 'e_Z_PStotal',\n",
       " 'r_-_i',\n",
       " 'r_-_J0660',\n",
       " 'e(r_-_i)',\n",
       " 'e(r_-_J0660)',\n",
       " 'P(GoodPho)',\n",
       " 'P(BadPho)',\n",
       " 'GroupID',\n",
       " 'GroupSize',\n",
       " 'Separation']"
      ]
     },
     "execution_count": 13,
     "metadata": {},
     "output_type": "execute_result"
    }
   ],
   "source": [
    "table1.colnames"
   ]
  },
  {
   "cell_type": "code",
   "execution_count": 15,
   "metadata": {},
   "outputs": [],
   "source": [
    "def edit()\n",
    "     table1.remove_columns(['RA_1', 'DEC_1', 'P(GoodPho)',  'P(BadPho)', 'GroupID', 'GroupSize', 'Separation'])"
   ]
  },
  {
   "cell_type": "code",
   "execution_count": null,
   "metadata": {},
   "outputs": [],
   "source": []
  },
  {
   "cell_type": "code",
   "execution_count": null,
   "metadata": {},
   "outputs": [],
   "source": []
  }
 ],
 "metadata": {
  "kernelspec": {
   "display_name": "Python 3",
   "language": "python",
   "name": "python3"
  },
  "language_info": {
   "codemirror_mode": {
    "name": "ipython",
    "version": 3
   },
   "file_extension": ".py",
   "mimetype": "text/x-python",
   "name": "python",
   "nbconvert_exporter": "python",
   "pygments_lexer": "ipython3",
   "version": "3.8.5"
  }
 },
 "nbformat": 4,
 "nbformat_minor": 4
}
