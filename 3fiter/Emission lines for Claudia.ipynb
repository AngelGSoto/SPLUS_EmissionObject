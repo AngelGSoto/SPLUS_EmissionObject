{
 "cells": [
  {
   "cell_type": "code",
   "execution_count": 1,
   "metadata": {},
   "outputs": [],
   "source": [
    "import numpy as np\n",
    "from sklearn import metrics\n",
    "import matplotlib.pyplot as plt\n",
    "from scipy.optimize import curve_fit\n",
    "from sklearn.datasets import make_blobs\n",
    "from sklearn.preprocessing import StandardScaler\n",
    "import pandas as pd\n",
    "from astropy.table import Table, vstack\n",
    "import hdbscan\n",
    "from pathlib import Path\n",
    "import seaborn as sns\n",
    "import glob\n",
    "import json\n",
    "from astropy import units as u\n",
    "from astropy.coordinates import SkyCoord\n",
    "%matplotlib inline\n",
    "sns.set_color_codes()"
   ]
  },
  {
   "cell_type": "code",
   "execution_count": 2,
   "metadata": {},
   "outputs": [],
   "source": [
    "table1 = Table.read(\"Halpha-DR3_errorFlag_3f_16r.ecsv\", format=\"ascii.ecsv\")\n",
    "table2 = Table.read(\"Halpha-DR3_errorFlag_3f_16r18.ecsv\", format=\"ascii.ecsv\")\n",
    "table3 = Table.read(\"Halpha-DR3_errorFlag_3f_18r20.ecsv\", format=\"ascii.ecsv\")\n",
    "table4 = Table.read(\"Halpha-DR3_errorFlag_3f_20r21.ecsv\", format=\"ascii.ecsv\")"
   ]
  },
  {
   "cell_type": "code",
   "execution_count": 3,
   "metadata": {},
   "outputs": [
    {
     "data": {
      "text/plain": [
       "9431"
      ]
     },
     "execution_count": 3,
     "metadata": {},
     "output_type": "execute_result"
    }
   ],
   "source": [
    "# Merge tall four tables\n",
    "table_merge = vstack([table1, table2, table3, table4])\n",
    "len(table_merge)"
   ]
  },
  {
   "cell_type": "code",
   "execution_count": 4,
   "metadata": {},
   "outputs": [
    {
     "data": {
      "text/plain": [
       "['Unnamed: 0',\n",
       " 'Field',\n",
       " 'ID',\n",
       " 'RA',\n",
       " 'DEC',\n",
       " 'FWHM',\n",
       " 'ISOarea',\n",
       " 'KRON_RADIUS',\n",
       " 'nDet_magPStotal',\n",
       " 'PhotoFlagDet',\n",
       " 'U_PStotal',\n",
       " 'F378_PStotal',\n",
       " 'F395_PStotal',\n",
       " 'F410_PStotal',\n",
       " 'F430_PStotal',\n",
       " 'G_PStotal',\n",
       " 'F515_PStotal',\n",
       " 'R_PStotal',\n",
       " 'F660_PStotal',\n",
       " 'I_PStotal',\n",
       " 'F861_PStotal',\n",
       " 'Z_PStotal',\n",
       " 'e_U_PStotal',\n",
       " 'e_F378_PStotal',\n",
       " 'e_F395_PStotal',\n",
       " 'e_F410_PStotal',\n",
       " 'e_F430_PStotal',\n",
       " 'e_G_PStotal',\n",
       " 'e_F515_PStotal',\n",
       " 'e_R_PStotal',\n",
       " 'e_F660_PStotal',\n",
       " 'e_I_PStotal',\n",
       " 'e_F861_PStotal',\n",
       " 'e_Z_PStotal',\n",
       " 'r - i',\n",
       " 'r - J0660',\n",
       " 'e(r - i)',\n",
       " 'e(r - J0660)',\n",
       " 'Unnamed: 0.1']"
      ]
     },
     "execution_count": 4,
     "metadata": {},
     "output_type": "execute_result"
    }
   ],
   "source": [
    "table_merge.colnames "
   ]
  },
  {
   "cell_type": "code",
   "execution_count": 5,
   "metadata": {},
   "outputs": [
    {
     "name": "stderr",
     "output_type": "stream",
     "text": [
      "WARNING: AstropyDeprecationWarning: Emission_lines_dr3.ecsv already exists. Automatically overwriting ASCII files is deprecated. Use the argument 'overwrite=True' in the future. [astropy.io.ascii.ui]\n"
     ]
    }
   ],
   "source": [
    "table_merge.write(\"Emission_lines_dr3.ecsv\", format=\"ascii.ecsv\")"
   ]
  },
  {
   "cell_type": "code",
   "execution_count": 6,
   "metadata": {},
   "outputs": [],
   "source": [
    "cx = table_merge[\"r - i\"]\n",
    "cy = table_merge[\"r - J0660\"]"
   ]
  },
  {
   "cell_type": "code",
   "execution_count": 7,
   "metadata": {},
   "outputs": [],
   "source": [
    "#New color\n",
    "cz = table_merge[\"F515_PStotal\"] - table_merge[\"F660_PStotal\"] "
   ]
  },
  {
   "cell_type": "code",
   "execution_count": 8,
   "metadata": {},
   "outputs": [],
   "source": [
    "# Mask to choose the strong Halpha emiters with large FWHM\n",
    "m1 = cy > 1.2\n",
    "#m2 = cx <= 0.0\n",
    "m3 = table_merge[\"FWHM\"] > 8.0\n",
    "m4 = cz > 1.5\n",
    "mask = m1 & m3 & m4"
   ]
  },
  {
   "cell_type": "code",
   "execution_count": 9,
   "metadata": {},
   "outputs": [
    {
     "data": {
      "text/html": [
       "<i>Table length=140</i>\n",
       "<table id=\"table139728870706336\" class=\"table-striped table-bordered table-condensed\">\n",
       "<thead><tr><th>Unnamed: 0</th><th>Field</th><th>ID</th><th>RA</th><th>DEC</th><th>FWHM</th><th>ISOarea</th><th>KRON_RADIUS</th><th>nDet_magPStotal</th><th>PhotoFlagDet</th><th>U_PStotal</th><th>F378_PStotal</th><th>F395_PStotal</th><th>F410_PStotal</th><th>F430_PStotal</th><th>G_PStotal</th><th>F515_PStotal</th><th>R_PStotal</th><th>F660_PStotal</th><th>I_PStotal</th><th>F861_PStotal</th><th>Z_PStotal</th><th>e_U_PStotal</th><th>e_F378_PStotal</th><th>e_F395_PStotal</th><th>e_F410_PStotal</th><th>e_F430_PStotal</th><th>e_G_PStotal</th><th>e_F515_PStotal</th><th>e_R_PStotal</th><th>e_F660_PStotal</th><th>e_I_PStotal</th><th>e_F861_PStotal</th><th>e_Z_PStotal</th><th>r - i</th><th>r - J0660</th><th>e(r - i)</th><th>e(r - J0660)</th><th>Unnamed: 0.1</th></tr></thead>\n",
       "<thead><tr><th>int64</th><th>str13</th><th>str25</th><th>float64</th><th>float64</th><th>float64</th><th>int64</th><th>float64</th><th>float64</th><th>int64</th><th>float64</th><th>float64</th><th>float64</th><th>float64</th><th>float64</th><th>float64</th><th>float64</th><th>float64</th><th>float64</th><th>float64</th><th>float64</th><th>float64</th><th>float64</th><th>float64</th><th>float64</th><th>float64</th><th>float64</th><th>float64</th><th>float64</th><th>float64</th><th>float64</th><th>float64</th><th>float64</th><th>float64</th><th>float64</th><th>float64</th><th>float64</th><th>float64</th><th>int64</th></tr></thead>\n",
       "<tr><td>21712</td><td>SPLUS-s03s05</td><td>iDR3.SPLUS-s03s05.040546</td><td>330.5388749847869</td><td>-2.0097191021677627</td><td>17.118303</td><td>757</td><td>2.7668513999999997</td><td>12.0</td><td>0</td><td>23.310904</td><td>23.031225</td><td>18.214845999999998</td><td>17.42765</td><td>16.668136999999998</td><td>16.550383</td><td>14.9585905</td><td>15.169159</td><td>13.078664999999999</td><td>14.211617000000002</td><td>12.882533</td><td>12.874711999999999</td><td>1.4336061000000002</td><td>1.6920118000000002</td><td>0.046342827</td><td>0.025772905</td><td>0.016235175</td><td>0.0072820773</td><td>0.006493633</td><td>0.0028284309</td><td>0.0012152003</td><td>0.0018240481</td><td>0.0015611210999999998</td><td>0.0011082239999999999</td><td>0.9575419999999983</td><td>2.0904940000000014</td><td>0.0033655865502447593</td><td>0.0030784303021499284</td><td>--</td></tr>\n",
       "<tr><td>188941</td><td>HYDRA-0065</td><td>iDR3.HYDRA-0065.000118</td><td>159.9566993632784</td><td>-31.55664700403079</td><td>10.633800500000001</td><td>289</td><td>3.2670162</td><td>12.0</td><td>0</td><td>21.238148000000002</td><td>19.03465</td><td>17.77413</td><td>17.157593</td><td>16.909492</td><td>16.319110000000002</td><td>17.50338</td><td>16.50874</td><td>15.187512</td><td>14.953944</td><td>15.069479000000001</td><td>15.059187</td><td>0.24603229999999998</td><td>0.07921133</td><td>0.026467052999999997</td><td>0.015981972</td><td>0.013105461</td><td>0.0055863084</td><td>0.022503733999999997</td><td>0.005859294399999999</td><td>0.003588432</td><td>0.0029386198</td><td>0.0050118426</td><td>0.0037377195</td><td>1.5547959999999996</td><td>1.3212279999999996</td><td>0.0065549078708112595</td><td>0.00687082055394371</td><td>--</td></tr>\n",
       "<tr><td>503731</td><td>HYDRA-0127</td><td>iDR3.HYDRA-0127.000745</td><td>162.65716232137473</td><td>-41.187267548973885</td><td>11.319782</td><td>348</td><td>3.3276540999999997</td><td>7.0</td><td>2</td><td>99.0</td><td>99.0</td><td>99.0</td><td>99.0</td><td>27.956265999999996</td><td>26.390759999999997</td><td>99.0</td><td>17.022717</td><td>15.527384</td><td>16.740883</td><td>15.204410999999999</td><td>15.09314</td><td>22.571629</td><td>22.05855</td><td>21.451979</td><td>21.574701</td><td>156.02792</td><td>11.864286</td><td>21.883707</td><td>0.006200888000000001</td><td>0.0034799776</td><td>0.0057769909999999996</td><td>0.004612937</td><td>0.0031941753999999998</td><td>0.2818339999999999</td><td>1.4953330000000005</td><td>0.008474941710868872</td><td>0.007110643858684372</td><td>--</td></tr>\n",
       "<tr><td>9230</td><td>SPLUS-s20s35</td><td>iDR3.SPLUS-s20s35.036033</td><td>334.3402331351376</td><td>-24.88095342223036</td><td>13.533273000000001</td><td>138</td><td>3.3289470000000003</td><td>12.0</td><td>2</td><td>17.651598</td><td>17.31985</td><td>17.500675</td><td>17.691534</td><td>16.756874</td><td>18.281862</td><td>17.392595</td><td>17.493076000000002</td><td>15.838176999999998</td><td>15.883977999999999</td><td>15.678532</td><td>15.685362</td><td>0.013715086000000001</td><td>0.01730822</td><td>0.029390742999999997</td><td>0.03099944</td><td>0.017918548</td><td>0.016495546</td><td>0.019966673</td><td>0.009076104</td><td>0.0044770692</td><td>0.0041579786</td><td>0.00693735</td><td>0.0050221816999999995</td><td>1.609098000000003</td><td>1.654899000000004</td><td>0.009983208394943679</td><td>0.010120267409530473</td><td>--</td></tr>\n",
       "<tr><td>110315</td><td>SPLUS-s28s48</td><td>iDR3.SPLUS-s28s48.000391</td><td>317.0396898099512</td><td>-36.901148177792564</td><td>29.599075</td><td>544</td><td>3.4659317</td><td>12.0</td><td>2</td><td>16.88543</td><td>16.524283999999998</td><td>16.672104</td><td>16.816679999999998</td><td>16.70961</td><td>15.73432</td><td>17.166714000000002</td><td>16.113297</td><td>14.726984</td><td>16.667332000000002</td><td>15.258479999999999</td><td>15.179170999999998</td><td>0.0098468205</td><td>0.011658231000000002</td><td>0.018107334</td><td>0.017382853</td><td>0.016159937</td><td>0.0040633488</td><td>0.016287053</td><td>0.0042429026</td><td>0.0027420437</td><td>0.0072543419999999996</td><td>0.005767621999999999</td><td>0.0043223524</td><td>-0.5540350000000025</td><td>1.3863129999999995</td><td>0.008404028815160664</td><td>0.005051833936878414</td><td>--</td></tr>\n",
       "<tr><td>203995</td><td>SPLUS-n18s10</td><td>iDR3.SPLUS-n18s10.000071</td><td>163.75072930133163</td><td>-23.62601103679027</td><td>8.819875999999999</td><td>215</td><td>3.5384822</td><td>12.0</td><td>2</td><td>22.85855</td><td>21.199963</td><td>20.603113</td><td>19.581635000000002</td><td>19.592012</td><td>17.236967</td><td>17.85397</td><td>17.365276</td><td>15.96214</td><td>16.062754</td><td>15.597570000000001</td><td>16.004332</td><td>0.9904171999999999</td><td>0.29435915</td><td>0.29287870000000005</td><td>0.10653894400000001</td><td>0.09895119</td><td>0.008694526</td><td>0.02523898</td><td>0.00911825</td><td>0.004934822</td><td>0.004839394</td><td>0.0066803037</td><td>0.006272528</td><td>1.3025219999999997</td><td>1.4031360000000017</td><td>0.01032289772058873</td><td>0.010367977200697539</td><td>--</td></tr>\n",
       "<tr><td>115925</td><td>SPLUS-n12s34</td><td>iDR3.SPLUS-n12s34.000018</td><td>196.96377110056733</td><td>-15.585766592627742</td><td>16.584972</td><td>116</td><td>3.8958654000000004</td><td>10.0</td><td>2</td><td>27.805725</td><td>99.0</td><td>99.0</td><td>24.214575</td><td>20.872513</td><td>18.667175</td><td>20.443398000000002</td><td>16.944118</td><td>15.698020999999999</td><td>16.941471</td><td>15.112184</td><td>15.297144</td><td>196.72249</td><td>20.780924</td><td>20.322062</td><td>18.001547</td><td>0.79506665</td><td>0.048615877</td><td>0.44502118</td><td>0.010227059</td><td>0.0050442433</td><td>0.010610102</td><td>0.0055204523</td><td>0.0045583155</td><td>0.002646999999999622</td><td>1.2460970000000007</td><td>0.014736587129993328</td><td>0.011403382228929972</td><td>--</td></tr>\n",
       "<tr><td>17464</td><td>SPLUS-s37s44</td><td>iDR3.SPLUS-s37s44.000023</td><td>324.91439167322807</td><td>-48.68200182534816</td><td>10.428048</td><td>168</td><td>3.2141051</td><td>12.0</td><td>0</td><td>16.801247</td><td>16.569069</td><td>19.084248000000002</td><td>18.549395</td><td>17.282478</td><td>15.883052</td><td>18.030079999999998</td><td>16.6523</td><td>15.003366</td><td>16.775204000000002</td><td>14.917456</td><td>15.371191</td><td>0.013342083000000001</td><td>0.012931557</td><td>0.08142543599999999</td><td>0.04958352</td><td>0.021575775</td><td>0.0044199424</td><td>0.027790159</td><td>0.0057756807999999995</td><td>0.0031388833</td><td>0.0071661547</td><td>0.0059295516</td><td>0.004203541</td><td>-0.1229040000000019</td><td>1.6489340000000006</td><td>0.00920392643863589</td><td>0.006573513297659595</td><td>--</td></tr>\n",
       "<tr><td>144502</td><td>HYDRA-0028</td><td>iDR3.HYDRA-0028.000437</td><td>162.63285655382037</td><td>-26.001474646433373</td><td>10.890665</td><td>95</td><td>4.4916205</td><td>11.0</td><td>0</td><td>21.60846</td><td>21.924232</td><td>99.0</td><td>20.743378</td><td>22.107494</td><td>19.43743</td><td>20.095772</td><td>19.417421</td><td>17.1305</td><td>17.469341</td><td>16.753456</td><td>17.16056</td><td>0.31934884</td><td>0.6412256</td><td>21.179955</td><td>0.29960072</td><td>0.98503846</td><td>0.03641809</td><td>0.12914567</td><td>0.03541243</td><td>0.008444956</td><td>0.010475219000000001</td><td>0.012996841</td><td>0.013584003999999998</td><td>1.948080000000001</td><td>2.2869209999999995</td><td>0.03692926226724359</td><td>0.036405459485451305</td><td>--</td></tr>\n",
       "<tr><td>328585</td><td>HYDRA-0054</td><td>iDR3.HYDRA-0054.000525</td><td>158.89229287014442</td><td>-30.16260472902169</td><td>14.141342999999999</td><td>83</td><td>3.7300377</td><td>12.0</td><td>2</td><td>19.5406</td><td>19.176826000000002</td><td>19.786873</td><td>19.474226</td><td>20.57953</td><td>18.260983</td><td>19.337677</td><td>19.439632</td><td>17.350683</td><td>19.226854</td><td>17.109318</td><td>17.847996</td><td>0.026355102999999998</td><td>0.030077316</td><td>0.07577804</td><td>0.049654975999999997</td><td>0.11688725</td><td>0.008144131</td><td>0.03474386</td><td>0.017590681</td><td>0.0052559090000000004</td><td>0.020261355</td><td>0.008730093000000001</td><td>0.011994014499999999</td><td>0.21277800000000013</td><td>2.0889489999999995</td><td>0.026831969075708666</td><td>0.01835910230539723</td><td>--</td></tr>\n",
       "<tr><td>...</td><td>...</td><td>...</td><td>...</td><td>...</td><td>...</td><td>...</td><td>...</td><td>...</td><td>...</td><td>...</td><td>...</td><td>...</td><td>...</td><td>...</td><td>...</td><td>...</td><td>...</td><td>...</td><td>...</td><td>...</td><td>...</td><td>...</td><td>...</td><td>...</td><td>...</td><td>...</td><td>...</td><td>...</td><td>...</td><td>...</td><td>...</td><td>...</td><td>...</td><td>...</td><td>...</td><td>...</td><td>...</td><td>...</td></tr>\n",
       "<tr><td>3197328</td><td>SPLUS-n12s42</td><td>iDR3.SPLUS-n12s42.005328</td><td>208.30191785042442</td><td>-15.448633964620127</td><td>8.853742</td><td>10</td><td>4.7657013</td><td>12.0</td><td>0</td><td>22.5624</td><td>22.217844</td><td>22.609173</td><td>20.728455</td><td>22.201065</td><td>21.336926</td><td>21.378262</td><td>20.641233</td><td>19.235544</td><td>20.503149</td><td>20.435625</td><td>20.234161</td><td>1.1281996</td><td>1.1827056</td><td>2.4365313</td><td>0.4656964</td><td>1.6831498</td><td>0.32337177</td><td>0.66494894</td><td>0.15409064</td><td>0.05169273</td><td>0.14468625</td><td>0.28743252</td><td>0.1923155</td><td>0.1380839999999992</td><td>1.4056889999999989</td><td>0.21137179630847652</td><td>0.1625301931041199</td><td>264497</td></tr>\n",
       "<tr><td>3198504</td><td>SPLUS-n12s42</td><td>iDR3.SPLUS-n12s42.028436</td><td>208.0475977399517</td><td>-14.751457000232675</td><td>9.491156</td><td>5</td><td>8.121997</td><td>9.0</td><td>0</td><td>99.0</td><td>99.0</td><td>21.499249</td><td>26.656815</td><td>99.0</td><td>22.468693</td><td>21.327305</td><td>20.903893</td><td>18.35914</td><td>20.608105</td><td>20.095345</td><td>20.120554</td><td>21.59271</td><td>21.187641</td><td>0.8846556999999999</td><td>108.52002</td><td>20.822369</td><td>0.91854966</td><td>0.640968</td><td>0.19711453</td><td>0.02549688</td><td>0.16030875</td><td>0.21115926</td><td>0.17329253</td><td>0.2957880000000017</td><td>2.544753</td><td>0.2540728896668895</td><td>0.19875670762732842</td><td>265673</td></tr>\n",
       "<tr><td>3198570</td><td>SPLUS-n12s42</td><td>iDR3.SPLUS-n12s42.029757</td><td>208.42001758123558</td><td>-14.707610838385992</td><td>8.145527000000001</td><td>10</td><td>6.694560000000001</td><td>12.0</td><td>0</td><td>22.271347</td><td>23.370129</td><td>24.40385</td><td>23.624187</td><td>22.32213</td><td>21.648968</td><td>24.011295</td><td>20.710382</td><td>18.59928</td><td>20.382082</td><td>20.214577</td><td>20.085566</td><td>0.8996870000000001</td><td>3.5407333</td><td>13.195539000000002</td><td>6.547779599999998</td><td>1.8692853</td><td>0.42709598</td><td>7.394331</td><td>0.16588475</td><td>0.030901099</td><td>0.12993822</td><td>0.23535609</td><td>0.16807729</td><td>0.3282999999999987</td><td>2.111101999999999</td><td>0.21071708829454458</td><td>0.16873834241798838</td><td>265739</td></tr>\n",
       "<tr><td>3215302</td><td>SPLUS-n01s23</td><td>iDR3.SPLUS-n01s23.012019</td><td>180.20726086898117</td><td>-0.390424106025998</td><td>8.815804</td><td>16</td><td>6.072907</td><td>10.0</td><td>0</td><td>23.30622</td><td>22.46796</td><td>99.0</td><td>99.0</td><td>21.292316</td><td>21.731646</td><td>21.87152</td><td>20.788616</td><td>18.393745000000006</td><td>20.546963</td><td>19.796555</td><td>19.835815</td><td>1.3757721</td><td>0.9523766</td><td>21.051289</td><td>21.184689</td><td>0.48642376</td><td>0.2416886</td><td>0.66873044</td><td>0.11506768</td><td>0.020658817</td><td>0.12371965</td><td>0.14555424</td><td>0.12023183</td><td>0.24165299999999945</td><td>2.394870999999995</td><td>0.16895893813795382</td><td>0.11690747495529057</td><td>15962</td></tr>\n",
       "<tr><td>3334143</td><td>SPLUS-n03s26</td><td>iDR3.SPLUS-n03s26.022945</td><td>184.08062165132583</td><td>-2.8687475538991483</td><td>8.428312</td><td>11</td><td>6.2093916</td><td>12.0</td><td>0</td><td>22.27999</td><td>23.205343</td><td>22.525805</td><td>22.72382</td><td>22.180565</td><td>21.950268</td><td>21.562567</td><td>20.909916</td><td>19.12403</td><td>20.95486</td><td>20.297068</td><td>20.198017</td><td>0.41785422</td><td>1.6151168</td><td>1.5237707</td><td>1.6560831000000005</td><td>0.94712806</td><td>0.26309192</td><td>0.4213454</td><td>0.10723226</td><td>0.029047852</td><td>0.16270798</td><td>0.2159021</td><td>0.16113274</td><td>-0.04494400000000098</td><td>1.7858859999999979</td><td>0.19486570847737167</td><td>0.11109696346220045</td><td>134803</td></tr>\n",
       "<tr><td>3376145</td><td>SPLUS-s34s21</td><td>iDR3.SPLUS-s34s21.036269</td><td>36.68624889438284</td><td>-43.5752262303349</td><td>8.147917999999999</td><td>7</td><td>4.637617</td><td>11.0</td><td>0</td><td>22.270782</td><td>24.58657</td><td>99.0</td><td>20.534208</td><td>22.530025</td><td>22.727789</td><td>21.689842</td><td>20.984741</td><td>19.727245</td><td>20.58358</td><td>19.855736</td><td>20.47107</td><td>0.8593056999999998</td><td>11.047625</td><td>20.674482</td><td>0.44535708</td><td>2.7143395</td><td>1.2142434</td><td>0.9537626</td><td>0.1997513</td><td>0.07418282</td><td>0.15766273</td><td>0.1650145</td><td>0.23949912</td><td>0.4011609999999983</td><td>1.2574959999999997</td><td>0.2544761644687826</td><td>0.21308137561702195</td><td>33711</td></tr>\n",
       "<tr><td>3385513</td><td>SPLUS-s37s44</td><td>iDR3.SPLUS-s37s44.047252</td><td>326.7035968894544</td><td>-47.296799128631534</td><td>9.130853</td><td>9</td><td>4.196607</td><td>11.0</td><td>0</td><td>22.11464</td><td>25.168964000000006</td><td>99.0</td><td>21.463257</td><td>21.222729</td><td>21.26485</td><td>20.762291</td><td>20.834723</td><td>18.421076</td><td>20.611393</td><td>20.020618</td><td>21.082458</td><td>0.65876293</td><td>12.183057000000002</td><td>21.172997</td><td>0.52346814</td><td>0.40676776</td><td>0.14221567</td><td>0.21810491</td><td>0.117419176</td><td>0.021538706</td><td>0.15538365</td><td>0.33998078</td><td>0.4672977</td><td>0.2233300000000007</td><td>2.413647000000001</td><td>0.19475970214559654</td><td>0.11937830099592392</td><td>43079</td></tr>\n",
       "<tr><td>3388327</td><td>SPLUS-s38s30</td><td>iDR3.SPLUS-s38s30.035674</td><td>60.1706526977055</td><td>-48.62181788699665</td><td>10.016329</td><td>10</td><td>6.2315664</td><td>10.0</td><td>1</td><td>21.90213</td><td>21.392393</td><td>99.0</td><td>99.0</td><td>21.233719</td><td>21.263313</td><td>21.022217</td><td>20.957447</td><td>18.82466</td><td>20.796627</td><td>20.208109</td><td>20.446705</td><td>0.3171548</td><td>0.3903282</td><td>21.216873</td><td>21.38199</td><td>0.40842798</td><td>0.13494602</td><td>0.25940368</td><td>0.10798368</td><td>0.024599113</td><td>0.15483175</td><td>0.20181403</td><td>0.21723892</td><td>0.16081999999999752</td><td>2.132786999999997</td><td>0.18876796856035957</td><td>0.11075013095581047</td><td>45893</td></tr>\n",
       "<tr><td>3414380</td><td>SPLUS-n01s37</td><td>iDR3.SPLUS-n01s37.013757</td><td>199.42655914037883</td><td>-0.3376844496286302</td><td>9.913631</td><td>20</td><td>5.472396400000001</td><td>11.0</td><td>0</td><td>25.755816</td><td>22.139534</td><td>21.546804</td><td>21.511532</td><td>99.0</td><td>22.742783</td><td>21.86462</td><td>20.761267</td><td>18.637554</td><td>20.09171</td><td>19.702675</td><td>19.747038</td><td>10.836205</td><td>0.63895625</td><td>0.65727156</td><td>0.6198505</td><td>21.338192000000006</td><td>0.52300036</td><td>0.53576124</td><td>0.09454454</td><td>0.022182146</td><td>0.08173935</td><td>0.12968193</td><td>0.117285945</td><td>0.6695570000000011</td><td>2.1237129999999986</td><td>0.1249799639231589</td><td>0.097111882099859</td><td>71946</td></tr>\n",
       "<tr><td>3444534</td><td>SPLUS-n05n55</td><td>iDR3.SPLUS-n05n55.042281</td><td>224.30705705230068</td><td>5.765388407717233</td><td>10.323084</td><td>24</td><td>5.6357145</td><td>11.0</td><td>0</td><td>22.434195000000006</td><td>21.874956</td><td>99.0</td><td>21.498959</td><td>21.521</td><td>21.744411</td><td>21.030811</td><td>20.521244</td><td>17.84226</td><td>20.022293</td><td>19.684258</td><td>19.660332</td><td>0.670261</td><td>0.6944741</td><td>20.623775</td><td>0.7670035</td><td>0.79876703</td><td>0.314436</td><td>0.37329966</td><td>0.10393402</td><td>0.016424223999999998</td><td>0.08897048</td><td>0.15392904</td><td>0.12867633</td><td>0.49895099999999815</td><td>2.678984</td><td>0.13681384003378752</td><td>0.10522374089226526</td><td>102100</td></tr>\n",
       "</table>"
      ],
      "text/plain": [
       "<Table length=140>\n",
       "Unnamed: 0    Field     ...      e(r - J0660)     Unnamed: 0.1\n",
       "  int64       str13     ...        float64           int64    \n",
       "---------- ------------ ... --------------------- ------------\n",
       "     21712 SPLUS-s03s05 ... 0.0030784303021499284           --\n",
       "    188941   HYDRA-0065 ...   0.00687082055394371           --\n",
       "    503731   HYDRA-0127 ...  0.007110643858684372           --\n",
       "      9230 SPLUS-s20s35 ...  0.010120267409530473           --\n",
       "    110315 SPLUS-s28s48 ...  0.005051833936878414           --\n",
       "    203995 SPLUS-n18s10 ...  0.010367977200697539           --\n",
       "    115925 SPLUS-n12s34 ...  0.011403382228929972           --\n",
       "     17464 SPLUS-s37s44 ...  0.006573513297659595           --\n",
       "    144502   HYDRA-0028 ...  0.036405459485451305           --\n",
       "    328585   HYDRA-0054 ...   0.01835910230539723           --\n",
       "       ...          ... ...                   ...          ...\n",
       "   3197328 SPLUS-n12s42 ...    0.1625301931041199       264497\n",
       "   3198504 SPLUS-n12s42 ...   0.19875670762732842       265673\n",
       "   3198570 SPLUS-n12s42 ...   0.16873834241798838       265739\n",
       "   3215302 SPLUS-n01s23 ...   0.11690747495529057        15962\n",
       "   3334143 SPLUS-n03s26 ...   0.11109696346220045       134803\n",
       "   3376145 SPLUS-s34s21 ...   0.21308137561702195        33711\n",
       "   3385513 SPLUS-s37s44 ...   0.11937830099592392        43079\n",
       "   3388327 SPLUS-s38s30 ...   0.11075013095581047        45893\n",
       "   3414380 SPLUS-n01s37 ...     0.097111882099859        71946\n",
       "   3444534 SPLUS-n05n55 ...   0.10522374089226526       102100"
      ]
     },
     "execution_count": 9,
     "metadata": {},
     "output_type": "execute_result"
    }
   ],
   "source": [
    "table_emg = table_merge[mask]\n",
    "table_emg"
   ]
  },
  {
   "cell_type": "code",
   "execution_count": 10,
   "metadata": {},
   "outputs": [
    {
     "data": {
      "image/png": "[encoded data removed]",
      "text/plain": [
       "<Figure size 1080x792 with 2 Axes>"
      ]
     },
     "metadata": {},
     "output_type": "display_data"
    }
   ],
   "source": [
    "color_palette = sns.color_palette('Paired', 55)\n",
    "with sns.axes_style(\"ticks\"):\n",
    "    fig, ax = plt.subplots(figsize=(15, 11))\n",
    "    ax.spines[\"top\"].set_visible(False)  \n",
    "    ax.spines[\"right\"].set_visible(False)\n",
    "    plt.xlabel(r\"$r - i$\", fontsize=35)\n",
    "    plt.ylabel(r\"$r - J0660$\", fontsize=35)\n",
    "    plt.tick_params(axis='x', labelsize=35) \n",
    "    plt.tick_params(axis='y', labelsize=35)\n",
    "    scat = ax.scatter(table_emg[\"r - i\"], table_emg[\"r - J0660\"], s=10*table_emg[\"FWHM\"], edgecolor='black',\n",
    "                             c=table_emg[\"R_PStotal\"], zorder = 2, cmap='RdBu_r')\n",
    "    #pal = sns.dark_palette(\"magma\", as_cmap=True)\n",
    "    #pal = sns.cubehelix_palette(as_cmap=True)\n",
    "    pal = sns.cubehelix_palette(start=1, rot=0, dark=-10, light=50, reverse=True, as_cmap=True)\n",
    "    #pal = sns.color_palette(\"Paired\", 19, as_cmap=True)\n",
    "    #pal = sns.color_palette(\"bright\")\n",
    "    #ax = sns.kdeplot(B1, A1, zorder = 2, cmap=pal);\n",
    "    #ax2.plot(fit_line, 0.42917 * fit_line - 0.04333, color=\"k\", ls=\"--\")\n",
    "    ax.set(\n",
    "      xlim=[-3.5, 5.],\n",
    "      ylim=[-2.0, 6.])\n",
    "    fig.colorbar(scat,extend='both', ax=ax).set_label(\"$r-band$\")\n",
    "    #ax.set_aspect(\"equal\")\n",
    "    #ax.set_title(r\"(r - J0660) vs (r - i)\")"
   ]
  },
  {
   "cell_type": "code",
   "execution_count": 11,
   "metadata": {},
   "outputs": [
    {
     "name": "stderr",
     "output_type": "stream",
     "text": [
      "WARNING: AstropyDeprecationWarning: ngc1399_coordinates.dat already exists. Automatically overwriting ASCII files is deprecated. Use the argument 'overwrite=True' in the future. [astropy.io.ascii.ui]\n"
     ]
    }
   ],
   "source": [
    "from astroML.crossmatch import crossmatch_angular\n",
    "# coordinates\n",
    "ra = table_merge[\"RA\"]\n",
    "dec = table_merge[\"DEC\"]\n",
    "\n",
    "spX = np.array(list(zip(ra, dec)))\n",
    "spX[:, 0] = ra\n",
    "spX[:, 1] = dec\n",
    "\n",
    "# mask \n",
    "ra_ngc = 54.621179\n",
    "dec_ngc = -35.45074\n",
    "\n",
    "ngX = np.empty((1, 2), dtype=np.float64)\n",
    "ngX[:, 0] = ra_ngc\n",
    "ngX[:, 1] = dec_ngc\n",
    "c = SkyCoord(ra=ra_ngc*u.degree, dec=dec_ngc*u.degree)\n",
    "c.to_string('hmsdms')\n",
    "\n",
    "ngc1399 = Table([ngX[:, 0], ngX[:, 1]], names=('RA', 'DEC'), meta={'name': 'first table'})\n",
    "ngc1399.write(\"ngc1399_coordinates.dat\", format=\"ascii\")"
   ]
  },
  {
   "cell_type": "code",
   "execution_count": 13,
   "metadata": {},
   "outputs": [],
   "source": [
    "# Find the SDSS object on the SPLUS list, makes crossmacth using 2 arcsec \n",
    "max_radius = 200  # 6 degrees\n",
    "#dist, ind = crossmatch_angular(sdX, spX, max_radius)\n",
    "#table_merge[ind]"
   ]
  },
  {
   "cell_type": "code",
   "execution_count": 18,
   "metadata": {},
   "outputs": [],
   "source": [
    "#table_fornax = table_merge[mask_f]\n",
    "#table_fornax"
   ]
  },
  {
   "cell_type": "code",
   "execution_count": 19,
   "metadata": {},
   "outputs": [
    {
     "name": "stderr",
     "output_type": "stream",
     "text": [
      "/home/luis/anaconda3/lib/python3.8/site-packages/IPython/core/interactiveshell.py:3418: TableReplaceWarning: converted column 'Unnamed: 0.1' from integer to float\n",
      "  exec(code_obj, self.user_global_ns, self.user_ns)\n"
     ]
    },
    {
     "data": {
      "text/html": [
       "<div>\n",
       "<style scoped>\n",
       "    .dataframe tbody tr th:only-of-type {\n",
       "        vertical-align: middle;\n",
       "    }\n",
       "\n",
       "    .dataframe tbody tr th {\n",
       "        vertical-align: top;\n",
       "    }\n",
       "\n",
       "    .dataframe thead th {\n",
       "        text-align: right;\n",
       "    }\n",
       "</style>\n",
       "<table border=\"1\" class=\"dataframe\">\n",
       "  <thead>\n",
       "    <tr style=\"text-align: right;\">\n",
       "      <th></th>\n",
       "      <th>Unnamed: 0</th>\n",
       "      <th>RA</th>\n",
       "      <th>DEC</th>\n",
       "      <th>FWHM</th>\n",
       "      <th>ISOarea</th>\n",
       "      <th>KRON_RADIUS</th>\n",
       "      <th>nDet_magPStotal</th>\n",
       "      <th>PhotoFlagDet</th>\n",
       "      <th>U_PStotal</th>\n",
       "      <th>F378_PStotal</th>\n",
       "      <th>...</th>\n",
       "      <th>e_R_PStotal</th>\n",
       "      <th>e_F660_PStotal</th>\n",
       "      <th>e_I_PStotal</th>\n",
       "      <th>e_F861_PStotal</th>\n",
       "      <th>e_Z_PStotal</th>\n",
       "      <th>r - i</th>\n",
       "      <th>r - J0660</th>\n",
       "      <th>e(r - i)</th>\n",
       "      <th>e(r - J0660)</th>\n",
       "      <th>Unnamed: 0.1</th>\n",
       "    </tr>\n",
       "  </thead>\n",
       "  <tbody>\n",
       "    <tr>\n",
       "      <th>count</th>\n",
       "      <td>1.400000e+02</td>\n",
       "      <td>140.000000</td>\n",
       "      <td>140.000000</td>\n",
       "      <td>140.000000</td>\n",
       "      <td>140.000000</td>\n",
       "      <td>140.000000</td>\n",
       "      <td>140.000000</td>\n",
       "      <td>140.000000</td>\n",
       "      <td>140.000000</td>\n",
       "      <td>140.000000</td>\n",
       "      <td>...</td>\n",
       "      <td>140.000000</td>\n",
       "      <td>140.000000</td>\n",
       "      <td>140.000000</td>\n",
       "      <td>140.000000</td>\n",
       "      <td>140.000000</td>\n",
       "      <td>140.000000</td>\n",
       "      <td>140.000000</td>\n",
       "      <td>140.000000</td>\n",
       "      <td>140.000000</td>\n",
       "      <td>94.000000</td>\n",
       "    </tr>\n",
       "    <tr>\n",
       "      <th>mean</th>\n",
       "      <td>1.362513e+06</td>\n",
       "      <td>201.225862</td>\n",
       "      <td>-22.128223</td>\n",
       "      <td>14.609943</td>\n",
       "      <td>97.914286</td>\n",
       "      <td>4.725272</td>\n",
       "      <td>10.735714</td>\n",
       "      <td>0.964286</td>\n",
       "      <td>36.777811</td>\n",
       "      <td>41.214509</td>\n",
       "      <td>...</td>\n",
       "      <td>0.086443</td>\n",
       "      <td>0.021818</td>\n",
       "      <td>0.072646</td>\n",
       "      <td>0.641830</td>\n",
       "      <td>0.148016</td>\n",
       "      <td>0.754471</td>\n",
       "      <td>2.080038</td>\n",
       "      <td>0.115483</td>\n",
       "      <td>0.089636</td>\n",
       "      <td>207654.127660</td>\n",
       "    </tr>\n",
       "    <tr>\n",
       "      <th>std</th>\n",
       "      <td>1.108555e+06</td>\n",
       "      <td>95.043641</td>\n",
       "      <td>16.035547</td>\n",
       "      <td>25.753464</td>\n",
       "      <td>266.834265</td>\n",
       "      <td>1.515524</td>\n",
       "      <td>1.543661</td>\n",
       "      <td>2.321035</td>\n",
       "      <td>29.890972</td>\n",
       "      <td>33.521803</td>\n",
       "      <td>...</td>\n",
       "      <td>0.049923</td>\n",
       "      <td>0.014990</td>\n",
       "      <td>0.050362</td>\n",
       "      <td>3.096724</td>\n",
       "      <td>0.483923</td>\n",
       "      <td>0.786034</td>\n",
       "      <td>0.778354</td>\n",
       "      <td>0.066616</td>\n",
       "      <td>0.051285</td>\n",
       "      <td>170213.742265</td>\n",
       "    </tr>\n",
       "    <tr>\n",
       "      <th>min</th>\n",
       "      <td>6.771000e+03</td>\n",
       "      <td>6.577494</td>\n",
       "      <td>-58.946134</td>\n",
       "      <td>8.016614</td>\n",
       "      <td>3.000000</td>\n",
       "      <td>1.820000</td>\n",
       "      <td>4.000000</td>\n",
       "      <td>0.000000</td>\n",
       "      <td>16.801247</td>\n",
       "      <td>16.524284</td>\n",
       "      <td>...</td>\n",
       "      <td>0.002828</td>\n",
       "      <td>0.001215</td>\n",
       "      <td>0.001824</td>\n",
       "      <td>0.001561</td>\n",
       "      <td>0.001108</td>\n",
       "      <td>-0.931682</td>\n",
       "      <td>1.206089</td>\n",
       "      <td>0.003366</td>\n",
       "      <td>0.003078</td>\n",
       "      <td>210.000000</td>\n",
       "    </tr>\n",
       "    <tr>\n",
       "      <th>25%</th>\n",
       "      <td>2.760022e+05</td>\n",
       "      <td>155.640369</td>\n",
       "      <td>-34.746889</td>\n",
       "      <td>8.952567</td>\n",
       "      <td>15.750000</td>\n",
       "      <td>3.765280</td>\n",
       "      <td>10.000000</td>\n",
       "      <td>0.000000</td>\n",
       "      <td>21.846384</td>\n",
       "      <td>21.398454</td>\n",
       "      <td>...</td>\n",
       "      <td>0.043318</td>\n",
       "      <td>0.011087</td>\n",
       "      <td>0.028259</td>\n",
       "      <td>0.023687</td>\n",
       "      <td>0.024910</td>\n",
       "      <td>0.252093</td>\n",
       "      <td>1.512485</td>\n",
       "      <td>0.058185</td>\n",
       "      <td>0.045086</td>\n",
       "      <td>55744.000000</td>\n",
       "    </tr>\n",
       "    <tr>\n",
       "      <th>50%</th>\n",
       "      <td>1.130597e+06</td>\n",
       "      <td>176.372045</td>\n",
       "      <td>-23.626056</td>\n",
       "      <td>10.017319</td>\n",
       "      <td>34.000000</td>\n",
       "      <td>4.769736</td>\n",
       "      <td>11.000000</td>\n",
       "      <td>0.000000</td>\n",
       "      <td>22.758406</td>\n",
       "      <td>22.439771</td>\n",
       "      <td>...</td>\n",
       "      <td>0.087873</td>\n",
       "      <td>0.019177</td>\n",
       "      <td>0.065288</td>\n",
       "      <td>0.094527</td>\n",
       "      <td>0.083789</td>\n",
       "      <td>0.551177</td>\n",
       "      <td>1.884161</td>\n",
       "      <td>0.117020</td>\n",
       "      <td>0.090533</td>\n",
       "      <td>186280.000000</td>\n",
       "    </tr>\n",
       "    <tr>\n",
       "      <th>75%</th>\n",
       "      <td>2.359692e+06</td>\n",
       "      <td>314.965649</td>\n",
       "      <td>-4.660753</td>\n",
       "      <td>13.297206</td>\n",
       "      <td>77.750000</td>\n",
       "      <td>5.655955</td>\n",
       "      <td>12.000000</td>\n",
       "      <td>2.000000</td>\n",
       "      <td>25.572614</td>\n",
       "      <td>45.245364</td>\n",
       "      <td>...</td>\n",
       "      <td>0.117561</td>\n",
       "      <td>0.029057</td>\n",
       "      <td>0.109045</td>\n",
       "      <td>0.170242</td>\n",
       "      <td>0.151028</td>\n",
       "      <td>1.196611</td>\n",
       "      <td>2.288262</td>\n",
       "      <td>0.166204</td>\n",
       "      <td>0.119439</td>\n",
       "      <td>276002.250000</td>\n",
       "    </tr>\n",
       "    <tr>\n",
       "      <th>max</th>\n",
       "      <td>3.444534e+06</td>\n",
       "      <td>359.418400</td>\n",
       "      <td>5.864516</td>\n",
       "      <td>240.419330</td>\n",
       "      <td>2605.000000</td>\n",
       "      <td>9.412398</td>\n",
       "      <td>12.000000</td>\n",
       "      <td>19.000000</td>\n",
       "      <td>99.000000</td>\n",
       "      <td>99.000000</td>\n",
       "      <td>...</td>\n",
       "      <td>0.199751</td>\n",
       "      <td>0.080027</td>\n",
       "      <td>0.192770</td>\n",
       "      <td>21.166122</td>\n",
       "      <td>5.658647</td>\n",
       "      <td>4.781964</td>\n",
       "      <td>5.367506</td>\n",
       "      <td>0.262746</td>\n",
       "      <td>0.213081</td>\n",
       "      <td>837735.000000</td>\n",
       "    </tr>\n",
       "  </tbody>\n",
       "</table>\n",
       "<p>8 rows × 37 columns</p>\n",
       "</div>"
      ],
      "text/plain": [
       "         Unnamed: 0          RA         DEC        FWHM      ISOarea  \\\n",
       "count  1.400000e+02  140.000000  140.000000  140.000000   140.000000   \n",
       "mean   1.362513e+06  201.225862  -22.128223   14.609943    97.914286   \n",
       "std    1.108555e+06   95.043641   16.035547   25.753464   266.834265   \n",
       "min    6.771000e+03    6.577494  -58.946134    8.016614     3.000000   \n",
       "25%    2.760022e+05  155.640369  -34.746889    8.952567    15.750000   \n",
       "50%    1.130597e+06  176.372045  -23.626056   10.017319    34.000000   \n",
       "75%    2.359692e+06  314.965649   -4.660753   13.297206    77.750000   \n",
       "max    3.444534e+06  359.418400    5.864516  240.419330  2605.000000   \n",
       "\n",
       "       KRON_RADIUS  nDet_magPStotal  PhotoFlagDet   U_PStotal  F378_PStotal  \\\n",
       "count   140.000000       140.000000    140.000000  140.000000    140.000000   \n",
       "mean      4.725272        10.735714      0.964286   36.777811     41.214509   \n",
       "std       1.515524         1.543661      2.321035   29.890972     33.521803   \n",
       "min       1.820000         4.000000      0.000000   16.801247     16.524284   \n",
       "25%       3.765280        10.000000      0.000000   21.846384     21.398454   \n",
       "50%       4.769736        11.000000      0.000000   22.758406     22.439771   \n",
       "75%       5.655955        12.000000      2.000000   25.572614     45.245364   \n",
       "max       9.412398        12.000000     19.000000   99.000000     99.000000   \n",
       "\n",
       "       ...  e_R_PStotal  e_F660_PStotal  e_I_PStotal  e_F861_PStotal  \\\n",
       "count  ...   140.000000      140.000000   140.000000      140.000000   \n",
       "mean   ...     0.086443        0.021818     0.072646        0.641830   \n",
       "std    ...     0.049923        0.014990     0.050362        3.096724   \n",
       "min    ...     0.002828        0.001215     0.001824        0.001561   \n",
       "25%    ...     0.043318        0.011087     0.028259        0.023687   \n",
       "50%    ...     0.087873        0.019177     0.065288        0.094527   \n",
       "75%    ...     0.117561        0.029057     0.109045        0.170242   \n",
       "max    ...     0.199751        0.080027     0.192770       21.166122   \n",
       "\n",
       "       e_Z_PStotal       r - i   r - J0660    e(r - i)  e(r - J0660)  \\\n",
       "count   140.000000  140.000000  140.000000  140.000000    140.000000   \n",
       "mean      0.148016    0.754471    2.080038    0.115483      0.089636   \n",
       "std       0.483923    0.786034    0.778354    0.066616      0.051285   \n",
       "min       0.001108   -0.931682    1.206089    0.003366      0.003078   \n",
       "25%       0.024910    0.252093    1.512485    0.058185      0.045086   \n",
       "50%       0.083789    0.551177    1.884161    0.117020      0.090533   \n",
       "75%       0.151028    1.196611    2.288262    0.166204      0.119439   \n",
       "max       5.658647    4.781964    5.367506    0.262746      0.213081   \n",
       "\n",
       "        Unnamed: 0.1  \n",
       "count      94.000000  \n",
       "mean   207654.127660  \n",
       "std    170213.742265  \n",
       "min       210.000000  \n",
       "25%     55744.000000  \n",
       "50%    186280.000000  \n",
       "75%    276002.250000  \n",
       "max    837735.000000  \n",
       "\n",
       "[8 rows x 37 columns]"
      ]
     },
     "execution_count": 19,
     "metadata": {},
     "output_type": "execute_result"
    }
   ],
   "source": [
    "df_emg = table_emg.to_pandas()\n",
    "df_emg.describe()"
   ]
  },
  {
   "cell_type": "code",
   "execution_count": 20,
   "metadata": {},
   "outputs": [],
   "source": [
    "df_emg.to_csv(\"Emission_lines_claudia.csv\") "
   ]
  },
  {
   "cell_type": "code",
   "execution_count": 21,
   "metadata": {},
   "outputs": [
    {
     "name": "stderr",
     "output_type": "stream",
     "text": [
      "WARNING: AstropyDeprecationWarning: Emission_lines_claudia.dat already exists. Automatically overwriting ASCII files is deprecated. Use the argument 'overwrite=True' in the future. [astropy.io.ascii.ui]\n"
     ]
    }
   ],
   "source": [
    "coor = Table([table_emg[\"RA\"], table_emg[\"DEC\"]], names=('RA', 'DEC'), meta={'name': 'first table'})\n",
    "table_emg.write(\"Emission_lines_claudia.dat\", format=\"ascii\")\n"
   ]
  },
  {
   "cell_type": "markdown",
   "metadata": {},
   "source": [
    "Save for Fornax"
   ]
  },
  {
   "cell_type": "code",
   "execution_count": 24,
   "metadata": {},
   "outputs": [],
   "source": [
    "#df_fornax = table_fornax.to_pandas()"
   ]
  },
  {
   "cell_type": "code",
   "execution_count": 26,
   "metadata": {},
   "outputs": [],
   "source": [
    "#coor_fornax = Table([table_fornax[\"RA\"], table_fornax[\"DEC\"]], names=('RA', 'DEC'), meta={'name': 'first table'})\n"
   ]
  },
  {
   "cell_type": "code",
   "execution_count": null,
   "metadata": {},
   "outputs": [],
   "source": []
  },
  {
   "cell_type": "code",
   "execution_count": null,
   "metadata": {},
   "outputs": [],
   "source": []
  }
 ],
 "metadata": {
  "kernelspec": {
   "display_name": "Python 3",
   "language": "python",
   "name": "python3"
  },
  "language_info": {
   "codemirror_mode": {
    "name": "ipython",
    "version": 3
   },
   "file_extension": ".py",
   "mimetype": "text/x-python",
   "name": "python",
   "nbconvert_exporter": "python",
   "pygments_lexer": "ipython3",
   "version": "3.8.5"
  }
 },
 "nbformat": 4,
 "nbformat_minor": 4
}
