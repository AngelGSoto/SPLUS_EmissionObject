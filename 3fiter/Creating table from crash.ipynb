{
 "cells": [
  {
   "cell_type": "code",
   "execution_count": 5,
   "metadata": {},
   "outputs": [],
   "source": [
    "from __future__ import print_function, division\n",
    "from PyAstronomy import pyasl\n",
    "from astropy.table import Table, vstack\n",
    "from astropy import units as u\n",
    "from astropy.coordinates import SkyCoord\n",
    "import numpy as np"
   ]
  },
  {
   "cell_type": "code",
   "execution_count": 6,
   "metadata": {},
   "outputs": [
    {
     "data": {
      "text/plain": [
       "(55.75875, -36.27333333333333)"
      ]
     },
     "execution_count": 6,
     "metadata": {},
     "output_type": "execute_result"
    }
   ],
   "source": [
    "# Coordinates of HD 1 from SIMBAD\n",
    "hd_1437A = \"03 43 02.1 -36 16 24\"\n",
    "ra, dec = pyasl.coordsSexaToDeg(hd_1437A)\n",
    "ra, dec"
   ]
  },
  {
   "cell_type": "code",
   "execution_count": 7,
   "metadata": {},
   "outputs": [
    {
     "data": {
      "text/plain": [
       "(55.0375, -35.626111111111115)"
      ]
     },
     "execution_count": 7,
     "metadata": {},
     "output_type": "execute_result"
    }
   ],
   "source": [
    "hd_1427A = \"03 40 09.0 -35 37 34\"\n",
    "ra1, dec1 = pyasl.coordsSexaToDeg(hd_1427A)\n",
    "ra1, dec1"
   ]
  },
  {
   "cell_type": "code",
   "execution_count": 8,
   "metadata": {},
   "outputs": [],
   "source": [
    "ra2, dec2 = 51.808, -33.483\n",
    "ra3, dec3 = 47.6121, -33.1646\n",
    "ra4, dec4 = 56.3018, -35.5720\n",
    "ra5, dec5 = 51.3213, -36.3764\n",
    " "
   ]
  },
  {
   "cell_type": "code",
   "execution_count": 9,
   "metadata": {},
   "outputs": [],
   "source": [
    "ral = []\n",
    "decl = []"
   ]
  },
  {
   "cell_type": "code",
   "execution_count": 10,
   "metadata": {},
   "outputs": [],
   "source": [
    "ral.append(ra)\n",
    "ral.append(ra1)\n",
    "ral.append(ra2)\n",
    "ral.append(ra3)\n",
    "ral.append(ra4)\n",
    "ral.append(ra5)"
   ]
  },
  {
   "cell_type": "code",
   "execution_count": 11,
   "metadata": {},
   "outputs": [],
   "source": [
    "decl.append(dec)\n",
    "decl.append(dec1)\n",
    "decl.append(dec2)\n",
    "decl.append(dec3)\n",
    "decl.append(dec4)\n",
    "decl.append(dec5)"
   ]
  },
  {
   "cell_type": "code",
   "execution_count": 12,
   "metadata": {},
   "outputs": [
    {
     "data": {
      "text/plain": [
       "(6, 2)"
      ]
     },
     "execution_count": 12,
     "metadata": {},
     "output_type": "execute_result"
    }
   ],
   "source": [
    "ngX = np.empty((6, 2), dtype=np.float64)\n",
    "ngX[:, 0] = ral\n",
    "ngX[:, 1] = decl\n",
    "table = Table([ngX[:, 0], ngX[:, 1]], names=('RA', 'DEC'), meta={'name': 'first table'})\n",
    "ngX.shape"
   ]
  },
  {
   "cell_type": "code",
   "execution_count": 13,
   "metadata": {},
   "outputs": [
    {
     "data": {
      "text/html": [
       "<i>Table length=6</i>\n",
       "<table id=\"table140026071671040\" class=\"table-striped table-bordered table-condensed\">\n",
       "<thead><tr><th>RA</th><th>DEC</th></tr></thead>\n",
       "<thead><tr><th>float64</th><th>float64</th></tr></thead>\n",
       "<tr><td>55.75875</td><td>-36.27333333333333</td></tr>\n",
       "<tr><td>55.0375</td><td>-35.626111111111115</td></tr>\n",
       "<tr><td>51.808</td><td>-33.483</td></tr>\n",
       "<tr><td>47.6121</td><td>-33.1646</td></tr>\n",
       "<tr><td>56.3018</td><td>-35.572</td></tr>\n",
       "<tr><td>51.3213</td><td>-36.3764</td></tr>\n",
       "</table>"
      ],
      "text/plain": [
       "<Table length=6>\n",
       "   RA            DEC        \n",
       "float64        float64      \n",
       "-------- -------------------\n",
       "55.75875  -36.27333333333333\n",
       " 55.0375 -35.626111111111115\n",
       "  51.808             -33.483\n",
       " 47.6121            -33.1646\n",
       " 56.3018             -35.572\n",
       " 51.3213            -36.3764"
      ]
     },
     "execution_count": 13,
     "metadata": {},
     "output_type": "execute_result"
    }
   ],
   "source": [
    "table"
   ]
  },
  {
   "cell_type": "code",
   "execution_count": 14,
   "metadata": {},
   "outputs": [
    {
     "name": "stderr",
     "output_type": "stream",
     "text": [
      "WARNING: AstropyDeprecationWarning: Gustavo_fornax.dat already exists. Automatically overwriting ASCII files is deprecated. Use the argument 'overwrite=True' in the future. [astropy.io.ascii.ui]\n"
     ]
    }
   ],
   "source": [
    "table.write(\"Gustavo_fornax.dat\", format=\"ascii.commented_header\")"
   ]
  },
  {
   "cell_type": "markdown",
   "metadata": {},
   "source": [
    "Find galaxies around (8 degress) of NGC 3347 "
   ]
  },
  {
   "cell_type": "code",
   "execution_count": 15,
   "metadata": {},
   "outputs": [
    {
     "name": "stderr",
     "output_type": "stream",
     "text": [
      "WARNING: AstropyDeprecationWarning: ../Galaxies-forMatch/NGC3347.dat already exists. Automatically overwriting ASCII files is deprecated. Use the argument 'overwrite=True' in the future. [astropy.io.ascii.ui]\n"
     ]
    }
   ],
   "source": [
    "ra_3347, dec_3347 = 160.6938,  -36.3525\n",
    "gcX = np.empty((1, 2), dtype=np.float64)\n",
    "gcX[:, 0] = ra_3347\n",
    "gcX[:, 1] = dec_3347 \n",
    "gcX.shape\n",
    "table1 = Table([gcX[:,0], gcX[:,1]], names=('RA', 'DEC'), meta={'name': 'first table'})\n",
    "table1.write(\"../Galaxies-forMatch/NGC3347.dat\", format=\"ascii.commented_header\")\n",
    "\n",
    "#Galaxies-forMatch"
   ]
  },
  {
   "cell_type": "code",
   "execution_count": 16,
   "metadata": {},
   "outputs": [],
   "source": [
    "def table(ra, dec):\n",
    "    X = np.empty((1, 2), dtype=np.float64)\n",
    "    X[:, 0] = ra_3347\n",
    "    X[:, 1] = dec_3347 \n",
    "    print(X.shape)\n",
    "    table = Table([X[:,0], X[:,1]], names=('RA', 'DEC'), meta={'name': 'first table'})\n",
    "    return table\n",
    "    "
   ]
  },
  {
   "cell_type": "code",
   "execution_count": 18,
   "metadata": {},
   "outputs": [
    {
     "data": {
      "text/plain": [
       "(167.4902, -37.5392)"
      ]
     },
     "execution_count": 18,
     "metadata": {},
     "output_type": "execute_result"
    }
   ],
   "source": [
    "tab1 = (167.4902, -37.5392)\n",
    "table1.write(\"../Galaxies-forMatch/NGC3347.dat\", format=\"ascii.commented_header\")"
   ]
  },
  {
   "cell_type": "code",
   "execution_count": null,
   "metadata": {},
   "outputs": [],
   "source": []
  }
 ],
 "metadata": {
  "kernelspec": {
   "display_name": "Python 3",
   "language": "python",
   "name": "python3"
  },
  "language_info": {
   "codemirror_mode": {
    "name": "ipython",
    "version": 3
   },
   "file_extension": ".py",
   "mimetype": "text/x-python",
   "name": "python",
   "nbconvert_exporter": "python",
   "pygments_lexer": "ipython3",
   "version": "3.8.5"
  }
 },
 "nbformat": 4,
 "nbformat_minor": 4
}
