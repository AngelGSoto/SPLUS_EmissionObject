{
 "cells": [
  {
   "cell_type": "code",
   "execution_count": 11,
   "metadata": {},
   "outputs": [],
   "source": [
    "from astropy.table import Table, vstack"
   ]
  },
  {
   "cell_type": "code",
   "execution_count": 12,
   "metadata": {},
   "outputs": [],
   "source": [
    "table = Table.read(\"Emission_line_fornax_fwhm8.dat\", format=\"ascii\")"
   ]
  },
  {
   "cell_type": "code",
   "execution_count": 13,
   "metadata": {},
   "outputs": [
    {
     "data": {
      "text/plain": [
       "['RA_1',\n",
       " 'DEC_1',\n",
       " 'Unnamed:_0',\n",
       " 'Field',\n",
       " 'ID',\n",
       " 'RA_2',\n",
       " 'DEC_2',\n",
       " 'FWHM',\n",
       " 'ISOarea',\n",
       " 'KRON_RADIUS',\n",
       " 'nDet_magPStotal',\n",
       " 'PhotoFlagDet',\n",
       " 'U_PStotal',\n",
       " 'F378_PStotal',\n",
       " 'F395_PStotal',\n",
       " 'F410_PStotal',\n",
       " 'F430_PStotal',\n",
       " 'G_PStotal',\n",
       " 'F515_PStotal',\n",
       " 'R_PStotal',\n",
       " 'F660_PStotal',\n",
       " 'I_PStotal',\n",
       " 'F861_PStotal',\n",
       " 'Z_PStotal',\n",
       " 'e_U_PStotal',\n",
       " 'e_F378_PStotal',\n",
       " 'e_F395_PStotal',\n",
       " 'e_F410_PStotal',\n",
       " 'e_F430_PStotal',\n",
       " 'e_G_PStotal',\n",
       " 'e_F515_PStotal',\n",
       " 'e_R_PStotal',\n",
       " 'e_F660_PStotal',\n",
       " 'e_I_PStotal',\n",
       " 'e_F861_PStotal',\n",
       " 'e_Z_PStotal',\n",
       " 'r_-_i',\n",
       " 'r_-_J0660',\n",
       " 'e(r_-_i)',\n",
       " 'e(r_-_J0660)',\n",
       " 'Unnamed:_0.1',\n",
       " 'GroupID',\n",
       " 'GroupSize',\n",
       " 'Separation']"
      ]
     },
     "execution_count": 13,
     "metadata": {},
     "output_type": "execute_result"
    }
   ],
   "source": [
    "table.colnames"
   ]
  },
  {
   "cell_type": "code",
   "execution_count": 14,
   "metadata": {},
   "outputs": [],
   "source": [
    "table.remove_columns(['RA_1', 'DEC_1', 'Unnamed:_0', 'Unnamed:_0.1', 'GroupID', 'GroupSize', 'Separation'])"
   ]
  },
  {
   "cell_type": "code",
   "execution_count": 15,
   "metadata": {},
   "outputs": [],
   "source": [
    "table.rename_column('RA_2', 'RA')\n",
    "table.rename_column('DEC_2', 'DEC')"
   ]
  },
  {
   "cell_type": "code",
   "execution_count": 16,
   "metadata": {},
   "outputs": [
    {
     "data": {
      "text/html": [
       "<i>Table length=154</i>\n",
       "<table id=\"table139947350647184\" class=\"table-striped table-bordered table-condensed\">\n",
       "<thead><tr><th>Field</th><th>ID</th><th>RA</th><th>DEC</th><th>FWHM</th><th>ISOarea</th><th>KRON_RADIUS</th><th>nDet_magPStotal</th><th>PhotoFlagDet</th><th>U_PStotal</th><th>F378_PStotal</th><th>F395_PStotal</th><th>F410_PStotal</th><th>F430_PStotal</th><th>G_PStotal</th><th>F515_PStotal</th><th>R_PStotal</th><th>F660_PStotal</th><th>I_PStotal</th><th>F861_PStotal</th><th>Z_PStotal</th><th>e_U_PStotal</th><th>e_F378_PStotal</th><th>e_F395_PStotal</th><th>e_F410_PStotal</th><th>e_F430_PStotal</th><th>e_G_PStotal</th><th>e_F515_PStotal</th><th>e_R_PStotal</th><th>e_F660_PStotal</th><th>e_I_PStotal</th><th>e_F861_PStotal</th><th>e_Z_PStotal</th><th>r_-_i</th><th>r_-_J0660</th><th>e(r_-_i)</th><th>e(r_-_J0660)</th></tr></thead>\n",
       "<thead><tr><th>str12</th><th>str24</th><th>float64</th><th>float64</th><th>float64</th><th>int64</th><th>float64</th><th>float64</th><th>int64</th><th>float64</th><th>float64</th><th>float64</th><th>float64</th><th>float64</th><th>float64</th><th>float64</th><th>float64</th><th>float64</th><th>float64</th><th>float64</th><th>float64</th><th>float64</th><th>float64</th><th>float64</th><th>float64</th><th>float64</th><th>float64</th><th>float64</th><th>float64</th><th>float64</th><th>float64</th><th>float64</th><th>float64</th><th>float64</th><th>float64</th><th>float64</th><th>float64</th></tr></thead>\n",
       "<tr><td>SPLUS-s24s32</td><td>iDR3.SPLUS-s24s32.031711</td><td>48.37104097368265</td><td>-30.195290352660518</td><td>10.658714999999999</td><td>2266</td><td>2.6264455</td><td>12.0</td><td>6</td><td>15.527332000000001</td><td>15.170929999999998</td><td>15.226481</td><td>14.656374</td><td>14.689263</td><td>14.575804000000002</td><td>14.312117</td><td>14.254052</td><td>13.882387</td><td>14.399671</td><td>14.793789000000002</td><td>14.549735</td><td>0.0061995275</td><td>0.006257131</td><td>0.008795796</td><td>0.005984066</td><td>0.005734252</td><td>0.00233296</td><td>0.0039864615999999995</td><td>0.0018302432000000001</td><td>0.0018235134</td><td>0.0020052497</td><td>0.004026287</td><td>0.0025329015</td><td>-0.14561899999999994</td><td>0.37166500000000013</td><td>0.0027149247743715353</td><td>0.00258360045113903</td></tr>\n",
       "<tr><td>SPLUS-s24s35</td><td>iDR3.SPLUS-s24s35.030511</td><td>52.877670696850565</td><td>-30.214388032625184</td><td>12.950435</td><td>47</td><td>3.8469949</td><td>12.0</td><td>3</td><td>18.800758</td><td>18.099626999999998</td><td>18.023966</td><td>17.896545</td><td>17.967644</td><td>17.960136</td><td>17.799526</td><td>17.712372</td><td>17.440561</td><td>17.620232</td><td>17.648315</td><td>17.532848</td><td>0.042516645</td><td>0.043244585</td><td>0.06260937</td><td>0.060547896</td><td>0.05847018</td><td>0.022128496</td><td>0.03830057</td><td>0.013313529</td><td>0.012136184</td><td>0.013299401</td><td>0.026268106</td><td>0.018397788</td><td>0.092139999999997</td><td>0.2718109999999996</td><td>0.018818185921938436</td><td>0.018014910949424562</td></tr>\n",
       "<tr><td>SPLUS-s24s35</td><td>iDR3.SPLUS-s24s35.030662</td><td>52.874549161274146</td><td>-30.215355217936448</td><td>26.761238</td><td>680</td><td>4.8682303</td><td>12.0</td><td>3</td><td>18.329256</td><td>17.788870000000003</td><td>18.011892</td><td>17.795123999999998</td><td>17.966522</td><td>18.007095</td><td>18.023367</td><td>17.908234</td><td>17.038904000000002</td><td>18.067656</td><td>18.063953</td><td>17.986187</td><td>0.029427882000000002</td><td>0.03423269</td><td>0.062206212000000004</td><td>0.05595554</td><td>0.058608454000000004</td><td>0.023033129</td><td>0.045840077</td><td>0.015420466</td><td>0.009308671</td><td>0.018750085</td><td>0.036885455</td><td>0.02673137</td><td>-0.1594219999999993</td><td>0.8693299999999979</td><td>0.02427666491024624</td><td>0.018012277130984772</td></tr>\n",
       "<tr><td>SPLUS-s24s41</td><td>iDR3.SPLUS-s24s41.011980</td><td>63.22209217387361</td><td>-31.30837649675762</td><td>23.740633</td><td>1939</td><td>4.356058999999999</td><td>12.0</td><td>3</td><td>18.485346</td><td>17.878777</td><td>18.14251</td><td>17.98536</td><td>17.92085</td><td>17.825829000000002</td><td>17.64943</td><td>17.506422</td><td>16.917782</td><td>17.44765</td><td>17.411116</td><td>17.332027</td><td>0.022334023999999997</td><td>0.024144216</td><td>0.040048365</td><td>0.030990142000000002</td><td>0.029587349</td><td>0.011211222</td><td>0.020680498000000002</td><td>0.009170666</td><td>0.007783976</td><td>0.010169788</td><td>0.018677568000000002</td><td>0.0151636405</td><td>0.05877200000000116</td><td>0.5886400000000016</td><td>0.013694002440795022</td><td>0.012028773721877554</td></tr>\n",
       "<tr><td>SPLUS-s25s31</td><td>iDR3.SPLUS-s25s31.021159</td><td>48.139082441531365</td><td>-32.387688729492424</td><td>12.42956</td><td>32823</td><td>5.52842</td><td>12.0</td><td>7</td><td>20.140198</td><td>19.825642000000002</td><td>19.934166</td><td>18.926609</td><td>18.451168</td><td>17.311903</td><td>17.088104</td><td>16.260673999999998</td><td>15.78175</td><td>15.883970000000001</td><td>15.5476055</td><td>15.723968</td><td>0.06945177</td><td>0.088488944</td><td>0.15745583</td><td>0.06399002</td><td>0.044932686</td><td>0.008849461999999999</td><td>0.0153844915</td><td>0.004562811</td><td>0.0043303813</td><td>0.0038561795</td><td>0.0058458419999999995</td><td>0.0044746264</td><td>0.3767039999999966</td><td>0.47892399999999746</td><td>0.00597405762927855</td><td>0.006290583949452601</td></tr>\n",
       "<tr><td>SPLUS-s25s32</td><td>iDR3.SPLUS-s25s32.045652</td><td>48.929133834773005</td><td>-31.526558827545987</td><td>29.222316999999997</td><td>637</td><td>3.0298302</td><td>12.0</td><td>0</td><td>15.323679</td><td>14.935844</td><td>14.698118</td><td>14.501348499999999</td><td>14.393969</td><td>14.18786</td><td>14.172726999999998</td><td>17.597034</td><td>14.158413000000001</td><td>17.006691</td><td>14.064827</td><td>17.540855</td><td>0.0044298493</td><td>0.005288304000000001</td><td>0.0067491466</td><td>0.005467189</td><td>0.0050729923</td><td>0.0020153657999999997</td><td>0.0037004424</td><td>0.009261349</td><td>0.0018963626000000002</td><td>0.0070922845</td><td>0.0027091126000000003</td><td>0.014343136999999999</td><td>0.5903430000000007</td><td>3.4386209999999995</td><td>0.011665036850723672</td><td>0.0094535060379988</td></tr>\n",
       "<tr><td>SPLUS-s26s29</td><td>iDR3.SPLUS-s26s29.000230</td><td>45.386442264828005</td><td>-34.25963713788414</td><td>8.369833</td><td>253</td><td>3.8380754</td><td>12.0</td><td>2</td><td>18.3414</td><td>17.864267</td><td>17.991508</td><td>17.529522</td><td>17.413229</td><td>17.218636</td><td>17.784056</td><td>17.761803</td><td>17.186628</td><td>17.244282000000002</td><td>17.034184</td><td>17.20982</td><td>0.023247423</td><td>0.026046796</td><td>0.04231901</td><td>0.028720926</td><td>0.025947212999999997</td><td>0.009244538</td><td>0.026214352000000003</td><td>0.011221983999999999</td><td>0.008893154</td><td>0.009225561</td><td>0.014869522</td><td>0.013451997</td><td>0.5175209999999986</td><td>0.5751750000000015</td><td>0.014527350090810676</td><td>0.014318558340977349</td></tr>\n",
       "<tr><td>SPLUS-s26s31</td><td>iDR3.SPLUS-s26s31.032533</td><td>49.21108348383686</td><td>-33.30109956831036</td><td>9.383051</td><td>851</td><td>4.658939</td><td>12.0</td><td>2</td><td>18.658262</td><td>18.021214999999998</td><td>18.23265</td><td>18.151138</td><td>18.032894</td><td>17.969303</td><td>17.71141</td><td>17.635729</td><td>17.10379</td><td>17.62238</td><td>17.606476</td><td>17.514985999999997</td><td>0.023570154</td><td>0.0251581</td><td>0.047202237</td><td>0.038376343</td><td>0.035900857</td><td>0.012783589</td><td>0.02193756</td><td>0.010182366</td><td>0.008048968</td><td>0.011249551000000002</td><td>0.022801902000000002</td><td>0.01649884</td><td>0.01334900000000161</td><td>0.5319390000000013</td><td>0.015173429904262155</td><td>0.01297946313307989</td></tr>\n",
       "<tr><td>SPLUS-s26s32</td><td>iDR3.SPLUS-s26s32.032241</td><td>49.21104988541157</td><td>-33.301067522085425</td><td>8.529177</td><td>640</td><td>4.629711599999999</td><td>12.0</td><td>2</td><td>18.676437</td><td>17.99041</td><td>18.204037</td><td>18.221651</td><td>18.121239000000003</td><td>17.999584</td><td>17.771233</td><td>17.689266</td><td>17.106285</td><td>17.66677</td><td>17.643154</td><td>17.565918</td><td>0.036836557</td><td>0.037243135</td><td>0.05836876</td><td>0.055645682</td><td>0.04704674</td><td>0.016625036</td><td>0.04936601</td><td>0.010929468000000001</td><td>0.008614217</td><td>0.011989663000000001</td><td>0.022572018</td><td>0.016789224</td><td>0.022496000000000294</td><td>0.5829810000000002</td><td>0.016223602855611113</td><td>0.013916105967048148</td></tr>\n",
       "<tr><td>SPLUS-s26s40</td><td>iDR3.SPLUS-s26s40.040799</td><td>62.98927341346487</td><td>-32.90926393688288</td><td>51.666779999999996</td><td>1303</td><td>3.8537939</td><td>12.0</td><td>3</td><td>18.350166</td><td>17.91809</td><td>18.072062</td><td>17.98224</td><td>17.930279000000002</td><td>17.976446</td><td>17.959707</td><td>17.740822</td><td>16.965904000000002</td><td>17.77032</td><td>17.713467</td><td>17.629580999999998</td><td>0.021327391</td><td>0.025244297000000002</td><td>0.038301624</td><td>0.033596486</td><td>0.03021473</td><td>0.012648595</td><td>0.025115897999999998</td><td>0.010420063</td><td>0.007981768</td><td>0.013527906000000001</td><td>0.02788446</td><td>0.021138312000000003</td><td>-0.029498000000000246</td><td>0.7749179999999996</td><td>0.017075770953863402</td><td>0.013125788865047045</td></tr>\n",
       "<tr><td>...</td><td>...</td><td>...</td><td>...</td><td>...</td><td>...</td><td>...</td><td>...</td><td>...</td><td>...</td><td>...</td><td>...</td><td>...</td><td>...</td><td>...</td><td>...</td><td>...</td><td>...</td><td>...</td><td>...</td><td>...</td><td>...</td><td>...</td><td>...</td><td>...</td><td>...</td><td>...</td><td>...</td><td>...</td><td>...</td><td>...</td><td>...</td><td>...</td><td>...</td><td>...</td><td>...</td><td>...</td></tr>\n",
       "<tr><td>SPLUS-s28s34</td><td>iDR3.SPLUS-s28s34.039887</td><td>54.81256723371773</td><td>-35.807333616712974</td><td>8.241572</td><td>9</td><td>5.9975085</td><td>12.0</td><td>3</td><td>21.863354</td><td>21.198284</td><td>21.76309</td><td>22.1791</td><td>21.728638</td><td>21.647686</td><td>21.108543</td><td>20.804718</td><td>19.833323</td><td>20.918161</td><td>20.145632</td><td>20.050768</td><td>0.49529183</td><td>0.36665156</td><td>0.9566596</td><td>1.4238878</td><td>0.9166785</td><td>0.32170606</td><td>0.4247821</td><td>0.12456605</td><td>0.063421935</td><td>0.17731842</td><td>0.18639712</td><td>0.16069178</td><td>-0.11344300000000018</td><td>0.9713950000000011</td><td>0.21669915293765896</td><td>0.13978212565183978</td></tr>\n",
       "<tr><td>SPLUS-s28s38</td><td>iDR3.SPLUS-s28s38.027231</td><td>62.27668281669692</td><td>-36.176887605438</td><td>13.122944</td><td>29</td><td>5.0955224</td><td>11.0</td><td>0</td><td>25.535973</td><td>24.09919</td><td>99.0</td><td>21.246170000000006</td><td>21.810452</td><td>21.480965</td><td>21.69736</td><td>20.618088</td><td>19.445501</td><td>20.21089</td><td>19.84195</td><td>20.053028</td><td>9.017319</td><td>4.276399</td><td>21.066103</td><td>0.4738497</td><td>0.74463</td><td>0.16810043</td><td>0.49671286</td><td>0.08118461</td><td>0.03604275</td><td>0.08724007</td><td>0.14852563</td><td>0.152256</td><td>0.40719800000000106</td><td>1.172587</td><td>0.11917118239934099</td><td>0.08882578864504723</td></tr>\n",
       "<tr><td>SPLUS-s28s39</td><td>iDR3.SPLUS-s28s39.034793</td><td>64.17938350104384</td><td>-35.97829007542258</td><td>8.31741</td><td>19</td><td>5.7541466</td><td>11.0</td><td>2</td><td>21.820799</td><td>23.81274</td><td>99.0</td><td>21.151508</td><td>20.721558</td><td>23.281536</td><td>20.110727</td><td>20.895432</td><td>19.805225</td><td>20.975441</td><td>19.373407</td><td>19.861027</td><td>0.28843737</td><td>3.1926098</td><td>21.061686</td><td>0.4512757000000001</td><td>0.29741722</td><td>0.8270731</td><td>0.12801953</td><td>0.104145534</td><td>0.04641409</td><td>0.176156</td><td>0.09603761</td><td>0.12641081</td><td>-0.08000900000000044</td><td>1.0902069999999995</td><td>0.2046392645318712</td><td>0.1140199982576445</td></tr>\n",
       "<tr><td>SPLUS-s28s39</td><td>iDR3.SPLUS-s28s39.044954</td><td>64.1773145578525</td><td>-35.899782728299925</td><td>8.462396</td><td>26</td><td>5.915603</td><td>12.0</td><td>2</td><td>21.111431</td><td>20.925508</td><td>21.710045</td><td>20.161375</td><td>20.03017</td><td>21.508747</td><td>19.785952</td><td>20.523056</td><td>19.735558</td><td>20.266087</td><td>20.151587</td><td>19.765747</td><td>0.15638997</td><td>0.23851523</td><td>0.8471015</td><td>0.19079578</td><td>0.1645822</td><td>0.16990948</td><td>0.09837703</td><td>0.07606239</td><td>0.044080034</td><td>0.09416741</td><td>0.19236611</td><td>0.1165878</td><td>0.25696900000000156</td><td>0.7874979999999994</td><td>0.12104952820486413</td><td>0.08791209569765275</td></tr>\n",
       "<tr><td>SPLUS-s28s40</td><td>iDR3.SPLUS-s28s40.035206</td><td>64.28539573989883</td><td>-35.48847973371497</td><td>19.180706</td><td>32</td><td>8.422239999999999</td><td>11.0</td><td>2</td><td>25.605164</td><td>99.0</td><td>23.220825</td><td>19.865</td><td>19.801258</td><td>21.395874</td><td>19.973331</td><td>20.745983</td><td>19.531086</td><td>20.03156</td><td>19.05598</td><td>19.621616</td><td>9.888136</td><td>21.606308</td><td>4.2645125</td><td>0.16441143</td><td>0.13468914</td><td>0.15445854</td><td>0.11401715</td><td>0.095492594</td><td>0.038169622</td><td>0.11140304</td><td>0.07454433</td><td>0.13466197</td><td>0.714423</td><td>1.2148970000000006</td><td>0.14672925008358229</td><td>0.10283849256222945</td></tr>\n",
       "<tr><td>SPLUS-s28s41</td><td>iDR3.SPLUS-s28s41.021294</td><td>66.27901003512955</td><td>-36.4121400596876</td><td>8.22137</td><td>13</td><td>5.0946407</td><td>10.0</td><td>0</td><td>21.735178</td><td>22.411133</td><td>99.0</td><td>99.0</td><td>22.485119</td><td>21.137970000000006</td><td>21.639515</td><td>20.869873</td><td>19.904903</td><td>20.673836</td><td>20.044857</td><td>20.265177</td><td>0.27597812</td><td>0.9468587</td><td>21.090708</td><td>21.181679000000006</td><td>1.4435049</td><td>0.13732193</td><td>0.47754565</td><td>0.10131802</td><td>0.051581635999999986</td><td>0.12788217</td><td>0.18071549</td><td>0.17421795</td><td>0.1960369999999969</td><td>0.9649699999999974</td><td>0.1631538861953012</td><td>0.11369259584140427</td></tr>\n",
       "<tr><td>SPLUS-s30s35</td><td>iDR3.SPLUS-s30s35.019605</td><td>58.93126891637041</td><td>-39.01890618110065</td><td>12.21383</td><td>7</td><td>8.858197</td><td>12.0</td><td>3</td><td>21.964128</td><td>23.75367</td><td>21.428606</td><td>21.09261</td><td>21.493294</td><td>21.937798</td><td>21.376299</td><td>20.965395</td><td>19.302155</td><td>20.627438</td><td>21.199774</td><td>20.848064</td><td>0.47431737</td><td>3.9024904</td><td>0.7902033</td><td>0.5456333000000001</td><td>0.7549168</td><td>0.41803598</td><td>0.5157185000000001</td><td>0.14025162</td><td>0.038898047000000005</td><td>0.13119699</td><td>0.4674164000000001</td><td>0.2998291</td><td>0.3379569999999994</td><td>1.6632400000000018</td><td>0.19204990783045042</td><td>0.1455457830822955</td></tr>\n",
       "<tr><td>SPLUS-s30s36</td><td>iDR3.SPLUS-s30s36.048176</td><td>60.98117102517535</td><td>-38.22297932292475</td><td>11.7531</td><td>18</td><td>7.617036</td><td>12.0</td><td>3</td><td>21.34403</td><td>20.933727</td><td>21.098621</td><td>22.22597</td><td>21.34748</td><td>20.573303</td><td>20.282982</td><td>20.679504</td><td>19.86531</td><td>20.846127</td><td>21.107342000000006</td><td>21.44295</td><td>0.27511314</td><td>0.29760143</td><td>0.5192665</td><td>1.4445926000000002</td><td>0.65744835</td><td>0.11805671</td><td>0.19701748</td><td>0.103376925</td><td>0.056038525</td><td>0.14867464</td><td>0.39657202</td><td>0.44937372</td><td>-0.16662299999999775</td><td>0.8141940000000005</td><td>0.1810826805677043</td><td>0.1175887107958551</td></tr>\n",
       "<tr><td>SPLUS-s31s37</td><td>iDR3.SPLUS-s31s37.007496</td><td>64.12838931125954</td><td>-40.647640082536476</td><td>8.381282</td><td>37</td><td>5.556905</td><td>9.0</td><td>3</td><td>27.335457</td><td>99.0</td><td>99.0</td><td>99.0</td><td>21.788033</td><td>23.123522</td><td>21.251558</td><td>20.635845</td><td>19.697517</td><td>19.891684</td><td>18.39857</td><td>19.132204</td><td>49.144188</td><td>21.66324</td><td>21.01718</td><td>21.210186</td><td>0.74309546</td><td>0.74592835</td><td>0.34147376</td><td>0.083605796</td><td>0.043803833</td><td>0.063023195</td><td>0.04089051</td><td>0.06430291</td><td>0.7441609999999983</td><td>0.9383279999999985</td><td>0.10469886452489177</td><td>0.09438593597716508</td></tr>\n",
       "<tr><td>SPLUS-s32s37</td><td>iDR3.SPLUS-s32s37.039061</td><td>64.90323896836749</td><td>-41.115694326563776</td><td>9.469837</td><td>6</td><td>1.82</td><td>11.0</td><td>0</td><td>22.772398000000006</td><td>25.475388</td><td>21.402697</td><td>22.21916</td><td>99.0</td><td>21.983013</td><td>20.51897</td><td>20.990019</td><td>17.135336</td><td>20.251856</td><td>20.716312</td><td>19.846592</td><td>1.32058</td><td>26.048634</td><td>1.088466</td><td>1.8930769</td><td>20.722971</td><td>0.4360464</td><td>0.28550717</td><td>0.19372907</td><td>0.011844126000000002</td><td>0.13804701</td><td>0.5119817</td><td>0.18402989</td><td>0.7381630000000001</td><td>3.8546830000000014</td><td>0.23788217573623502</td><td>0.19409079288768125</td></tr>\n",
       "</table>"
      ],
      "text/plain": [
       "<Table length=154>\n",
       "   Field                ID            ...     e(r_-_J0660)    \n",
       "   str12              str24           ...       float64       \n",
       "------------ ------------------------ ... --------------------\n",
       "SPLUS-s24s32 iDR3.SPLUS-s24s32.031711 ...  0.00258360045113903\n",
       "SPLUS-s24s35 iDR3.SPLUS-s24s35.030511 ... 0.018014910949424562\n",
       "SPLUS-s24s35 iDR3.SPLUS-s24s35.030662 ... 0.018012277130984772\n",
       "SPLUS-s24s41 iDR3.SPLUS-s24s41.011980 ... 0.012028773721877554\n",
       "SPLUS-s25s31 iDR3.SPLUS-s25s31.021159 ... 0.006290583949452601\n",
       "SPLUS-s25s32 iDR3.SPLUS-s25s32.045652 ...   0.0094535060379988\n",
       "SPLUS-s26s29 iDR3.SPLUS-s26s29.000230 ... 0.014318558340977349\n",
       "SPLUS-s26s31 iDR3.SPLUS-s26s31.032533 ...  0.01297946313307989\n",
       "SPLUS-s26s32 iDR3.SPLUS-s26s32.032241 ... 0.013916105967048148\n",
       "SPLUS-s26s40 iDR3.SPLUS-s26s40.040799 ... 0.013125788865047045\n",
       "         ...                      ... ...                  ...\n",
       "SPLUS-s28s34 iDR3.SPLUS-s28s34.039887 ...  0.13978212565183978\n",
       "SPLUS-s28s38 iDR3.SPLUS-s28s38.027231 ...  0.08882578864504723\n",
       "SPLUS-s28s39 iDR3.SPLUS-s28s39.034793 ...   0.1140199982576445\n",
       "SPLUS-s28s39 iDR3.SPLUS-s28s39.044954 ...  0.08791209569765275\n",
       "SPLUS-s28s40 iDR3.SPLUS-s28s40.035206 ...  0.10283849256222945\n",
       "SPLUS-s28s41 iDR3.SPLUS-s28s41.021294 ...  0.11369259584140427\n",
       "SPLUS-s30s35 iDR3.SPLUS-s30s35.019605 ...   0.1455457830822955\n",
       "SPLUS-s30s36 iDR3.SPLUS-s30s36.048176 ...   0.1175887107958551\n",
       "SPLUS-s31s37 iDR3.SPLUS-s31s37.007496 ...  0.09438593597716508\n",
       "SPLUS-s32s37 iDR3.SPLUS-s32s37.039061 ...  0.19409079288768125"
      ]
     },
     "execution_count": 16,
     "metadata": {},
     "output_type": "execute_result"
    }
   ],
   "source": [
    "table"
   ]
  },
  {
   "cell_type": "code",
   "execution_count": 17,
   "metadata": {},
   "outputs": [
    {
     "name": "stderr",
     "output_type": "stream",
     "text": [
      "WARNING: AstropyDeprecationWarning: Emission_lines_fornax_v2.dat already exists. Automatically overwriting ASCII files is deprecated. Use the argument 'overwrite=True' in the future. [astropy.io.ascii.ui]\n"
     ]
    }
   ],
   "source": [
    "table.write(\"Emission_lines_fornax_v2.dat\", format=\"ascii\")"
   ]
  },
  {
   "cell_type": "code",
   "execution_count": 19,
   "metadata": {},
   "outputs": [],
   "source": [
    "table1 = Table.read(\"Emission_lines_fornax_v2.dat\", format=\"ascii\")"
   ]
  },
  {
   "cell_type": "code",
   "execution_count": 21,
   "metadata": {},
   "outputs": [],
   "source": [
    "df_fornax1 = table1.to_pandas()\n",
    "df_fornax1.to_csv(\"Emission_lines_fornax_version2.csv\") "
   ]
  },
  {
   "cell_type": "code",
   "execution_count": null,
   "metadata": {},
   "outputs": [],
   "source": []
  }
 ],
 "metadata": {
  "kernelspec": {
   "display_name": "Python 3",
   "language": "python",
   "name": "python3"
  },
  "language_info": {
   "codemirror_mode": {
    "name": "ipython",
    "version": 3
   },
   "file_extension": ".py",
   "mimetype": "text/x-python",
   "name": "python",
   "nbconvert_exporter": "python",
   "pygments_lexer": "ipython3",
   "version": "3.8.5"
  }
 },
 "nbformat": 4,
 "nbformat_minor": 4
}
