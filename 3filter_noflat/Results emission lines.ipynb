{
 "cells": [
  {
   "cell_type": "code",
   "execution_count": 1,
   "metadata": {},
   "outputs": [],
   "source": [
    "import numpy as np\n",
    "from sklearn import metrics\n",
    "import matplotlib.pyplot as plt\n",
    "from scipy.optimize import curve_fit\n",
    "from sklearn.datasets import make_blobs\n",
    "from sklearn.preprocessing import StandardScaler\n",
    "import pandas as pd\n",
    "from astropy.table import Table, vstack\n",
    "import hdbscan\n",
    "from pathlib import Path\n",
    "import seaborn as sns\n",
    "import glob\n",
    "import json\n",
    "%matplotlib inline\n",
    "sns.set_color_codes()"
   ]
  },
  {
   "cell_type": "code",
   "execution_count": 2,
   "metadata": {},
   "outputs": [],
   "source": [
    "ROOT_PATH = Path(\"..\") "
   ]
  },
  {
   "cell_type": "code",
   "execution_count": 3,
   "metadata": {},
   "outputs": [],
   "source": [
    "table1 = Table.read(\"Halpha-DR3_error_noFlag_3f_16r.ecsv\", format=\"ascii.ecsv\")\n",
    "table2 = Table.read(\"Halpha-DR3_error_noFlag_3f_16r18.ecsv\", format=\"ascii.ecsv\")\n",
    "table3 = Table.read(\"Halpha-DR3_noFlag_3f_18r20.ecsv\", format=\"ascii.ecsv\")\n",
    "table4 = Table.read(\"Halpha-DR3_noFlag_3f_20r21.ecsv\", format=\"ascii.ecsv\")"
   ]
  },
  {
   "cell_type": "code",
   "execution_count": 15,
   "metadata": {},
   "outputs": [
    {
     "data": {
      "text/plain": [
       "['Unnamed: 0',\n",
       " 'Field',\n",
       " 'ID',\n",
       " 'RA',\n",
       " 'DEC',\n",
       " 'FWHM',\n",
       " 'ISOarea',\n",
       " 'KRON_RADIUS',\n",
       " 'nDet_magPStotal',\n",
       " 'PhotoFlagDet',\n",
       " 'U_PStotal',\n",
       " 'F378_PStotal',\n",
       " 'F395_PStotal',\n",
       " 'F410_PStotal',\n",
       " 'F430_PStotal',\n",
       " 'G_PStotal',\n",
       " 'F515_PStotal',\n",
       " 'R_PStotal',\n",
       " 'F660_PStotal',\n",
       " 'I_PStotal',\n",
       " 'F861_PStotal',\n",
       " 'Z_PStotal',\n",
       " 'e_U_PStotal',\n",
       " 'e_F378_PStotal',\n",
       " 'e_F395_PStotal',\n",
       " 'e_F410_PStotal',\n",
       " 'e_F430_PStotal',\n",
       " 'e_G_PStotal',\n",
       " 'e_F515_PStotal',\n",
       " 'e_R_PStotal',\n",
       " 'e_F660_PStotal',\n",
       " 'e_I_PStotal',\n",
       " 'e_F861_PStotal',\n",
       " 'e_Z_PStotal',\n",
       " 'r - i',\n",
       " 'r - J0660',\n",
       " 'e(r - i)',\n",
       " 'e(r - J0660)',\n",
       " 'Unnamed: 0.1']"
      ]
     },
     "execution_count": 15,
     "metadata": {},
     "output_type": "execute_result"
    }
   ],
   "source": [
    "# Merge tall four tables\n",
    "table_merge = vstack([table1, table2, table3, table4])\n",
    "table_merge.colnames"
   ]
  },
  {
   "cell_type": "code",
   "execution_count": 17,
   "metadata": {},
   "outputs": [],
   "source": [
    "table_merge.remove_columns(['Unnamed: 0', 'Unnamed: 0.1'])"
   ]
  },
  {
   "cell_type": "code",
   "execution_count": 18,
   "metadata": {},
   "outputs": [],
   "source": [
    "table_merge.write(\"Halpha-DR3_noFlag_merge.ecsv\", format=\"ascii.ecsv\")"
   ]
  },
  {
   "cell_type": "code",
   "execution_count": 9,
   "metadata": {},
   "outputs": [],
   "source": [
    "m = table_merge[\"FWHM\"] > 8.0"
   ]
  },
  {
   "cell_type": "code",
   "execution_count": 10,
   "metadata": {},
   "outputs": [],
   "source": [
    "table_merge_ = table_merge[m]"
   ]
  },
  {
   "cell_type": "code",
   "execution_count": 11,
   "metadata": {},
   "outputs": [],
   "source": [
    "table_merge_.write(\"Halpha_noflat_fwhm8.dat\", format=\"ascii.commented_header\")"
   ]
  },
  {
   "cell_type": "code",
   "execution_count": null,
   "metadata": {},
   "outputs": [],
   "source": []
  },
  {
   "cell_type": "code",
   "execution_count": null,
   "metadata": {},
   "outputs": [],
   "source": []
  }
 ],
 "metadata": {
  "kernelspec": {
   "display_name": "Python 3",
   "language": "python",
   "name": "python3"
  },
  "language_info": {
   "codemirror_mode": {
    "name": "ipython",
    "version": 3
   },
   "file_extension": ".py",
   "mimetype": "text/x-python",
   "name": "python",
   "nbconvert_exporter": "python",
   "pygments_lexer": "ipython3",
   "version": "3.8.5"
  }
 },
 "nbformat": 4,
 "nbformat_minor": 4
}
