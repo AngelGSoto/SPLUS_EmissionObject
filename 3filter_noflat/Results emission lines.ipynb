{
 "cells": [
  {
   "cell_type": "code",
   "execution_count": 1,
   "metadata": {},
   "outputs": [],
   "source": [
    "import numpy as np\n",
    "from sklearn import metrics\n",
    "import matplotlib.pyplot as plt\n",
    "from scipy.optimize import curve_fit\n",
    "from sklearn.datasets import make_blobs\n",
    "from sklearn.preprocessing import StandardScaler\n",
    "import pandas as pd\n",
    "from astropy.table import Table, vstack\n",
    "import hdbscan\n",
    "from pathlib import Path\n",
    "import seaborn as sns\n",
    "import glob\n",
    "import json\n",
    "%matplotlib inline\n",
    "sns.set_color_codes()"
   ]
  },
  {
   "cell_type": "code",
   "execution_count": 2,
   "metadata": {},
   "outputs": [],
   "source": [
    "ROOT_PATH = Path(\"..\") "
   ]
  },
  {
   "cell_type": "code",
   "execution_count": 3,
   "metadata": {},
   "outputs": [],
   "source": [
    "table1 = Table.read(\"Halpha-DR3_error_noFlag_3f_16r.ecsv\", format=\"ascii.ecsv\")\n",
    "table2 = Table.read(\"Halpha-DR3_error_noFlag_3f_16r18.ecsv\", format=\"ascii.ecsv\")\n",
    "table3 = Table.read(\"Halpha-DR3_noFlag_3f_18r20.ecsv\", format=\"ascii.ecsv\")\n",
    "table4 = Table.read(\"Halpha-DR3_noFlag_3f_20r21.ecsv\", format=\"ascii.ecsv\")"
   ]
  },
  {
   "cell_type": "code",
   "execution_count": 4,
   "metadata": {},
   "outputs": [
    {
     "data": {
      "text/plain": [
       "['Unnamed: 0',\n",
       " 'Field',\n",
       " 'ID',\n",
       " 'RA',\n",
       " 'DEC',\n",
       " 'FWHM',\n",
       " 'ISOarea',\n",
       " 'KRON_RADIUS',\n",
       " 'nDet_magPStotal',\n",
       " 'PhotoFlagDet',\n",
       " 'U_PStotal',\n",
       " 'F378_PStotal',\n",
       " 'F395_PStotal',\n",
       " 'F410_PStotal',\n",
       " 'F430_PStotal',\n",
       " 'G_PStotal',\n",
       " 'F515_PStotal',\n",
       " 'R_PStotal',\n",
       " 'F660_PStotal',\n",
       " 'I_PStotal',\n",
       " 'F861_PStotal',\n",
       " 'Z_PStotal',\n",
       " 'e_U_PStotal',\n",
       " 'e_F378_PStotal',\n",
       " 'e_F395_PStotal',\n",
       " 'e_F410_PStotal',\n",
       " 'e_F430_PStotal',\n",
       " 'e_G_PStotal',\n",
       " 'e_F515_PStotal',\n",
       " 'e_R_PStotal',\n",
       " 'e_F660_PStotal',\n",
       " 'e_I_PStotal',\n",
       " 'e_F861_PStotal',\n",
       " 'e_Z_PStotal',\n",
       " 'r - i',\n",
       " 'r - J0660',\n",
       " 'e(r - i)',\n",
       " 'e(r - J0660)',\n",
       " 'Unnamed: 0.1']"
      ]
     },
     "execution_count": 4,
     "metadata": {},
     "output_type": "execute_result"
    }
   ],
   "source": [
    "# Merge tall four tables\n",
    "table_merge = vstack([table1, table2, table3, table4])\n",
    "table_merge.colnames"
   ]
  },
  {
   "cell_type": "code",
   "execution_count": 5,
   "metadata": {},
   "outputs": [
    {
     "data": {
      "text/html": [
       "<i>Table length=13644</i>\n",
       "<table id=\"table140362156520736\" class=\"table-striped table-bordered table-condensed\">\n",
       "<thead><tr><th>Unnamed: 0</th><th>Field</th><th>ID</th><th>RA</th><th>DEC</th><th>FWHM</th><th>ISOarea</th><th>KRON_RADIUS</th><th>nDet_magPStotal</th><th>PhotoFlagDet</th><th>U_PStotal</th><th>F378_PStotal</th><th>F395_PStotal</th><th>F410_PStotal</th><th>F430_PStotal</th><th>G_PStotal</th><th>F515_PStotal</th><th>R_PStotal</th><th>F660_PStotal</th><th>I_PStotal</th><th>F861_PStotal</th><th>Z_PStotal</th><th>e_U_PStotal</th><th>e_F378_PStotal</th><th>e_F395_PStotal</th><th>e_F410_PStotal</th><th>e_F430_PStotal</th><th>e_G_PStotal</th><th>e_F515_PStotal</th><th>e_R_PStotal</th><th>e_F660_PStotal</th><th>e_I_PStotal</th><th>e_F861_PStotal</th><th>e_Z_PStotal</th><th>r - i</th><th>r - J0660</th><th>e(r - i)</th><th>e(r - J0660)</th><th>Unnamed: 0.1</th></tr></thead>\n",
       "<thead><tr><th>int64</th><th>str13</th><th>str25</th><th>float64</th><th>float64</th><th>float64</th><th>int64</th><th>float64</th><th>float64</th><th>int64</th><th>float64</th><th>float64</th><th>float64</th><th>float64</th><th>float64</th><th>float64</th><th>float64</th><th>float64</th><th>float64</th><th>float64</th><th>float64</th><th>float64</th><th>float64</th><th>float64</th><th>float64</th><th>float64</th><th>float64</th><th>float64</th><th>float64</th><th>float64</th><th>float64</th><th>float64</th><th>float64</th><th>float64</th><th>float64</th><th>float64</th><th>float64</th><th>float64</th><th>int64</th></tr></thead>\n",
       "<tr><td>954</td><td>HYDRA-D-0001</td><td>iDR3.HYDRA-D-0001.065510</td><td>157.96713209517503</td><td>-34.853619773852564</td><td>18.385289999999998</td><td>26688</td><td>3.6483607000000005</td><td>12.0</td><td>3</td><td>18.999676</td><td>18.393696</td><td>18.382206</td><td>17.931164000000003</td><td>17.652334</td><td>16.831423</td><td>16.287369</td><td>15.771395000000002</td><td>15.149722</td><td>15.208897</td><td>14.894658999999999</td><td>14.722282</td><td>0.019107196</td><td>0.01950361</td><td>0.031827644</td><td>0.018585498</td><td>0.014735135</td><td>0.0035354882</td><td>0.0053984975</td><td>0.0019168528</td><td>0.0016899178</td><td>0.0015457178</td><td>0.0023083739999999998</td><td>0.0015461957999999998</td><td>0.5624980000000015</td><td>0.6216730000000013</td><td>0.002462431354191357</td><td>0.002555415196719445</td><td>--</td></tr>\n",
       "<tr><td>1968</td><td>HYDRA-D-0001</td><td>iDR3.HYDRA-D-0001.134598</td><td>158.17859625462543</td><td>-33.90953396493444</td><td>2.032597</td><td>257</td><td>2.801193</td><td>12.0</td><td>2</td><td>19.227235999999998</td><td>19.149866</td><td>17.82024</td><td>18.008026</td><td>18.473129999999998</td><td>16.683401</td><td>16.051102</td><td>15.890360000000001</td><td>14.902069000000001</td><td>15.574504999999998</td><td>17.356517999999998</td><td>15.478329</td><td>0.022074511</td><td>0.03359331</td><td>0.020474182</td><td>0.020238826</td><td>0.027461862000000004</td><td>0.003347937</td><td>0.0048667975</td><td>0.0020475418</td><td>0.0015116063</td><td>0.001880126</td><td>0.010021526</td><td>0.0023258661</td><td>0.31585500000000266</td><td>0.9882910000000003</td><td>0.0027798023668281235</td><td>0.002545069945786742</td><td>--</td></tr>\n",
       "<tr><td>2002</td><td>HYDRA-D-0002</td><td>iDR3.HYDRA-D-0002.000032</td><td>156.1366542698264</td><td>-35.342667924282686</td><td>2.9419925</td><td>174</td><td>2.7415805</td><td>12.0</td><td>0</td><td>18.330727</td><td>19.44981</td><td>18.096573</td><td>17.44361</td><td>16.963053</td><td>15.967049</td><td>16.46397</td><td>15.549914000000001</td><td>14.936276000000001</td><td>16.090406</td><td>14.615817999999999</td><td>14.963345</td><td>0.019821359</td><td>0.07405104</td><td>0.042316396</td><td>0.023186365</td><td>0.016223582</td><td>0.0038739613</td><td>0.0102324365</td><td>0.0028951172999999997</td><td>0.00255691</td><td>0.004064287</td><td>0.0034198917</td><td>0.0029169677</td><td>-0.5404920000000004</td><td>0.6136379999999999</td><td>0.004990003306524785</td><td>0.0038625759447367875</td><td>--</td></tr>\n",
       "<tr><td>2014</td><td>HYDRA-D-0002</td><td>iDR3.HYDRA-D-0002.001149</td><td>156.87919260930815</td><td>-35.33931138004457</td><td>1.8792558000000001</td><td>472</td><td>1.9519962</td><td>12.0</td><td>3</td><td>17.27306</td><td>16.643857999999998</td><td>17.284088</td><td>15.676273000000002</td><td>16.548285</td><td>14.904943</td><td>14.889213</td><td>15.419471</td><td>14.5486</td><td>14.512057999999998</td><td>14.13476</td><td>15.102232999999998</td><td>0.010438714</td><td>0.011035551999999999</td><td>0.02408754</td><td>0.008243984000000001</td><td>0.012580357</td><td>0.0023107529</td><td>0.0045350827</td><td>0.0027109939</td><td>0.0021222078</td><td>0.0018475517</td><td>0.002682233</td><td>0.0031145827</td><td>0.9074130000000018</td><td>0.8708709999999993</td><td>0.0032806912701456837</td><td>0.003442855482331207</td><td>--</td></tr>\n",
       "<tr><td>4299</td><td>HYDRA-D-0002</td><td>iDR3.HYDRA-D-0002.088975</td><td>156.88970276750538</td><td>-33.921271115116554</td><td>2.2404287</td><td>275</td><td>2.9401933999999996</td><td>12.0</td><td>2</td><td>16.6482</td><td>15.776926000000001</td><td>15.884382999999998</td><td>15.098729999999998</td><td>15.001764000000001</td><td>14.665070000000002</td><td>14.492969</td><td>14.578960999999998</td><td>13.630393</td><td>14.024643</td><td>14.167553</td><td>13.713729</td><td>0.007400430699999999</td><td>0.006953191500000001</td><td>0.01051948</td><td>0.006228163399999999</td><td>0.0056687356000000005</td><td>0.0020891074</td><td>0.0037937101</td><td>0.0018409299</td><td>0.0013978903</td><td>0.0014836228</td><td>0.0027330391999999997</td><td>0.0015687383</td><td>0.5543179999999985</td><td>0.9485679999999981</td><td>0.002364351815909352</td><td>0.0023115190216712687</td><td>--</td></tr>\n",
       "<tr><td>5351</td><td>HYDRA-D-0003</td><td>iDR3.HYDRA-D-0003.045220</td><td>157.40758591075345</td><td>-36.21224327757265</td><td>2.3242032999999998</td><td>461</td><td>2.8875</td><td>12.0</td><td>2</td><td>16.605137</td><td>16.344955</td><td>16.119001</td><td>15.666267000000001</td><td>15.587287</td><td>21.07467</td><td>15.21287</td><td>14.921644</td><td>14.946739</td><td>21.297981</td><td>14.791258</td><td>14.817207000000002</td><td>0.0043872534</td><td>0.0054784426</td><td>0.0068971063</td><td>0.0051639723</td><td>0.0044362326</td><td>0.070694715</td><td>0.0031761134</td><td>0.0013165146</td><td>0.0015325335999999998</td><td>0.13412641</td><td>0.0022232823999999997</td><td>0.0016858628</td><td>-6.3763369999999995</td><td>-0.02509500000000031</td><td>0.13413287095332044</td><td>0.0020203638105900923</td><td>--</td></tr>\n",
       "<tr><td>6687</td><td>HYDRA-D-0003</td><td>iDR3.HYDRA-D-0003.120012</td><td>157.99060949452974</td><td>-35.27811079297131</td><td>5.9653044</td><td>365</td><td>3.1934671000000003</td><td>12.0</td><td>2</td><td>18.220164999999998</td><td>18.553257000000002</td><td>18.03874</td><td>16.83386</td><td>16.416729</td><td>14.954020000000002</td><td>16.002958</td><td>15.997507999999998</td><td>15.219930999999999</td><td>16.003937</td><td>15.495417000000002</td><td>16.32592</td><td>0.0113581745</td><td>0.021866111</td><td>0.023391671</td><td>0.009897386999999999</td><td>0.0069241263</td><td>0.0014625887</td><td>0.00475287</td><td>0.0022275131</td><td>0.0017504436</td><td>0.002416971</td><td>0.0032313884999999997</td><td>0.004106899000000001</td><td>-0.0064290000000024605</td><td>0.7775769999999991</td><td>0.003286877458244011</td><td>0.0028329961890995493</td><td>--</td></tr>\n",
       "<tr><td>6814</td><td>HYDRA-D-0004</td><td>iDR3.HYDRA-D-0004.002894</td><td>157.3234832210572</td><td>-36.69234472207434</td><td>4.1785502</td><td>15</td><td>3.614075</td><td>12.0</td><td>3</td><td>17.367178</td><td>16.731120999999998</td><td>16.507187</td><td>16.02071</td><td>15.995838000000001</td><td>15.548951999999998</td><td>15.43338</td><td>15.187622</td><td>14.445366</td><td>14.446280499999999</td><td>15.217483499999998</td><td>13.777089000000002</td><td>0.0085602645</td><td>0.008636425</td><td>0.01115371</td><td>0.0072650056999999995</td><td>0.0066961595</td><td>0.0023859614</td><td>0.0043718</td><td>0.0018239979</td><td>0.0016140896</td><td>0.0013907906</td><td>0.0034943402000000004</td><td>0.001268273</td><td>0.7413415000000008</td><td>0.7422559999999994</td><td>0.0022937451541644224</td><td>0.0024356218048031536</td><td>--</td></tr>\n",
       "<tr><td>6859</td><td>HYDRA-D-0004</td><td>iDR3.HYDRA-D-0004.005086</td><td>157.07444157031642</td><td>-36.692620070834224</td><td>11.86844</td><td>872</td><td>3.3559367999999994</td><td>12.0</td><td>3</td><td>15.062195000000001</td><td>14.4423685</td><td>14.230062</td><td>13.929382</td><td>13.999728</td><td>14.783992999999999</td><td>13.785982</td><td>15.520494</td><td>14.969072</td><td>14.994013</td><td>14.384056</td><td>15.098643</td><td>0.0025891487</td><td>0.0027034688</td><td>0.003420572</td><td>0.0025599175</td><td>0.0024850524</td><td>0.0016545934</td><td>0.0019714613</td><td>0.0021500732000000002</td><td>0.0020764456</td><td>0.0018226461999999999</td><td>0.0022688718</td><td>0.0025339476</td><td>0.5264809999999986</td><td>0.5514219999999987</td><td>0.0028186617277943587</td><td>0.002989053545040236</td><td>--</td></tr>\n",
       "<tr><td>6904</td><td>HYDRA-D-0004</td><td>iDR3.HYDRA-D-0004.006960</td><td>156.53658586034737</td><td>-36.696120784013466</td><td>8.976546</td><td>3260</td><td>2.753578</td><td>12.0</td><td>7</td><td>15.621178</td><td>15.400757</td><td>14.884056</td><td>13.991419</td><td>13.482757999999999</td><td>12.581213</td><td>12.396154</td><td>15.528545000000001</td><td>13.471279000000001</td><td>14.204281</td><td>10.946203</td><td>14.476420000000001</td><td>0.00339884</td><td>0.00430248</td><td>0.0047068014</td><td>0.0026244365</td><td>0.0019395859</td><td>0.0005916363</td><td>0.0010273266</td><td>0.0021583799</td><td>0.001026354</td><td>0.0012372934</td><td>0.00044627187999999994</td><td>0.0018045933999999999</td><td>1.3242640000000012</td><td>2.0572660000000003</td><td>0.002487870324274875</td><td>0.0023899804028568957</td><td>--</td></tr>\n",
       "<tr><td>...</td><td>...</td><td>...</td><td>...</td><td>...</td><td>...</td><td>...</td><td>...</td><td>...</td><td>...</td><td>...</td><td>...</td><td>...</td><td>...</td><td>...</td><td>...</td><td>...</td><td>...</td><td>...</td><td>...</td><td>...</td><td>...</td><td>...</td><td>...</td><td>...</td><td>...</td><td>...</td><td>...</td><td>...</td><td>...</td><td>...</td><td>...</td><td>...</td><td>...</td><td>...</td><td>...</td><td>...</td><td>...</td><td>...</td></tr>\n",
       "<tr><td>3965090</td><td>SPLUS-n17s51</td><td>iDR3.SPLUS-n17s51.030773</td><td>223.23754184750527</td><td>-21.76636350087201</td><td>8.387291000000001</td><td>21</td><td>5.9392752999999985</td><td>12.0</td><td>3</td><td>21.300396</td><td>20.555233</td><td>20.676435</td><td>21.452248</td><td>20.5008</td><td>20.656473</td><td>19.849148</td><td>20.625778</td><td>19.386852</td><td>20.612621</td><td>21.53567</td><td>20.359554</td><td>0.22485834</td><td>0.20387986</td><td>0.35966226</td><td>0.7272831999999999</td><td>0.24861778</td><td>0.09205034</td><td>0.1062981</td><td>0.0856631</td><td>0.043314584</td><td>0.11998929</td><td>0.6927310999999999</td><td>0.16792691</td><td>0.013156999999999641</td><td>1.2389259999999993</td><td>0.14742997122808543</td><td>0.09599124902147621</td><td>118909</td></tr>\n",
       "<tr><td>3972914</td><td>SPLUS-n18s51</td><td>iDR3.SPLUS-n18s51.046089</td><td>224.6654472350188</td><td>-22.804557852253627</td><td>3.2493813</td><td>30</td><td>3.9746664</td><td>9.0</td><td>2</td><td>29.57336</td><td>99.0</td><td>99.0</td><td>23.261795000000006</td><td>99.0</td><td>22.531263</td><td>21.008877</td><td>20.50005</td><td>18.095163</td><td>18.77143</td><td>17.865982000000006</td><td>18.6041</td><td>409.8162</td><td>21.690197</td><td>21.04457</td><td>3.216793</td><td>21.195053</td><td>0.5266175000000001</td><td>0.30836126</td><td>0.08250742400000001</td><td>0.017020466</td><td>0.025172358</td><td>0.028359832</td><td>0.03805288</td><td>1.728620000000003</td><td>2.404887000000002</td><td>0.08626194191180686</td><td>0.08424471068246916</td><td>126733</td></tr>\n",
       "<tr><td>3974444</td><td>SPLUS-n18s51</td><td>iDR3.SPLUS-n18s51.064010</td><td>223.68488701627632</td><td>-22.211282587325645</td><td>5.739599</td><td>20</td><td>4.904819</td><td>12.0</td><td>2</td><td>24.355722</td><td>23.971956</td><td>21.188747</td><td>20.284487</td><td>19.956566</td><td>21.436605</td><td>20.12613</td><td>20.80119</td><td>19.341454</td><td>19.362059</td><td>19.118347</td><td>20.288567</td><td>3.2924269999999995</td><td>3.6305046</td><td>0.51348877</td><td>0.22874185</td><td>0.1628063</td><td>0.20383862</td><td>0.14807905</td><td>0.1104112</td><td>0.04312159</td><td>0.04161243</td><td>0.08101793</td><td>0.17018141</td><td>1.4391309999999997</td><td>1.4597359999999995</td><td>0.11799248881155486</td><td>0.11853313717930569</td><td>128263</td></tr>\n",
       "<tr><td>3975332</td><td>SPLUS-n18s51</td><td>iDR3.SPLUS-n18s51.075638</td><td>223.19705157975392</td><td>-22.214424557477088</td><td>17.487467000000002</td><td>48</td><td>7.0815215</td><td>12.0</td><td>2</td><td>21.816591</td><td>20.992617000000006</td><td>19.527515</td><td>19.73155</td><td>19.424229</td><td>20.671892</td><td>19.959185</td><td>20.629646</td><td>19.58138</td><td>19.847462</td><td>20.23515</td><td>20.130703</td><td>0.32576808</td><td>0.24542922</td><td>0.12302667</td><td>0.14418994</td><td>0.10561375</td><td>0.105656415</td><td>0.12939513</td><td>0.0951716</td><td>0.052194152</td><td>0.06304235</td><td>0.21743388</td><td>0.14790933</td><td>0.7821840000000009</td><td>1.0482660000000017</td><td>0.1141576600149219</td><td>0.10854429026696477</td><td>129151</td></tr>\n",
       "<tr><td>3976810</td><td>SPLUS-n20s34</td><td>iDR3.SPLUS-n20s34.014519</td><td>213.31702693887257</td><td>-26.01634493208086</td><td>3.6704788</td><td>14</td><td>3.691617</td><td>9.0</td><td>0</td><td>23.576733</td><td>99.0</td><td>99.0</td><td>99.0</td><td>21.688992</td><td>21.733334</td><td>22.137728</td><td>20.751568</td><td>18.608204</td><td>20.04173</td><td>19.441074</td><td>19.684662</td><td>1.3971481</td><td>21.722515</td><td>21.041136</td><td>21.185278</td><td>0.7462632</td><td>0.25837842</td><td>0.923838</td><td>0.10671976</td><td>0.024257699</td><td>0.08000948</td><td>0.1005</td><td>0.11595092</td><td>0.7098379999999977</td><td>2.1433639999999983</td><td>0.1333814982084397</td><td>0.10944196240579845</td><td>130629</td></tr>\n",
       "<tr><td>3978885</td><td>SPLUS-n20s34</td><td>iDR3.SPLUS-n20s34.038399</td><td>214.30420075138724</td><td>-25.541470409295396</td><td>4.30813</td><td>23</td><td>5.508179</td><td>10.0</td><td>0</td><td>24.272987</td><td>99.0</td><td>22.83145</td><td>99.0</td><td>22.28772</td><td>22.046783</td><td>23.705685</td><td>20.654823</td><td>18.849983</td><td>19.566824</td><td>19.351635</td><td>19.216925</td><td>2.858965</td><td>21.722515</td><td>2.4747307000000003</td><td>21.185278</td><td>1.2729551</td><td>0.33897665</td><td>3.8383348</td><td>0.09946048</td><td>0.029187126</td><td>0.05252159</td><td>0.09261167</td><td>0.07617132</td><td>1.087999</td><td>1.8048399999999987</td><td>0.11247623970403038</td><td>0.10365459664660452</td><td>132704</td></tr>\n",
       "<tr><td>3980663</td><td>SPLUS-n20s34</td><td>iDR3.SPLUS-n20s34.060190</td><td>214.50989589335015</td><td>-24.88128006347457</td><td>6.349001</td><td>43</td><td>6.085314</td><td>12.0</td><td>0</td><td>20.047379</td><td>20.128721</td><td>19.66985</td><td>20.070583</td><td>20.003502</td><td>20.680779</td><td>19.871622</td><td>20.92759</td><td>19.267475</td><td>18.799885</td><td>19.558472</td><td>18.801052</td><td>0.06611304</td><td>0.115908444</td><td>0.14020482</td><td>0.18023343</td><td>0.17022881</td><td>0.103672035</td><td>0.12615803</td><td>0.12520127</td><td>0.03973712</td><td>0.028313806</td><td>0.111148246</td><td>0.05307892</td><td>2.127704999999999</td><td>1.6601149999999976</td><td>0.12836288256275075</td><td>0.13135599230909606</td><td>134482</td></tr>\n",
       "<tr><td>3983610</td><td>SPLUS-n20s35</td><td>iDR3.SPLUS-n20s35.029580</td><td>215.00989360329586</td><td>-25.837524260782754</td><td>2.7815540000000003</td><td>10</td><td>1.9491162</td><td>11.0</td><td>0</td><td>21.464796</td><td>21.750137</td><td>99.0</td><td>21.419506</td><td>22.1653</td><td>21.206114000000003</td><td>20.790768</td><td>20.686363</td><td>19.982063</td><td>20.648643</td><td>20.272444</td><td>20.45851</td><td>0.19298753</td><td>0.4077679</td><td>21.265266</td><td>0.46151093</td><td>0.8803446</td><td>0.12328261</td><td>0.20108745</td><td>0.08476264</td><td>0.053059738</td><td>0.12424337</td><td>0.19660735</td><td>0.20607573</td><td>0.0377200000000002</td><td>0.7042999999999999</td><td>0.15040319188343879</td><td>0.10000020468178175</td><td>137429</td></tr>\n",
       "<tr><td>3988633</td><td>SPLUS-n20s40</td><td>iDR3.SPLUS-n20s40.008919</td><td>222.97028558374973</td><td>-26.14146584179688</td><td>9.737078</td><td>24</td><td>6.723445</td><td>12.0</td><td>0</td><td>21.46988</td><td>21.23006</td><td>20.787449</td><td>20.699614</td><td>20.82138</td><td>20.78753</td><td>20.145332</td><td>20.53709</td><td>19.50794</td><td>20.646564</td><td>21.46526</td><td>20.97486</td><td>0.1752601</td><td>0.24485329</td><td>0.28498554</td><td>0.24766378</td><td>0.26848552</td><td>0.0913646</td><td>0.11917298</td><td>0.08071701</td><td>0.03915465</td><td>0.14156048</td><td>0.65607285</td><td>0.3661</td><td>-0.10947400000000229</td><td>1.0291499999999978</td><td>0.16295583819296103</td><td>0.08971244239213756</td><td>142452</td></tr>\n",
       "<tr><td>3988827</td><td>SPLUS-n20s40</td><td>iDR3.SPLUS-n20s40.011279</td><td>223.79497437876628</td><td>-26.09729536992714</td><td>6.3070016</td><td>12</td><td>5.102013</td><td>12.0</td><td>0</td><td>21.527458</td><td>21.279995</td><td>20.546307</td><td>20.47854</td><td>20.730755</td><td>22.883451</td><td>20.480576</td><td>20.564026</td><td>19.781158</td><td>20.578617</td><td>19.39439</td><td>20.113417</td><td>0.18381102</td><td>0.25524396</td><td>0.23133422</td><td>0.20791921</td><td>0.25197086</td><td>0.58916783</td><td>0.16025896</td><td>0.08212764</td><td>0.04837628</td><td>0.13361424</td><td>0.101582885</td><td>0.16773579</td><td>-0.014591000000002907</td><td>0.782867999999997</td><td>0.15683658496265213</td><td>0.09531638746096077</td><td>142646</td></tr>\n",
       "</table>"
      ],
      "text/plain": [
       "<Table length=13644>\n",
       "Unnamed: 0    Field     ...      e(r - J0660)     Unnamed: 0.1\n",
       "  int64       str13     ...        float64           int64    \n",
       "---------- ------------ ... --------------------- ------------\n",
       "       954 HYDRA-D-0001 ...  0.002555415196719445           --\n",
       "      1968 HYDRA-D-0001 ...  0.002545069945786742           --\n",
       "      2002 HYDRA-D-0002 ... 0.0038625759447367875           --\n",
       "      2014 HYDRA-D-0002 ...  0.003442855482331207           --\n",
       "      4299 HYDRA-D-0002 ... 0.0023115190216712687           --\n",
       "      5351 HYDRA-D-0003 ... 0.0020203638105900923           --\n",
       "      6687 HYDRA-D-0003 ... 0.0028329961890995493           --\n",
       "      6814 HYDRA-D-0004 ... 0.0024356218048031536           --\n",
       "      6859 HYDRA-D-0004 ...  0.002989053545040236           --\n",
       "      6904 HYDRA-D-0004 ... 0.0023899804028568957           --\n",
       "       ...          ... ...                   ...          ...\n",
       "   3965090 SPLUS-n17s51 ...   0.09599124902147621       118909\n",
       "   3972914 SPLUS-n18s51 ...   0.08424471068246916       126733\n",
       "   3974444 SPLUS-n18s51 ...   0.11853313717930569       128263\n",
       "   3975332 SPLUS-n18s51 ...   0.10854429026696477       129151\n",
       "   3976810 SPLUS-n20s34 ...   0.10944196240579845       130629\n",
       "   3978885 SPLUS-n20s34 ...   0.10365459664660452       132704\n",
       "   3980663 SPLUS-n20s34 ...   0.13135599230909606       134482\n",
       "   3983610 SPLUS-n20s35 ...   0.10000020468178175       137429\n",
       "   3988633 SPLUS-n20s40 ...   0.08971244239213756       142452\n",
       "   3988827 SPLUS-n20s40 ...   0.09531638746096077       142646"
      ]
     },
     "execution_count": 5,
     "metadata": {},
     "output_type": "execute_result"
    }
   ],
   "source": [
    "table_merge"
   ]
  },
  {
   "cell_type": "code",
   "execution_count": 6,
   "metadata": {},
   "outputs": [],
   "source": [
    "table_merge.remove_columns(['Unnamed: 0', 'Unnamed: 0.1'])"
   ]
  },
  {
   "cell_type": "code",
   "execution_count": 8,
   "metadata": {},
   "outputs": [
    {
     "name": "stderr",
     "output_type": "stream",
     "text": [
      "WARNING: AstropyDeprecationWarning: Halpha-DR3_noFlag_merge.ecsv already exists. Automatically overwriting ASCII files is deprecated. Use the argument 'overwrite=True' in the future. [astropy.io.ascii.ui]\n"
     ]
    }
   ],
   "source": [
    "table_merge.write(\"Halpha-DR3_noFlag_merge.ecsv\", format=\"ascii.ecsv\")\n",
    "table_merge.write(\"Halpha-DR3_noFlag_merge.dat\", format=\"ascii.commented_header\")"
   ]
  },
  {
   "cell_type": "markdown",
   "metadata": {},
   "source": [
    "# High FWHM"
   ]
  },
  {
   "cell_type": "code",
   "execution_count": 9,
   "metadata": {},
   "outputs": [],
   "source": [
    "m = table_merge[\"FWHM\"] > 8.0"
   ]
  },
  {
   "cell_type": "code",
   "execution_count": 10,
   "metadata": {},
   "outputs": [],
   "source": [
    "table_merge_ = table_merge[m]"
   ]
  },
  {
   "cell_type": "code",
   "execution_count": 11,
   "metadata": {},
   "outputs": [
    {
     "name": "stderr",
     "output_type": "stream",
     "text": [
      "WARNING: AstropyDeprecationWarning: Halpha_noflat_fwhm8.dat already exists. Automatically overwriting ASCII files is deprecated. Use the argument 'overwrite=True' in the future. [astropy.io.ascii.ui]\n"
     ]
    }
   ],
   "source": [
    "table_merge_.write(\"Halpha_noflat_fwhm8.dat\", format=\"ascii.commented_header\")"
   ]
  },
  {
   "cell_type": "code",
   "execution_count": null,
   "metadata": {},
   "outputs": [],
   "source": []
  },
  {
   "cell_type": "code",
   "execution_count": null,
   "metadata": {},
   "outputs": [],
   "source": []
  }
 ],
 "metadata": {
  "kernelspec": {
   "display_name": "Python 3",
   "language": "python",
   "name": "python3"
  },
  "language_info": {
   "codemirror_mode": {
    "name": "ipython",
    "version": 3
   },
   "file_extension": ".py",
   "mimetype": "text/x-python",
   "name": "python",
   "nbconvert_exporter": "python",
   "pygments_lexer": "ipython3",
   "version": "3.8.5"
  }
 },
 "nbformat": 4,
 "nbformat_minor": 4
}
