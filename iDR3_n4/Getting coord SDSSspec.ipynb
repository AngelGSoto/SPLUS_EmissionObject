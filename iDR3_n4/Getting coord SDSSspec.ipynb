{
 "cells": [
  {
   "cell_type": "code",
   "execution_count": 14,
   "id": "930911f5-b895-48b1-a390-aa9204972f07",
   "metadata": {},
   "outputs": [],
   "source": [
    "import glob\n",
    "import astropy.coordinates as coord\n",
    "import astropy.units as u\n",
    "from astropy.io import fits\n",
    "from astropy.table import Table"
   ]
  },
  {
   "cell_type": "code",
   "execution_count": 15,
   "id": "87d3b986-a830-421d-9d76-74eb5cfee629",
   "metadata": {},
   "outputs": [],
   "source": [
    "filefits = \"SDSS-spectra-all-again/*.fits\"\n",
    "file_list = glob.glob(filefits)"
   ]
  },
  {
   "cell_type": "code",
   "execution_count": 16,
   "id": "da643b9d-9e6f-4570-9f61-fba9be492ac8",
   "metadata": {},
   "outputs": [],
   "source": [
    "ra = []\n",
    "dec = []\n",
    "for hdu_list in file_list:\n",
    "    hdu = fits.open(hdu_list)\n",
    "    ra.append(hdu[0].header[\"PLUG_RA\"])\n",
    "    dec.append(hdu[0].header[\"PLUG_DEC\"])"
   ]
  },
  {
   "cell_type": "code",
   "execution_count": 20,
   "id": "97940237-42ff-4ba7-aca8-f480a121733e",
   "metadata": {},
   "outputs": [],
   "source": [
    "table = Table([ra, dec], names=('RAJ2000', 'DEJ2000'), meta={'name': 'first table'})"
   ]
  },
  {
   "cell_type": "code",
   "execution_count": 21,
   "id": "a90be6c7-173b-4d34-b346-b2d6e9ee15cb",
   "metadata": {},
   "outputs": [
    {
     "data": {
      "text/html": [
       "<div><i>Table length=369</i>\n",
       "<table id=\"table140239316311056\" class=\"table-striped table-bordered table-condensed\">\n",
       "<thead><tr><th>RAJ2000</th><th>DEJ2000</th></tr></thead>\n",
       "<thead><tr><th>float64</th><th>float64</th></tr></thead>\n",
       "<tr><td>150.56599</td><td>-0.18226843</td></tr>\n",
       "<tr><td>173.60214</td><td>1.1542757</td></tr>\n",
       "<tr><td>176.53216</td><td>-0.45802681</td></tr>\n",
       "<tr><td>8.3117996</td><td>0.20101874</td></tr>\n",
       "<tr><td>9.8951018</td><td>0.85988943</td></tr>\n",
       "<tr><td>14.998308</td><td>-0.8658975</td></tr>\n",
       "<tr><td>14.767141</td><td>1.0011388</td></tr>\n",
       "<tr><td>17.283221</td><td>1.1209854</td></tr>\n",
       "<tr><td>21.694099</td><td>-0.64608289</td></tr>\n",
       "<tr><td>8.0355773</td><td>-0.88438087</td></tr>\n",
       "<tr><td>...</td><td>...</td></tr>\n",
       "<tr><td>339.5969299999999</td><td>-0.952284</td></tr>\n",
       "<tr><td>341.41641</td><td>-0.40546601</td></tr>\n",
       "<tr><td>327.54385</td><td>-0.16682801</td></tr>\n",
       "<tr><td>4.917628999999977</td><td>-0.90998398</td></tr>\n",
       "<tr><td>4.380308000000014</td><td>-0.81648599</td></tr>\n",
       "<tr><td>3.363802000000021</td><td>0.87557</td></tr>\n",
       "<tr><td>3.898099999999999</td><td>0.898913</td></tr>\n",
       "<tr><td>1.791723999999988</td><td>0.89140898</td></tr>\n",
       "<tr><td>9.342412000000024</td><td>-0.194614</td></tr>\n",
       "<tr><td>8.178088000000002</td><td>0.519708</td></tr>\n",
       "</table></div>"
      ],
      "text/plain": [
       "<Table length=369>\n",
       "     RAJ2000        DEJ2000  \n",
       "     float64        float64  \n",
       "----------------- -----------\n",
       "        150.56599 -0.18226843\n",
       "        173.60214   1.1542757\n",
       "        176.53216 -0.45802681\n",
       "        8.3117996  0.20101874\n",
       "        9.8951018  0.85988943\n",
       "        14.998308  -0.8658975\n",
       "        14.767141   1.0011388\n",
       "        17.283221   1.1209854\n",
       "        21.694099 -0.64608289\n",
       "        8.0355773 -0.88438087\n",
       "              ...         ...\n",
       "339.5969299999999   -0.952284\n",
       "        341.41641 -0.40546601\n",
       "        327.54385 -0.16682801\n",
       "4.917628999999977 -0.90998398\n",
       "4.380308000000014 -0.81648599\n",
       "3.363802000000021     0.87557\n",
       "3.898099999999999    0.898913\n",
       "1.791723999999988  0.89140898\n",
       "9.342412000000024   -0.194614\n",
       "8.178088000000002    0.519708"
      ]
     },
     "execution_count": 21,
     "metadata": {},
     "output_type": "execute_result"
    }
   ],
   "source": [
    "table"
   ]
  },
  {
   "cell_type": "code",
   "execution_count": 25,
   "id": "17061385-24e8-456e-81e3-d52d781b16ec",
   "metadata": {},
   "outputs": [
    {
     "name": "stderr",
     "output_type": "stream",
     "text": [
      "WARNING: AstropyDeprecationWarning: SDSS-spectra-all-again/sdss-only-coord.dat already exists. Automatically overwriting ASCII files is deprecated. Use the argument 'overwrite=True' in the future. [astropy.io.ascii.ui]\n"
     ]
    }
   ],
   "source": [
    "table.write(\"SDSS-spectra-all-again/sdss-only-coord.dat\", format=\"ascii.commented_header\")"
   ]
  },
  {
   "cell_type": "code",
   "execution_count": 26,
   "id": "f205c0fa-4a0c-4026-810e-e8933263ea07",
   "metadata": {},
   "outputs": [],
   "source": [
    "filefits_lamost = \"LAMOST-spectra-all/*.fits\"\n",
    "file_list_lamost = glob.glob(filefits_lamost)"
   ]
  },
  {
   "cell_type": "code",
   "execution_count": 27,
   "id": "dafc513e-d289-41bf-9aae-0162e45fac0b",
   "metadata": {},
   "outputs": [],
   "source": [
    "ra_lamost = []\n",
    "dec_lamost = []\n",
    "for hdu_list in file_list:\n",
    "    hdu = fits.open(hdu_list)\n",
    "    ra_lamost.append(hdu[0].header[\"RA\"])\n",
    "    dec_lamost.append(hdu[0].header[\"DEC\"])"
   ]
  },
  {
   "cell_type": "code",
   "execution_count": 29,
   "id": "4e956c26-1255-4eea-aebf-6ed61de57295",
   "metadata": {},
   "outputs": [],
   "source": [
    "table_lamost = Table([ra_lamost, dec_lamost], names=('RAJ2000', 'DEJ2000'), meta={'name': 'first table'})\n",
    "table_lamost.write(\"LAMOST-spectra-all/lamost-only-coord.dat\", format=\"ascii.commented_header\")"
   ]
  },
  {
   "cell_type": "code",
   "execution_count": null,
   "id": "aa93da5d-4a33-4b3b-a993-e24f7b3331ab",
   "metadata": {},
   "outputs": [],
   "source": []
  }
 ],
 "metadata": {
  "kernelspec": {
   "display_name": "Python 3",
   "language": "python",
   "name": "python3"
  },
  "language_info": {
   "codemirror_mode": {
    "name": "ipython",
    "version": 3
   },
   "file_extension": ".py",
   "mimetype": "text/x-python",
   "name": "python",
   "nbconvert_exporter": "python",
   "pygments_lexer": "ipython3",
   "version": "3.8.5"
  }
 },
 "nbformat": 4,
 "nbformat_minor": 5
}
